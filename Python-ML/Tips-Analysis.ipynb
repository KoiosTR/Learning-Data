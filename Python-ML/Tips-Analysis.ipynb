{
 "cells": [
  {
   "metadata": {
    "ExecuteTime": {
     "end_time": "2024-09-27T18:50:21.806388Z",
     "start_time": "2024-09-27T18:50:21.803465Z"
    }
   },
   "cell_type": "code",
   "source": [
    "import seaborn as sns\n",
    "import matplotlib.pyplot as plt"
   ],
   "id": "170cb9b8109d219f",
   "outputs": [],
   "execution_count": 2
  },
  {
   "metadata": {
    "ExecuteTime": {
     "end_time": "2024-09-27T18:50:22.141135Z",
     "start_time": "2024-09-27T18:50:22.095066Z"
    }
   },
   "cell_type": "code",
   "source": [
    "tips = sns.load_dataset('tips')\n",
    "df = tips.copy()"
   ],
   "id": "a2ea8be3dc83603e",
   "outputs": [],
   "execution_count": 3
  },
  {
   "metadata": {
    "ExecuteTime": {
     "end_time": "2024-09-27T18:50:22.290288Z",
     "start_time": "2024-09-27T18:50:22.271302Z"
    }
   },
   "cell_type": "code",
   "source": "df.head()",
   "id": "6a5633fc8b0e8164",
   "outputs": [
    {
     "data": {
      "text/plain": [
       "   total_bill   tip     sex smoker  day    time  size\n",
       "0       16.99  1.01  Female     No  Sun  Dinner     2\n",
       "1       10.34  1.66    Male     No  Sun  Dinner     3\n",
       "2       21.01  3.50    Male     No  Sun  Dinner     3\n",
       "3       23.68  3.31    Male     No  Sun  Dinner     2\n",
       "4       24.59  3.61  Female     No  Sun  Dinner     4"
      ],
      "text/html": [
       "<div>\n",
       "<style scoped>\n",
       "    .dataframe tbody tr th:only-of-type {\n",
       "        vertical-align: middle;\n",
       "    }\n",
       "\n",
       "    .dataframe tbody tr th {\n",
       "        vertical-align: top;\n",
       "    }\n",
       "\n",
       "    .dataframe thead th {\n",
       "        text-align: right;\n",
       "    }\n",
       "</style>\n",
       "<table border=\"1\" class=\"dataframe\">\n",
       "  <thead>\n",
       "    <tr style=\"text-align: right;\">\n",
       "      <th></th>\n",
       "      <th>total_bill</th>\n",
       "      <th>tip</th>\n",
       "      <th>sex</th>\n",
       "      <th>smoker</th>\n",
       "      <th>day</th>\n",
       "      <th>time</th>\n",
       "      <th>size</th>\n",
       "    </tr>\n",
       "  </thead>\n",
       "  <tbody>\n",
       "    <tr>\n",
       "      <th>0</th>\n",
       "      <td>16.99</td>\n",
       "      <td>1.01</td>\n",
       "      <td>Female</td>\n",
       "      <td>No</td>\n",
       "      <td>Sun</td>\n",
       "      <td>Dinner</td>\n",
       "      <td>2</td>\n",
       "    </tr>\n",
       "    <tr>\n",
       "      <th>1</th>\n",
       "      <td>10.34</td>\n",
       "      <td>1.66</td>\n",
       "      <td>Male</td>\n",
       "      <td>No</td>\n",
       "      <td>Sun</td>\n",
       "      <td>Dinner</td>\n",
       "      <td>3</td>\n",
       "    </tr>\n",
       "    <tr>\n",
       "      <th>2</th>\n",
       "      <td>21.01</td>\n",
       "      <td>3.50</td>\n",
       "      <td>Male</td>\n",
       "      <td>No</td>\n",
       "      <td>Sun</td>\n",
       "      <td>Dinner</td>\n",
       "      <td>3</td>\n",
       "    </tr>\n",
       "    <tr>\n",
       "      <th>3</th>\n",
       "      <td>23.68</td>\n",
       "      <td>3.31</td>\n",
       "      <td>Male</td>\n",
       "      <td>No</td>\n",
       "      <td>Sun</td>\n",
       "      <td>Dinner</td>\n",
       "      <td>2</td>\n",
       "    </tr>\n",
       "    <tr>\n",
       "      <th>4</th>\n",
       "      <td>24.59</td>\n",
       "      <td>3.61</td>\n",
       "      <td>Female</td>\n",
       "      <td>No</td>\n",
       "      <td>Sun</td>\n",
       "      <td>Dinner</td>\n",
       "      <td>4</td>\n",
       "    </tr>\n",
       "  </tbody>\n",
       "</table>\n",
       "</div>"
      ]
     },
     "execution_count": 4,
     "metadata": {},
     "output_type": "execute_result"
    }
   ],
   "execution_count": 4
  },
  {
   "metadata": {
    "ExecuteTime": {
     "end_time": "2024-09-27T18:50:22.493608Z",
     "start_time": "2024-09-27T18:50:22.485392Z"
    }
   },
   "cell_type": "code",
   "source": "df.tail()",
   "id": "d77b8a878849de11",
   "outputs": [
    {
     "data": {
      "text/plain": [
       "     total_bill   tip     sex smoker   day    time  size\n",
       "239       29.03  5.92    Male     No   Sat  Dinner     3\n",
       "240       27.18  2.00  Female    Yes   Sat  Dinner     2\n",
       "241       22.67  2.00    Male    Yes   Sat  Dinner     2\n",
       "242       17.82  1.75    Male     No   Sat  Dinner     2\n",
       "243       18.78  3.00  Female     No  Thur  Dinner     2"
      ],
      "text/html": [
       "<div>\n",
       "<style scoped>\n",
       "    .dataframe tbody tr th:only-of-type {\n",
       "        vertical-align: middle;\n",
       "    }\n",
       "\n",
       "    .dataframe tbody tr th {\n",
       "        vertical-align: top;\n",
       "    }\n",
       "\n",
       "    .dataframe thead th {\n",
       "        text-align: right;\n",
       "    }\n",
       "</style>\n",
       "<table border=\"1\" class=\"dataframe\">\n",
       "  <thead>\n",
       "    <tr style=\"text-align: right;\">\n",
       "      <th></th>\n",
       "      <th>total_bill</th>\n",
       "      <th>tip</th>\n",
       "      <th>sex</th>\n",
       "      <th>smoker</th>\n",
       "      <th>day</th>\n",
       "      <th>time</th>\n",
       "      <th>size</th>\n",
       "    </tr>\n",
       "  </thead>\n",
       "  <tbody>\n",
       "    <tr>\n",
       "      <th>239</th>\n",
       "      <td>29.03</td>\n",
       "      <td>5.92</td>\n",
       "      <td>Male</td>\n",
       "      <td>No</td>\n",
       "      <td>Sat</td>\n",
       "      <td>Dinner</td>\n",
       "      <td>3</td>\n",
       "    </tr>\n",
       "    <tr>\n",
       "      <th>240</th>\n",
       "      <td>27.18</td>\n",
       "      <td>2.00</td>\n",
       "      <td>Female</td>\n",
       "      <td>Yes</td>\n",
       "      <td>Sat</td>\n",
       "      <td>Dinner</td>\n",
       "      <td>2</td>\n",
       "    </tr>\n",
       "    <tr>\n",
       "      <th>241</th>\n",
       "      <td>22.67</td>\n",
       "      <td>2.00</td>\n",
       "      <td>Male</td>\n",
       "      <td>Yes</td>\n",
       "      <td>Sat</td>\n",
       "      <td>Dinner</td>\n",
       "      <td>2</td>\n",
       "    </tr>\n",
       "    <tr>\n",
       "      <th>242</th>\n",
       "      <td>17.82</td>\n",
       "      <td>1.75</td>\n",
       "      <td>Male</td>\n",
       "      <td>No</td>\n",
       "      <td>Sat</td>\n",
       "      <td>Dinner</td>\n",
       "      <td>2</td>\n",
       "    </tr>\n",
       "    <tr>\n",
       "      <th>243</th>\n",
       "      <td>18.78</td>\n",
       "      <td>3.00</td>\n",
       "      <td>Female</td>\n",
       "      <td>No</td>\n",
       "      <td>Thur</td>\n",
       "      <td>Dinner</td>\n",
       "      <td>2</td>\n",
       "    </tr>\n",
       "  </tbody>\n",
       "</table>\n",
       "</div>"
      ]
     },
     "execution_count": 5,
     "metadata": {},
     "output_type": "execute_result"
    }
   ],
   "execution_count": 5
  },
  {
   "metadata": {
    "ExecuteTime": {
     "end_time": "2024-09-27T18:50:22.696281Z",
     "start_time": "2024-09-27T18:50:22.691351Z"
    }
   },
   "cell_type": "code",
   "source": "df.isnull().sum()",
   "id": "2e1a0f5f22742899",
   "outputs": [
    {
     "data": {
      "text/plain": [
       "total_bill    0\n",
       "tip           0\n",
       "sex           0\n",
       "smoker        0\n",
       "day           0\n",
       "time          0\n",
       "size          0\n",
       "dtype: int64"
      ]
     },
     "execution_count": 6,
     "metadata": {},
     "output_type": "execute_result"
    }
   ],
   "execution_count": 6
  },
  {
   "metadata": {
    "ExecuteTime": {
     "end_time": "2024-09-27T18:50:22.853105Z",
     "start_time": "2024-09-27T18:50:22.832641Z"
    }
   },
   "cell_type": "code",
   "source": "df.info()",
   "id": "bc5e1d9bb61ffa26",
   "outputs": [
    {
     "name": "stdout",
     "output_type": "stream",
     "text": [
      "<class 'pandas.core.frame.DataFrame'>\n",
      "RangeIndex: 244 entries, 0 to 243\n",
      "Data columns (total 7 columns):\n",
      " #   Column      Non-Null Count  Dtype   \n",
      "---  ------      --------------  -----   \n",
      " 0   total_bill  244 non-null    float64 \n",
      " 1   tip         244 non-null    float64 \n",
      " 2   sex         244 non-null    category\n",
      " 3   smoker      244 non-null    category\n",
      " 4   day         244 non-null    category\n",
      " 5   time        244 non-null    category\n",
      " 6   size        244 non-null    int64   \n",
      "dtypes: category(4), float64(2), int64(1)\n",
      "memory usage: 7.4 KB\n"
     ]
    }
   ],
   "execution_count": 7
  },
  {
   "metadata": {
    "ExecuteTime": {
     "end_time": "2024-09-27T18:50:23.088136Z",
     "start_time": "2024-09-27T18:50:23.075866Z"
    }
   },
   "cell_type": "code",
   "source": "df.describe().T",
   "id": "f1e982d84f4d1e4b",
   "outputs": [
    {
     "data": {
      "text/plain": [
       "            count       mean       std   min      25%     50%      75%    max\n",
       "total_bill  244.0  19.785943  8.902412  3.07  13.3475  17.795  24.1275  50.81\n",
       "tip         244.0   2.998279  1.383638  1.00   2.0000   2.900   3.5625  10.00\n",
       "size        244.0   2.569672  0.951100  1.00   2.0000   2.000   3.0000   6.00"
      ],
      "text/html": [
       "<div>\n",
       "<style scoped>\n",
       "    .dataframe tbody tr th:only-of-type {\n",
       "        vertical-align: middle;\n",
       "    }\n",
       "\n",
       "    .dataframe tbody tr th {\n",
       "        vertical-align: top;\n",
       "    }\n",
       "\n",
       "    .dataframe thead th {\n",
       "        text-align: right;\n",
       "    }\n",
       "</style>\n",
       "<table border=\"1\" class=\"dataframe\">\n",
       "  <thead>\n",
       "    <tr style=\"text-align: right;\">\n",
       "      <th></th>\n",
       "      <th>count</th>\n",
       "      <th>mean</th>\n",
       "      <th>std</th>\n",
       "      <th>min</th>\n",
       "      <th>25%</th>\n",
       "      <th>50%</th>\n",
       "      <th>75%</th>\n",
       "      <th>max</th>\n",
       "    </tr>\n",
       "  </thead>\n",
       "  <tbody>\n",
       "    <tr>\n",
       "      <th>total_bill</th>\n",
       "      <td>244.0</td>\n",
       "      <td>19.785943</td>\n",
       "      <td>8.902412</td>\n",
       "      <td>3.07</td>\n",
       "      <td>13.3475</td>\n",
       "      <td>17.795</td>\n",
       "      <td>24.1275</td>\n",
       "      <td>50.81</td>\n",
       "    </tr>\n",
       "    <tr>\n",
       "      <th>tip</th>\n",
       "      <td>244.0</td>\n",
       "      <td>2.998279</td>\n",
       "      <td>1.383638</td>\n",
       "      <td>1.00</td>\n",
       "      <td>2.0000</td>\n",
       "      <td>2.900</td>\n",
       "      <td>3.5625</td>\n",
       "      <td>10.00</td>\n",
       "    </tr>\n",
       "    <tr>\n",
       "      <th>size</th>\n",
       "      <td>244.0</td>\n",
       "      <td>2.569672</td>\n",
       "      <td>0.951100</td>\n",
       "      <td>1.00</td>\n",
       "      <td>2.0000</td>\n",
       "      <td>2.000</td>\n",
       "      <td>3.0000</td>\n",
       "      <td>6.00</td>\n",
       "    </tr>\n",
       "  </tbody>\n",
       "</table>\n",
       "</div>"
      ]
     },
     "execution_count": 8,
     "metadata": {},
     "output_type": "execute_result"
    }
   ],
   "execution_count": 8
  },
  {
   "metadata": {},
   "cell_type": "markdown",
   "source": "# Sütün Adlarını Değiştirme",
   "id": "d743b73c8741f1d2"
  },
  {
   "metadata": {
    "ExecuteTime": {
     "end_time": "2024-09-27T18:50:23.377713Z",
     "start_time": "2024-09-27T18:50:23.371902Z"
    }
   },
   "cell_type": "code",
   "source": [
    "df.rename(columns={'total_bill': 'fiyat',\n",
    "                   'tip': 'bahşiş',\n",
    "                   'sex' : 'cinsiyet',\n",
    "                   'smoker': 'sigara',\n",
    "                   'day': 'gün',\n",
    "                   'time' : 'zaman',\n",
    "                   'size': 'kişiler'}, inplace=True)"
   ],
   "id": "178f46dcd9d7e4ba",
   "outputs": [],
   "execution_count": 9
  },
  {
   "metadata": {
    "ExecuteTime": {
     "end_time": "2024-09-27T18:50:23.563119Z",
     "start_time": "2024-09-27T18:50:23.554668Z"
    }
   },
   "cell_type": "code",
   "source": "df.head()",
   "id": "dcca6cec5a3f540c",
   "outputs": [
    {
     "data": {
      "text/plain": [
       "   fiyat  bahşiş cinsiyet sigara  gün   zaman  kişiler\n",
       "0  16.99    1.01   Female     No  Sun  Dinner        2\n",
       "1  10.34    1.66     Male     No  Sun  Dinner        3\n",
       "2  21.01    3.50     Male     No  Sun  Dinner        3\n",
       "3  23.68    3.31     Male     No  Sun  Dinner        2\n",
       "4  24.59    3.61   Female     No  Sun  Dinner        4"
      ],
      "text/html": [
       "<div>\n",
       "<style scoped>\n",
       "    .dataframe tbody tr th:only-of-type {\n",
       "        vertical-align: middle;\n",
       "    }\n",
       "\n",
       "    .dataframe tbody tr th {\n",
       "        vertical-align: top;\n",
       "    }\n",
       "\n",
       "    .dataframe thead th {\n",
       "        text-align: right;\n",
       "    }\n",
       "</style>\n",
       "<table border=\"1\" class=\"dataframe\">\n",
       "  <thead>\n",
       "    <tr style=\"text-align: right;\">\n",
       "      <th></th>\n",
       "      <th>fiyat</th>\n",
       "      <th>bahşiş</th>\n",
       "      <th>cinsiyet</th>\n",
       "      <th>sigara</th>\n",
       "      <th>gün</th>\n",
       "      <th>zaman</th>\n",
       "      <th>kişiler</th>\n",
       "    </tr>\n",
       "  </thead>\n",
       "  <tbody>\n",
       "    <tr>\n",
       "      <th>0</th>\n",
       "      <td>16.99</td>\n",
       "      <td>1.01</td>\n",
       "      <td>Female</td>\n",
       "      <td>No</td>\n",
       "      <td>Sun</td>\n",
       "      <td>Dinner</td>\n",
       "      <td>2</td>\n",
       "    </tr>\n",
       "    <tr>\n",
       "      <th>1</th>\n",
       "      <td>10.34</td>\n",
       "      <td>1.66</td>\n",
       "      <td>Male</td>\n",
       "      <td>No</td>\n",
       "      <td>Sun</td>\n",
       "      <td>Dinner</td>\n",
       "      <td>3</td>\n",
       "    </tr>\n",
       "    <tr>\n",
       "      <th>2</th>\n",
       "      <td>21.01</td>\n",
       "      <td>3.50</td>\n",
       "      <td>Male</td>\n",
       "      <td>No</td>\n",
       "      <td>Sun</td>\n",
       "      <td>Dinner</td>\n",
       "      <td>3</td>\n",
       "    </tr>\n",
       "    <tr>\n",
       "      <th>3</th>\n",
       "      <td>23.68</td>\n",
       "      <td>3.31</td>\n",
       "      <td>Male</td>\n",
       "      <td>No</td>\n",
       "      <td>Sun</td>\n",
       "      <td>Dinner</td>\n",
       "      <td>2</td>\n",
       "    </tr>\n",
       "    <tr>\n",
       "      <th>4</th>\n",
       "      <td>24.59</td>\n",
       "      <td>3.61</td>\n",
       "      <td>Female</td>\n",
       "      <td>No</td>\n",
       "      <td>Sun</td>\n",
       "      <td>Dinner</td>\n",
       "      <td>4</td>\n",
       "    </tr>\n",
       "  </tbody>\n",
       "</table>\n",
       "</div>"
      ]
     },
     "execution_count": 10,
     "metadata": {},
     "output_type": "execute_result"
    }
   ],
   "execution_count": 10
  },
  {
   "metadata": {},
   "cell_type": "markdown",
   "source": "# İçeriklerin Değişmesi",
   "id": "c61fc19b336d4d3b"
  },
  {
   "metadata": {},
   "cell_type": "markdown",
   "source": "**Cinsiyet**",
   "id": "af1cae9e13f14add"
  },
  {
   "metadata": {
    "ExecuteTime": {
     "end_time": "2024-09-27T18:50:24.144929Z",
     "start_time": "2024-09-27T18:50:24.138458Z"
    }
   },
   "cell_type": "code",
   "source": "df[\"cinsiyet\"] = df.cinsiyet.map({\"Female\": \"Kadın\",\"Male\": \"Erkek\"})",
   "id": "ebdc98d6105089d3",
   "outputs": [],
   "execution_count": 11
  },
  {
   "metadata": {
    "ExecuteTime": {
     "end_time": "2024-09-27T18:50:24.342791Z",
     "start_time": "2024-09-27T18:50:24.333079Z"
    }
   },
   "cell_type": "code",
   "source": "df",
   "id": "80f4d6fc332edbd8",
   "outputs": [
    {
     "data": {
      "text/plain": [
       "     fiyat  bahşiş cinsiyet sigara   gün   zaman  kişiler\n",
       "0    16.99    1.01    Kadın     No   Sun  Dinner        2\n",
       "1    10.34    1.66    Erkek     No   Sun  Dinner        3\n",
       "2    21.01    3.50    Erkek     No   Sun  Dinner        3\n",
       "3    23.68    3.31    Erkek     No   Sun  Dinner        2\n",
       "4    24.59    3.61    Kadın     No   Sun  Dinner        4\n",
       "..     ...     ...      ...    ...   ...     ...      ...\n",
       "239  29.03    5.92    Erkek     No   Sat  Dinner        3\n",
       "240  27.18    2.00    Kadın    Yes   Sat  Dinner        2\n",
       "241  22.67    2.00    Erkek    Yes   Sat  Dinner        2\n",
       "242  17.82    1.75    Erkek     No   Sat  Dinner        2\n",
       "243  18.78    3.00    Kadın     No  Thur  Dinner        2\n",
       "\n",
       "[244 rows x 7 columns]"
      ],
      "text/html": [
       "<div>\n",
       "<style scoped>\n",
       "    .dataframe tbody tr th:only-of-type {\n",
       "        vertical-align: middle;\n",
       "    }\n",
       "\n",
       "    .dataframe tbody tr th {\n",
       "        vertical-align: top;\n",
       "    }\n",
       "\n",
       "    .dataframe thead th {\n",
       "        text-align: right;\n",
       "    }\n",
       "</style>\n",
       "<table border=\"1\" class=\"dataframe\">\n",
       "  <thead>\n",
       "    <tr style=\"text-align: right;\">\n",
       "      <th></th>\n",
       "      <th>fiyat</th>\n",
       "      <th>bahşiş</th>\n",
       "      <th>cinsiyet</th>\n",
       "      <th>sigara</th>\n",
       "      <th>gün</th>\n",
       "      <th>zaman</th>\n",
       "      <th>kişiler</th>\n",
       "    </tr>\n",
       "  </thead>\n",
       "  <tbody>\n",
       "    <tr>\n",
       "      <th>0</th>\n",
       "      <td>16.99</td>\n",
       "      <td>1.01</td>\n",
       "      <td>Kadın</td>\n",
       "      <td>No</td>\n",
       "      <td>Sun</td>\n",
       "      <td>Dinner</td>\n",
       "      <td>2</td>\n",
       "    </tr>\n",
       "    <tr>\n",
       "      <th>1</th>\n",
       "      <td>10.34</td>\n",
       "      <td>1.66</td>\n",
       "      <td>Erkek</td>\n",
       "      <td>No</td>\n",
       "      <td>Sun</td>\n",
       "      <td>Dinner</td>\n",
       "      <td>3</td>\n",
       "    </tr>\n",
       "    <tr>\n",
       "      <th>2</th>\n",
       "      <td>21.01</td>\n",
       "      <td>3.50</td>\n",
       "      <td>Erkek</td>\n",
       "      <td>No</td>\n",
       "      <td>Sun</td>\n",
       "      <td>Dinner</td>\n",
       "      <td>3</td>\n",
       "    </tr>\n",
       "    <tr>\n",
       "      <th>3</th>\n",
       "      <td>23.68</td>\n",
       "      <td>3.31</td>\n",
       "      <td>Erkek</td>\n",
       "      <td>No</td>\n",
       "      <td>Sun</td>\n",
       "      <td>Dinner</td>\n",
       "      <td>2</td>\n",
       "    </tr>\n",
       "    <tr>\n",
       "      <th>4</th>\n",
       "      <td>24.59</td>\n",
       "      <td>3.61</td>\n",
       "      <td>Kadın</td>\n",
       "      <td>No</td>\n",
       "      <td>Sun</td>\n",
       "      <td>Dinner</td>\n",
       "      <td>4</td>\n",
       "    </tr>\n",
       "    <tr>\n",
       "      <th>...</th>\n",
       "      <td>...</td>\n",
       "      <td>...</td>\n",
       "      <td>...</td>\n",
       "      <td>...</td>\n",
       "      <td>...</td>\n",
       "      <td>...</td>\n",
       "      <td>...</td>\n",
       "    </tr>\n",
       "    <tr>\n",
       "      <th>239</th>\n",
       "      <td>29.03</td>\n",
       "      <td>5.92</td>\n",
       "      <td>Erkek</td>\n",
       "      <td>No</td>\n",
       "      <td>Sat</td>\n",
       "      <td>Dinner</td>\n",
       "      <td>3</td>\n",
       "    </tr>\n",
       "    <tr>\n",
       "      <th>240</th>\n",
       "      <td>27.18</td>\n",
       "      <td>2.00</td>\n",
       "      <td>Kadın</td>\n",
       "      <td>Yes</td>\n",
       "      <td>Sat</td>\n",
       "      <td>Dinner</td>\n",
       "      <td>2</td>\n",
       "    </tr>\n",
       "    <tr>\n",
       "      <th>241</th>\n",
       "      <td>22.67</td>\n",
       "      <td>2.00</td>\n",
       "      <td>Erkek</td>\n",
       "      <td>Yes</td>\n",
       "      <td>Sat</td>\n",
       "      <td>Dinner</td>\n",
       "      <td>2</td>\n",
       "    </tr>\n",
       "    <tr>\n",
       "      <th>242</th>\n",
       "      <td>17.82</td>\n",
       "      <td>1.75</td>\n",
       "      <td>Erkek</td>\n",
       "      <td>No</td>\n",
       "      <td>Sat</td>\n",
       "      <td>Dinner</td>\n",
       "      <td>2</td>\n",
       "    </tr>\n",
       "    <tr>\n",
       "      <th>243</th>\n",
       "      <td>18.78</td>\n",
       "      <td>3.00</td>\n",
       "      <td>Kadın</td>\n",
       "      <td>No</td>\n",
       "      <td>Thur</td>\n",
       "      <td>Dinner</td>\n",
       "      <td>2</td>\n",
       "    </tr>\n",
       "  </tbody>\n",
       "</table>\n",
       "<p>244 rows × 7 columns</p>\n",
       "</div>"
      ]
     },
     "execution_count": 12,
     "metadata": {},
     "output_type": "execute_result"
    }
   ],
   "execution_count": 12
  },
  {
   "metadata": {
    "ExecuteTime": {
     "end_time": "2024-09-27T18:50:24.589247Z",
     "start_time": "2024-09-27T18:50:24.564371Z"
    }
   },
   "cell_type": "code",
   "source": "df.Cinsiyet.unique()",
   "id": "824e0667f4feb728",
   "outputs": [
    {
     "ename": "AttributeError",
     "evalue": "'DataFrame' object has no attribute 'Cinsiyet'",
     "output_type": "error",
     "traceback": [
      "\u001B[1;31m---------------------------------------------------------------------------\u001B[0m",
      "\u001B[1;31mAttributeError\u001B[0m                            Traceback (most recent call last)",
      "\u001B[1;32m~\\AppData\\Local\\Temp\\ipykernel_15972\\3898508448.py\u001B[0m in \u001B[0;36m?\u001B[1;34m()\u001B[0m\n\u001B[1;32m----> 1\u001B[1;33m \u001B[0mdf\u001B[0m\u001B[1;33m.\u001B[0m\u001B[0mCinsiyet\u001B[0m\u001B[1;33m.\u001B[0m\u001B[0munique\u001B[0m\u001B[1;33m(\u001B[0m\u001B[1;33m)\u001B[0m\u001B[1;33m\u001B[0m\u001B[1;33m\u001B[0m\u001B[0m\n\u001B[0m",
      "\u001B[1;32m~\\anaconda3\\Lib\\site-packages\\pandas\\core\\generic.py\u001B[0m in \u001B[0;36m?\u001B[1;34m(self, name)\u001B[0m\n\u001B[0;32m   6295\u001B[0m             \u001B[1;32mand\u001B[0m \u001B[0mname\u001B[0m \u001B[1;32mnot\u001B[0m \u001B[1;32min\u001B[0m \u001B[0mself\u001B[0m\u001B[1;33m.\u001B[0m\u001B[0m_accessors\u001B[0m\u001B[1;33m\u001B[0m\u001B[1;33m\u001B[0m\u001B[0m\n\u001B[0;32m   6296\u001B[0m             \u001B[1;32mand\u001B[0m \u001B[0mself\u001B[0m\u001B[1;33m.\u001B[0m\u001B[0m_info_axis\u001B[0m\u001B[1;33m.\u001B[0m\u001B[0m_can_hold_identifiers_and_holds_name\u001B[0m\u001B[1;33m(\u001B[0m\u001B[0mname\u001B[0m\u001B[1;33m)\u001B[0m\u001B[1;33m\u001B[0m\u001B[1;33m\u001B[0m\u001B[0m\n\u001B[0;32m   6297\u001B[0m         \u001B[1;33m)\u001B[0m\u001B[1;33m:\u001B[0m\u001B[1;33m\u001B[0m\u001B[1;33m\u001B[0m\u001B[0m\n\u001B[0;32m   6298\u001B[0m             \u001B[1;32mreturn\u001B[0m \u001B[0mself\u001B[0m\u001B[1;33m[\u001B[0m\u001B[0mname\u001B[0m\u001B[1;33m]\u001B[0m\u001B[1;33m\u001B[0m\u001B[1;33m\u001B[0m\u001B[0m\n\u001B[1;32m-> 6299\u001B[1;33m         \u001B[1;32mreturn\u001B[0m \u001B[0mobject\u001B[0m\u001B[1;33m.\u001B[0m\u001B[0m__getattribute__\u001B[0m\u001B[1;33m(\u001B[0m\u001B[0mself\u001B[0m\u001B[1;33m,\u001B[0m \u001B[0mname\u001B[0m\u001B[1;33m)\u001B[0m\u001B[1;33m\u001B[0m\u001B[1;33m\u001B[0m\u001B[0m\n\u001B[0m",
      "\u001B[1;31mAttributeError\u001B[0m: 'DataFrame' object has no attribute 'Cinsiyet'"
     ]
    }
   ],
   "execution_count": 13
  },
  {
   "metadata": {},
   "cell_type": "markdown",
   "source": "**Sigara**",
   "id": "26891703598e801c"
  },
  {
   "metadata": {
    "ExecuteTime": {
     "end_time": "2024-09-27T18:50:25.048394Z",
     "start_time": "2024-09-27T18:50:25.040427Z"
    }
   },
   "cell_type": "code",
   "source": "df.sigara.unique()",
   "id": "2eb3f28e20fabff",
   "outputs": [
    {
     "data": {
      "text/plain": [
       "['No', 'Yes']\n",
       "Categories (2, object): ['Yes', 'No']"
      ]
     },
     "execution_count": 14,
     "metadata": {},
     "output_type": "execute_result"
    }
   ],
   "execution_count": 14
  },
  {
   "metadata": {
    "ExecuteTime": {
     "end_time": "2024-09-27T18:50:25.301406Z",
     "start_time": "2024-09-27T18:50:25.296601Z"
    }
   },
   "cell_type": "code",
   "source": "df[\"sigara\"] = df.sigara.map({\"Yes\": \"Evet\", \"No\": \"Hayır\"})",
   "id": "28e3f3f1037ca3e0",
   "outputs": [],
   "execution_count": 15
  },
  {
   "metadata": {
    "ExecuteTime": {
     "end_time": "2024-09-27T18:50:25.527754Z",
     "start_time": "2024-09-27T18:50:25.519324Z"
    }
   },
   "cell_type": "code",
   "source": "df.head()",
   "id": "eeb34d5abcd51d45",
   "outputs": [
    {
     "data": {
      "text/plain": [
       "   fiyat  bahşiş cinsiyet sigara  gün   zaman  kişiler\n",
       "0  16.99    1.01    Kadın  Hayır  Sun  Dinner        2\n",
       "1  10.34    1.66    Erkek  Hayır  Sun  Dinner        3\n",
       "2  21.01    3.50    Erkek  Hayır  Sun  Dinner        3\n",
       "3  23.68    3.31    Erkek  Hayır  Sun  Dinner        2\n",
       "4  24.59    3.61    Kadın  Hayır  Sun  Dinner        4"
      ],
      "text/html": [
       "<div>\n",
       "<style scoped>\n",
       "    .dataframe tbody tr th:only-of-type {\n",
       "        vertical-align: middle;\n",
       "    }\n",
       "\n",
       "    .dataframe tbody tr th {\n",
       "        vertical-align: top;\n",
       "    }\n",
       "\n",
       "    .dataframe thead th {\n",
       "        text-align: right;\n",
       "    }\n",
       "</style>\n",
       "<table border=\"1\" class=\"dataframe\">\n",
       "  <thead>\n",
       "    <tr style=\"text-align: right;\">\n",
       "      <th></th>\n",
       "      <th>fiyat</th>\n",
       "      <th>bahşiş</th>\n",
       "      <th>cinsiyet</th>\n",
       "      <th>sigara</th>\n",
       "      <th>gün</th>\n",
       "      <th>zaman</th>\n",
       "      <th>kişiler</th>\n",
       "    </tr>\n",
       "  </thead>\n",
       "  <tbody>\n",
       "    <tr>\n",
       "      <th>0</th>\n",
       "      <td>16.99</td>\n",
       "      <td>1.01</td>\n",
       "      <td>Kadın</td>\n",
       "      <td>Hayır</td>\n",
       "      <td>Sun</td>\n",
       "      <td>Dinner</td>\n",
       "      <td>2</td>\n",
       "    </tr>\n",
       "    <tr>\n",
       "      <th>1</th>\n",
       "      <td>10.34</td>\n",
       "      <td>1.66</td>\n",
       "      <td>Erkek</td>\n",
       "      <td>Hayır</td>\n",
       "      <td>Sun</td>\n",
       "      <td>Dinner</td>\n",
       "      <td>3</td>\n",
       "    </tr>\n",
       "    <tr>\n",
       "      <th>2</th>\n",
       "      <td>21.01</td>\n",
       "      <td>3.50</td>\n",
       "      <td>Erkek</td>\n",
       "      <td>Hayır</td>\n",
       "      <td>Sun</td>\n",
       "      <td>Dinner</td>\n",
       "      <td>3</td>\n",
       "    </tr>\n",
       "    <tr>\n",
       "      <th>3</th>\n",
       "      <td>23.68</td>\n",
       "      <td>3.31</td>\n",
       "      <td>Erkek</td>\n",
       "      <td>Hayır</td>\n",
       "      <td>Sun</td>\n",
       "      <td>Dinner</td>\n",
       "      <td>2</td>\n",
       "    </tr>\n",
       "    <tr>\n",
       "      <th>4</th>\n",
       "      <td>24.59</td>\n",
       "      <td>3.61</td>\n",
       "      <td>Kadın</td>\n",
       "      <td>Hayır</td>\n",
       "      <td>Sun</td>\n",
       "      <td>Dinner</td>\n",
       "      <td>4</td>\n",
       "    </tr>\n",
       "  </tbody>\n",
       "</table>\n",
       "</div>"
      ]
     },
     "execution_count": 16,
     "metadata": {},
     "output_type": "execute_result"
    }
   ],
   "execution_count": 16
  },
  {
   "metadata": {},
   "cell_type": "markdown",
   "source": "**Gün**",
   "id": "a17001a2c9ecdf9c"
  },
  {
   "metadata": {
    "ExecuteTime": {
     "end_time": "2024-09-27T18:50:26.035727Z",
     "start_time": "2024-09-27T18:50:26.027518Z"
    }
   },
   "cell_type": "code",
   "source": "df.gün.unique()",
   "id": "1c6c3ce7be084c41",
   "outputs": [
    {
     "data": {
      "text/plain": [
       "['Sun', 'Sat', 'Thur', 'Fri']\n",
       "Categories (4, object): ['Thur', 'Fri', 'Sat', 'Sun']"
      ]
     },
     "execution_count": 17,
     "metadata": {},
     "output_type": "execute_result"
    }
   ],
   "execution_count": 17
  },
  {
   "metadata": {
    "ExecuteTime": {
     "end_time": "2024-09-27T18:50:27.294729Z",
     "start_time": "2024-09-27T18:50:27.291266Z"
    }
   },
   "cell_type": "code",
   "source": "df[\"gün\"] = df.gün.map({\"Thur\": \"Perşembe\", \"Fri\": \"Cuma\", \"Sat\": \"Cumartesi\", \"Sun\": \"Pazar\"})",
   "id": "4f766d6a73d6d7a0",
   "outputs": [],
   "execution_count": 18
  },
  {
   "metadata": {
    "ExecuteTime": {
     "end_time": "2024-09-27T18:50:27.872621Z",
     "start_time": "2024-09-27T18:50:27.864981Z"
    }
   },
   "cell_type": "code",
   "source": "df.head()",
   "id": "c7853e8f30c040e7",
   "outputs": [
    {
     "data": {
      "text/plain": [
       "   fiyat  bahşiş cinsiyet sigara    gün   zaman  kişiler\n",
       "0  16.99    1.01    Kadın  Hayır  Pazar  Dinner        2\n",
       "1  10.34    1.66    Erkek  Hayır  Pazar  Dinner        3\n",
       "2  21.01    3.50    Erkek  Hayır  Pazar  Dinner        3\n",
       "3  23.68    3.31    Erkek  Hayır  Pazar  Dinner        2\n",
       "4  24.59    3.61    Kadın  Hayır  Pazar  Dinner        4"
      ],
      "text/html": [
       "<div>\n",
       "<style scoped>\n",
       "    .dataframe tbody tr th:only-of-type {\n",
       "        vertical-align: middle;\n",
       "    }\n",
       "\n",
       "    .dataframe tbody tr th {\n",
       "        vertical-align: top;\n",
       "    }\n",
       "\n",
       "    .dataframe thead th {\n",
       "        text-align: right;\n",
       "    }\n",
       "</style>\n",
       "<table border=\"1\" class=\"dataframe\">\n",
       "  <thead>\n",
       "    <tr style=\"text-align: right;\">\n",
       "      <th></th>\n",
       "      <th>fiyat</th>\n",
       "      <th>bahşiş</th>\n",
       "      <th>cinsiyet</th>\n",
       "      <th>sigara</th>\n",
       "      <th>gün</th>\n",
       "      <th>zaman</th>\n",
       "      <th>kişiler</th>\n",
       "    </tr>\n",
       "  </thead>\n",
       "  <tbody>\n",
       "    <tr>\n",
       "      <th>0</th>\n",
       "      <td>16.99</td>\n",
       "      <td>1.01</td>\n",
       "      <td>Kadın</td>\n",
       "      <td>Hayır</td>\n",
       "      <td>Pazar</td>\n",
       "      <td>Dinner</td>\n",
       "      <td>2</td>\n",
       "    </tr>\n",
       "    <tr>\n",
       "      <th>1</th>\n",
       "      <td>10.34</td>\n",
       "      <td>1.66</td>\n",
       "      <td>Erkek</td>\n",
       "      <td>Hayır</td>\n",
       "      <td>Pazar</td>\n",
       "      <td>Dinner</td>\n",
       "      <td>3</td>\n",
       "    </tr>\n",
       "    <tr>\n",
       "      <th>2</th>\n",
       "      <td>21.01</td>\n",
       "      <td>3.50</td>\n",
       "      <td>Erkek</td>\n",
       "      <td>Hayır</td>\n",
       "      <td>Pazar</td>\n",
       "      <td>Dinner</td>\n",
       "      <td>3</td>\n",
       "    </tr>\n",
       "    <tr>\n",
       "      <th>3</th>\n",
       "      <td>23.68</td>\n",
       "      <td>3.31</td>\n",
       "      <td>Erkek</td>\n",
       "      <td>Hayır</td>\n",
       "      <td>Pazar</td>\n",
       "      <td>Dinner</td>\n",
       "      <td>2</td>\n",
       "    </tr>\n",
       "    <tr>\n",
       "      <th>4</th>\n",
       "      <td>24.59</td>\n",
       "      <td>3.61</td>\n",
       "      <td>Kadın</td>\n",
       "      <td>Hayır</td>\n",
       "      <td>Pazar</td>\n",
       "      <td>Dinner</td>\n",
       "      <td>4</td>\n",
       "    </tr>\n",
       "  </tbody>\n",
       "</table>\n",
       "</div>"
      ]
     },
     "execution_count": 19,
     "metadata": {},
     "output_type": "execute_result"
    }
   ],
   "execution_count": 19
  },
  {
   "metadata": {},
   "cell_type": "markdown",
   "source": "**Zaman**",
   "id": "7426f7b21928de28"
  },
  {
   "metadata": {
    "ExecuteTime": {
     "end_time": "2024-09-27T18:50:29.346898Z",
     "start_time": "2024-09-27T18:50:29.338788Z"
    }
   },
   "cell_type": "code",
   "source": "df.zaman.unique()",
   "id": "5dfe6914855de57f",
   "outputs": [
    {
     "data": {
      "text/plain": [
       "['Dinner', 'Lunch']\n",
       "Categories (2, object): ['Lunch', 'Dinner']"
      ]
     },
     "execution_count": 20,
     "metadata": {},
     "output_type": "execute_result"
    }
   ],
   "execution_count": 20
  },
  {
   "metadata": {
    "ExecuteTime": {
     "end_time": "2024-09-27T18:50:29.668439Z",
     "start_time": "2024-09-27T18:50:29.664499Z"
    }
   },
   "cell_type": "code",
   "source": "df[\"zaman\"] = df.zaman.map({\"Lunch\": \"Oglen\", \"Dinner\": \"Akşam\"})",
   "id": "987736270647fda4",
   "outputs": [],
   "execution_count": 21
  },
  {
   "metadata": {
    "ExecuteTime": {
     "end_time": "2024-09-27T18:50:29.932260Z",
     "start_time": "2024-09-27T18:50:29.924232Z"
    }
   },
   "cell_type": "code",
   "source": "df.head()",
   "id": "a532b86a37435933",
   "outputs": [
    {
     "data": {
      "text/plain": [
       "   fiyat  bahşiş cinsiyet sigara    gün  zaman  kişiler\n",
       "0  16.99    1.01    Kadın  Hayır  Pazar  Akşam        2\n",
       "1  10.34    1.66    Erkek  Hayır  Pazar  Akşam        3\n",
       "2  21.01    3.50    Erkek  Hayır  Pazar  Akşam        3\n",
       "3  23.68    3.31    Erkek  Hayır  Pazar  Akşam        2\n",
       "4  24.59    3.61    Kadın  Hayır  Pazar  Akşam        4"
      ],
      "text/html": [
       "<div>\n",
       "<style scoped>\n",
       "    .dataframe tbody tr th:only-of-type {\n",
       "        vertical-align: middle;\n",
       "    }\n",
       "\n",
       "    .dataframe tbody tr th {\n",
       "        vertical-align: top;\n",
       "    }\n",
       "\n",
       "    .dataframe thead th {\n",
       "        text-align: right;\n",
       "    }\n",
       "</style>\n",
       "<table border=\"1\" class=\"dataframe\">\n",
       "  <thead>\n",
       "    <tr style=\"text-align: right;\">\n",
       "      <th></th>\n",
       "      <th>fiyat</th>\n",
       "      <th>bahşiş</th>\n",
       "      <th>cinsiyet</th>\n",
       "      <th>sigara</th>\n",
       "      <th>gün</th>\n",
       "      <th>zaman</th>\n",
       "      <th>kişiler</th>\n",
       "    </tr>\n",
       "  </thead>\n",
       "  <tbody>\n",
       "    <tr>\n",
       "      <th>0</th>\n",
       "      <td>16.99</td>\n",
       "      <td>1.01</td>\n",
       "      <td>Kadın</td>\n",
       "      <td>Hayır</td>\n",
       "      <td>Pazar</td>\n",
       "      <td>Akşam</td>\n",
       "      <td>2</td>\n",
       "    </tr>\n",
       "    <tr>\n",
       "      <th>1</th>\n",
       "      <td>10.34</td>\n",
       "      <td>1.66</td>\n",
       "      <td>Erkek</td>\n",
       "      <td>Hayır</td>\n",
       "      <td>Pazar</td>\n",
       "      <td>Akşam</td>\n",
       "      <td>3</td>\n",
       "    </tr>\n",
       "    <tr>\n",
       "      <th>2</th>\n",
       "      <td>21.01</td>\n",
       "      <td>3.50</td>\n",
       "      <td>Erkek</td>\n",
       "      <td>Hayır</td>\n",
       "      <td>Pazar</td>\n",
       "      <td>Akşam</td>\n",
       "      <td>3</td>\n",
       "    </tr>\n",
       "    <tr>\n",
       "      <th>3</th>\n",
       "      <td>23.68</td>\n",
       "      <td>3.31</td>\n",
       "      <td>Erkek</td>\n",
       "      <td>Hayır</td>\n",
       "      <td>Pazar</td>\n",
       "      <td>Akşam</td>\n",
       "      <td>2</td>\n",
       "    </tr>\n",
       "    <tr>\n",
       "      <th>4</th>\n",
       "      <td>24.59</td>\n",
       "      <td>3.61</td>\n",
       "      <td>Kadın</td>\n",
       "      <td>Hayır</td>\n",
       "      <td>Pazar</td>\n",
       "      <td>Akşam</td>\n",
       "      <td>4</td>\n",
       "    </tr>\n",
       "  </tbody>\n",
       "</table>\n",
       "</div>"
      ]
     },
     "execution_count": 22,
     "metadata": {},
     "output_type": "execute_result"
    }
   ],
   "execution_count": 22
  },
  {
   "metadata": {
    "ExecuteTime": {
     "end_time": "2024-09-27T18:50:30.449897Z",
     "start_time": "2024-09-27T18:50:30.174062Z"
    }
   },
   "cell_type": "code",
   "source": [
    "df.gün.value_counts().plot(kind = \"pie\", autopct = \"%.1f%%\")\n",
    "plt.ylabel(\"\")\n",
    "plt.xlabel(\"Günler\")"
   ],
   "id": "c13cd97f31a5c783",
   "outputs": [
    {
     "data": {
      "text/plain": [
       "Text(0.5, 0, 'Günler')"
      ]
     },
     "execution_count": 23,
     "metadata": {},
     "output_type": "execute_result"
    },
    {
     "data": {
      "text/plain": [
       "<Figure size 640x480 with 1 Axes>"
      ],
      "image/png": "[encoded data removed]"
     },
     "metadata": {},
     "output_type": "display_data"
    }
   ],
   "execution_count": 23
  },
  {
   "metadata": {
    "ExecuteTime": {
     "end_time": "2024-09-27T18:50:30.506918Z",
     "start_time": "2024-09-27T18:50:30.450912Z"
    }
   },
   "cell_type": "code",
   "source": [
    "df.cinsiyet.value_counts().plot(kind=\"pie\", autopct=\"%.1f%%\")\n",
    "plt.ylabel(\"\")\n",
    "plt.xlabel(\"Cinsiyet\")\n"
   ],
   "id": "4c7dd278bb87f3f5",
   "outputs": [
    {
     "data": {
      "text/plain": [
       "Text(0.5, 0, 'Cinsiyet')"
      ]
     },
     "execution_count": 24,
     "metadata": {},
     "output_type": "execute_result"
    },
    {
     "data": {
      "text/plain": [
       "<Figure size 640x480 with 1 Axes>"
      ],
      "image/png": "[encoded data removed]"
     },
     "metadata": {},
     "output_type": "display_data"
    }
   ],
   "execution_count": 24
  },
  {
   "metadata": {
    "ExecuteTime": {
     "end_time": "2024-09-27T18:50:30.637400Z",
     "start_time": "2024-09-27T18:50:30.626851Z"
    }
   },
   "cell_type": "code",
   "source": "df.head()",
   "id": "c9433212ac239cf2",
   "outputs": [
    {
     "data": {
      "text/plain": [
       "   fiyat  bahşiş cinsiyet sigara    gün  zaman  kişiler\n",
       "0  16.99    1.01    Kadın  Hayır  Pazar  Akşam        2\n",
       "1  10.34    1.66    Erkek  Hayır  Pazar  Akşam        3\n",
       "2  21.01    3.50    Erkek  Hayır  Pazar  Akşam        3\n",
       "3  23.68    3.31    Erkek  Hayır  Pazar  Akşam        2\n",
       "4  24.59    3.61    Kadın  Hayır  Pazar  Akşam        4"
      ],
      "text/html": [
       "<div>\n",
       "<style scoped>\n",
       "    .dataframe tbody tr th:only-of-type {\n",
       "        vertical-align: middle;\n",
       "    }\n",
       "\n",
       "    .dataframe tbody tr th {\n",
       "        vertical-align: top;\n",
       "    }\n",
       "\n",
       "    .dataframe thead th {\n",
       "        text-align: right;\n",
       "    }\n",
       "</style>\n",
       "<table border=\"1\" class=\"dataframe\">\n",
       "  <thead>\n",
       "    <tr style=\"text-align: right;\">\n",
       "      <th></th>\n",
       "      <th>fiyat</th>\n",
       "      <th>bahşiş</th>\n",
       "      <th>cinsiyet</th>\n",
       "      <th>sigara</th>\n",
       "      <th>gün</th>\n",
       "      <th>zaman</th>\n",
       "      <th>kişiler</th>\n",
       "    </tr>\n",
       "  </thead>\n",
       "  <tbody>\n",
       "    <tr>\n",
       "      <th>0</th>\n",
       "      <td>16.99</td>\n",
       "      <td>1.01</td>\n",
       "      <td>Kadın</td>\n",
       "      <td>Hayır</td>\n",
       "      <td>Pazar</td>\n",
       "      <td>Akşam</td>\n",
       "      <td>2</td>\n",
       "    </tr>\n",
       "    <tr>\n",
       "      <th>1</th>\n",
       "      <td>10.34</td>\n",
       "      <td>1.66</td>\n",
       "      <td>Erkek</td>\n",
       "      <td>Hayır</td>\n",
       "      <td>Pazar</td>\n",
       "      <td>Akşam</td>\n",
       "      <td>3</td>\n",
       "    </tr>\n",
       "    <tr>\n",
       "      <th>2</th>\n",
       "      <td>21.01</td>\n",
       "      <td>3.50</td>\n",
       "      <td>Erkek</td>\n",
       "      <td>Hayır</td>\n",
       "      <td>Pazar</td>\n",
       "      <td>Akşam</td>\n",
       "      <td>3</td>\n",
       "    </tr>\n",
       "    <tr>\n",
       "      <th>3</th>\n",
       "      <td>23.68</td>\n",
       "      <td>3.31</td>\n",
       "      <td>Erkek</td>\n",
       "      <td>Hayır</td>\n",
       "      <td>Pazar</td>\n",
       "      <td>Akşam</td>\n",
       "      <td>2</td>\n",
       "    </tr>\n",
       "    <tr>\n",
       "      <th>4</th>\n",
       "      <td>24.59</td>\n",
       "      <td>3.61</td>\n",
       "      <td>Kadın</td>\n",
       "      <td>Hayır</td>\n",
       "      <td>Pazar</td>\n",
       "      <td>Akşam</td>\n",
       "      <td>4</td>\n",
       "    </tr>\n",
       "  </tbody>\n",
       "</table>\n",
       "</div>"
      ]
     },
     "execution_count": 25,
     "metadata": {},
     "output_type": "execute_result"
    }
   ],
   "execution_count": 25
  },
  {
   "metadata": {
    "ExecuteTime": {
     "end_time": "2024-09-27T18:50:31.091081Z",
     "start_time": "2024-09-27T18:50:30.828997Z"
    }
   },
   "cell_type": "code",
   "source": "sns.barplot(x = \"gün\", y = \"kişiler\",hue = \"sigara\" , data=df)",
   "id": "800b7a8824026cf6",
   "outputs": [
    {
     "data": {
      "text/plain": [
       "<Axes: xlabel='gün', ylabel='kişiler'>"
      ]
     },
     "execution_count": 26,
     "metadata": {},
     "output_type": "execute_result"
    },
    {
     "data": {
      "text/plain": [
       "<Figure size 640x480 with 1 Axes>"
      ],
      "image/png": "[encoded data removed]"
     },
     "metadata": {},
     "output_type": "display_data"
    }
   ],
   "execution_count": 26
  },
  {
   "metadata": {
    "ExecuteTime": {
     "end_time": "2024-09-27T18:50:31.378447Z",
     "start_time": "2024-09-27T18:50:31.093089Z"
    }
   },
   "cell_type": "code",
   "source": "sns.barplot(x = \"zaman\", y = \"fiyat\",hue = \"gün\" , data=df)",
   "id": "4bee9d4cf721a551",
   "outputs": [
    {
     "data": {
      "text/plain": [
       "<Axes: xlabel='zaman', ylabel='fiyat'>"
      ]
     },
     "execution_count": 27,
     "metadata": {},
     "output_type": "execute_result"
    },
    {
     "data": {
      "text/plain": [
       "<Figure size 640x480 with 1 Axes>"
      ],
      "image/png": "[encoded data removed]"
     },
     "metadata": {},
     "output_type": "display_data"
    }
   ],
   "execution_count": 27
  },
  {
   "metadata": {
    "ExecuteTime": {
     "end_time": "2024-09-27T18:50:31.387157Z",
     "start_time": "2024-09-27T18:50:31.379463Z"
    }
   },
   "cell_type": "code",
   "source": "df.head()",
   "id": "fbedcd81b40b1c9f",
   "outputs": [
    {
     "data": {
      "text/plain": [
       "   fiyat  bahşiş cinsiyet sigara    gün  zaman  kişiler\n",
       "0  16.99    1.01    Kadın  Hayır  Pazar  Akşam        2\n",
       "1  10.34    1.66    Erkek  Hayır  Pazar  Akşam        3\n",
       "2  21.01    3.50    Erkek  Hayır  Pazar  Akşam        3\n",
       "3  23.68    3.31    Erkek  Hayır  Pazar  Akşam        2\n",
       "4  24.59    3.61    Kadın  Hayır  Pazar  Akşam        4"
      ],
      "text/html": [
       "<div>\n",
       "<style scoped>\n",
       "    .dataframe tbody tr th:only-of-type {\n",
       "        vertical-align: middle;\n",
       "    }\n",
       "\n",
       "    .dataframe tbody tr th {\n",
       "        vertical-align: top;\n",
       "    }\n",
       "\n",
       "    .dataframe thead th {\n",
       "        text-align: right;\n",
       "    }\n",
       "</style>\n",
       "<table border=\"1\" class=\"dataframe\">\n",
       "  <thead>\n",
       "    <tr style=\"text-align: right;\">\n",
       "      <th></th>\n",
       "      <th>fiyat</th>\n",
       "      <th>bahşiş</th>\n",
       "      <th>cinsiyet</th>\n",
       "      <th>sigara</th>\n",
       "      <th>gün</th>\n",
       "      <th>zaman</th>\n",
       "      <th>kişiler</th>\n",
       "    </tr>\n",
       "  </thead>\n",
       "  <tbody>\n",
       "    <tr>\n",
       "      <th>0</th>\n",
       "      <td>16.99</td>\n",
       "      <td>1.01</td>\n",
       "      <td>Kadın</td>\n",
       "      <td>Hayır</td>\n",
       "      <td>Pazar</td>\n",
       "      <td>Akşam</td>\n",
       "      <td>2</td>\n",
       "    </tr>\n",
       "    <tr>\n",
       "      <th>1</th>\n",
       "      <td>10.34</td>\n",
       "      <td>1.66</td>\n",
       "      <td>Erkek</td>\n",
       "      <td>Hayır</td>\n",
       "      <td>Pazar</td>\n",
       "      <td>Akşam</td>\n",
       "      <td>3</td>\n",
       "    </tr>\n",
       "    <tr>\n",
       "      <th>2</th>\n",
       "      <td>21.01</td>\n",
       "      <td>3.50</td>\n",
       "      <td>Erkek</td>\n",
       "      <td>Hayır</td>\n",
       "      <td>Pazar</td>\n",
       "      <td>Akşam</td>\n",
       "      <td>3</td>\n",
       "    </tr>\n",
       "    <tr>\n",
       "      <th>3</th>\n",
       "      <td>23.68</td>\n",
       "      <td>3.31</td>\n",
       "      <td>Erkek</td>\n",
       "      <td>Hayır</td>\n",
       "      <td>Pazar</td>\n",
       "      <td>Akşam</td>\n",
       "      <td>2</td>\n",
       "    </tr>\n",
       "    <tr>\n",
       "      <th>4</th>\n",
       "      <td>24.59</td>\n",
       "      <td>3.61</td>\n",
       "      <td>Kadın</td>\n",
       "      <td>Hayır</td>\n",
       "      <td>Pazar</td>\n",
       "      <td>Akşam</td>\n",
       "      <td>4</td>\n",
       "    </tr>\n",
       "  </tbody>\n",
       "</table>\n",
       "</div>"
      ]
     },
     "execution_count": 28,
     "metadata": {},
     "output_type": "execute_result"
    }
   ],
   "execution_count": 28
  },
  {
   "metadata": {
    "ExecuteTime": {
     "end_time": "2024-09-27T18:50:31.529854Z",
     "start_time": "2024-09-27T18:50:31.525418Z"
    }
   },
   "cell_type": "code",
   "source": "df['cinsiyet'] = df.cinsiyet.map({'Kadın' : 1 , 'Erkek' : 2})",
   "id": "8369928f088a09d6",
   "outputs": [],
   "execution_count": 29
  },
  {
   "metadata": {
    "ExecuteTime": {
     "end_time": "2024-09-27T18:50:31.710205Z",
     "start_time": "2024-09-27T18:50:31.701818Z"
    }
   },
   "cell_type": "code",
   "source": "df.head()",
   "id": "7ffd7505053aa92d",
   "outputs": [
    {
     "data": {
      "text/plain": [
       "   fiyat  bahşiş cinsiyet sigara    gün  zaman  kişiler\n",
       "0  16.99    1.01        1  Hayır  Pazar  Akşam        2\n",
       "1  10.34    1.66        2  Hayır  Pazar  Akşam        3\n",
       "2  21.01    3.50        2  Hayır  Pazar  Akşam        3\n",
       "3  23.68    3.31        2  Hayır  Pazar  Akşam        2\n",
       "4  24.59    3.61        1  Hayır  Pazar  Akşam        4"
      ],
      "text/html": [
       "<div>\n",
       "<style scoped>\n",
       "    .dataframe tbody tr th:only-of-type {\n",
       "        vertical-align: middle;\n",
       "    }\n",
       "\n",
       "    .dataframe tbody tr th {\n",
       "        vertical-align: top;\n",
       "    }\n",
       "\n",
       "    .dataframe thead th {\n",
       "        text-align: right;\n",
       "    }\n",
       "</style>\n",
       "<table border=\"1\" class=\"dataframe\">\n",
       "  <thead>\n",
       "    <tr style=\"text-align: right;\">\n",
       "      <th></th>\n",
       "      <th>fiyat</th>\n",
       "      <th>bahşiş</th>\n",
       "      <th>cinsiyet</th>\n",
       "      <th>sigara</th>\n",
       "      <th>gün</th>\n",
       "      <th>zaman</th>\n",
       "      <th>kişiler</th>\n",
       "    </tr>\n",
       "  </thead>\n",
       "  <tbody>\n",
       "    <tr>\n",
       "      <th>0</th>\n",
       "      <td>16.99</td>\n",
       "      <td>1.01</td>\n",
       "      <td>1</td>\n",
       "      <td>Hayır</td>\n",
       "      <td>Pazar</td>\n",
       "      <td>Akşam</td>\n",
       "      <td>2</td>\n",
       "    </tr>\n",
       "    <tr>\n",
       "      <th>1</th>\n",
       "      <td>10.34</td>\n",
       "      <td>1.66</td>\n",
       "      <td>2</td>\n",
       "      <td>Hayır</td>\n",
       "      <td>Pazar</td>\n",
       "      <td>Akşam</td>\n",
       "      <td>3</td>\n",
       "    </tr>\n",
       "    <tr>\n",
       "      <th>2</th>\n",
       "      <td>21.01</td>\n",
       "      <td>3.50</td>\n",
       "      <td>2</td>\n",
       "      <td>Hayır</td>\n",
       "      <td>Pazar</td>\n",
       "      <td>Akşam</td>\n",
       "      <td>3</td>\n",
       "    </tr>\n",
       "    <tr>\n",
       "      <th>3</th>\n",
       "      <td>23.68</td>\n",
       "      <td>3.31</td>\n",
       "      <td>2</td>\n",
       "      <td>Hayır</td>\n",
       "      <td>Pazar</td>\n",
       "      <td>Akşam</td>\n",
       "      <td>2</td>\n",
       "    </tr>\n",
       "    <tr>\n",
       "      <th>4</th>\n",
       "      <td>24.59</td>\n",
       "      <td>3.61</td>\n",
       "      <td>1</td>\n",
       "      <td>Hayır</td>\n",
       "      <td>Pazar</td>\n",
       "      <td>Akşam</td>\n",
       "      <td>4</td>\n",
       "    </tr>\n",
       "  </tbody>\n",
       "</table>\n",
       "</div>"
      ]
     },
     "execution_count": 30,
     "metadata": {},
     "output_type": "execute_result"
    }
   ],
   "execution_count": 30
  },
  {
   "metadata": {
    "ExecuteTime": {
     "end_time": "2024-09-27T18:50:31.974339Z",
     "start_time": "2024-09-27T18:50:31.969336Z"
    }
   },
   "cell_type": "code",
   "source": "df.sigara.unique()",
   "id": "4acf498d644e8808",
   "outputs": [
    {
     "data": {
      "text/plain": [
       "['Hayır', 'Evet']\n",
       "Categories (2, object): ['Evet', 'Hayır']"
      ]
     },
     "execution_count": 31,
     "metadata": {},
     "output_type": "execute_result"
    }
   ],
   "execution_count": 31
  },
  {
   "metadata": {
    "ExecuteTime": {
     "end_time": "2024-09-27T18:50:32.256250Z",
     "start_time": "2024-09-27T18:50:32.251568Z"
    }
   },
   "cell_type": "code",
   "source": "df[\"sigara\"] = df.sigara.map({\"Evet\" : 1,\"Hayır\" : 2})",
   "id": "108a7f282eb7c38",
   "outputs": [],
   "execution_count": 32
  },
  {
   "metadata": {
    "ExecuteTime": {
     "end_time": "2024-09-27T18:50:32.465076Z",
     "start_time": "2024-09-27T18:50:32.456557Z"
    }
   },
   "cell_type": "code",
   "source": "df.head()",
   "id": "8e6cf800525bca56",
   "outputs": [
    {
     "data": {
      "text/plain": [
       "   fiyat  bahşiş cinsiyet sigara    gün  zaman  kişiler\n",
       "0  16.99    1.01        1      2  Pazar  Akşam        2\n",
       "1  10.34    1.66        2      2  Pazar  Akşam        3\n",
       "2  21.01    3.50        2      2  Pazar  Akşam        3\n",
       "3  23.68    3.31        2      2  Pazar  Akşam        2\n",
       "4  24.59    3.61        1      2  Pazar  Akşam        4"
      ],
      "text/html": [
       "<div>\n",
       "<style scoped>\n",
       "    .dataframe tbody tr th:only-of-type {\n",
       "        vertical-align: middle;\n",
       "    }\n",
       "\n",
       "    .dataframe tbody tr th {\n",
       "        vertical-align: top;\n",
       "    }\n",
       "\n",
       "    .dataframe thead th {\n",
       "        text-align: right;\n",
       "    }\n",
       "</style>\n",
       "<table border=\"1\" class=\"dataframe\">\n",
       "  <thead>\n",
       "    <tr style=\"text-align: right;\">\n",
       "      <th></th>\n",
       "      <th>fiyat</th>\n",
       "      <th>bahşiş</th>\n",
       "      <th>cinsiyet</th>\n",
       "      <th>sigara</th>\n",
       "      <th>gün</th>\n",
       "      <th>zaman</th>\n",
       "      <th>kişiler</th>\n",
       "    </tr>\n",
       "  </thead>\n",
       "  <tbody>\n",
       "    <tr>\n",
       "      <th>0</th>\n",
       "      <td>16.99</td>\n",
       "      <td>1.01</td>\n",
       "      <td>1</td>\n",
       "      <td>2</td>\n",
       "      <td>Pazar</td>\n",
       "      <td>Akşam</td>\n",
       "      <td>2</td>\n",
       "    </tr>\n",
       "    <tr>\n",
       "      <th>1</th>\n",
       "      <td>10.34</td>\n",
       "      <td>1.66</td>\n",
       "      <td>2</td>\n",
       "      <td>2</td>\n",
       "      <td>Pazar</td>\n",
       "      <td>Akşam</td>\n",
       "      <td>3</td>\n",
       "    </tr>\n",
       "    <tr>\n",
       "      <th>2</th>\n",
       "      <td>21.01</td>\n",
       "      <td>3.50</td>\n",
       "      <td>2</td>\n",
       "      <td>2</td>\n",
       "      <td>Pazar</td>\n",
       "      <td>Akşam</td>\n",
       "      <td>3</td>\n",
       "    </tr>\n",
       "    <tr>\n",
       "      <th>3</th>\n",
       "      <td>23.68</td>\n",
       "      <td>3.31</td>\n",
       "      <td>2</td>\n",
       "      <td>2</td>\n",
       "      <td>Pazar</td>\n",
       "      <td>Akşam</td>\n",
       "      <td>2</td>\n",
       "    </tr>\n",
       "    <tr>\n",
       "      <th>4</th>\n",
       "      <td>24.59</td>\n",
       "      <td>3.61</td>\n",
       "      <td>1</td>\n",
       "      <td>2</td>\n",
       "      <td>Pazar</td>\n",
       "      <td>Akşam</td>\n",
       "      <td>4</td>\n",
       "    </tr>\n",
       "  </tbody>\n",
       "</table>\n",
       "</div>"
      ]
     },
     "execution_count": 33,
     "metadata": {},
     "output_type": "execute_result"
    }
   ],
   "execution_count": 33
  },
  {
   "metadata": {
    "ExecuteTime": {
     "end_time": "2024-09-27T18:50:32.693112Z",
     "start_time": "2024-09-27T18:50:32.687131Z"
    }
   },
   "cell_type": "code",
   "source": "df.gün.unique()",
   "id": "a451a8d1ba54d3f4",
   "outputs": [
    {
     "data": {
      "text/plain": [
       "['Pazar', 'Cumartesi', 'Perşembe', 'Cuma']\n",
       "Categories (4, object): ['Perşembe', 'Cuma', 'Cumartesi', 'Pazar']"
      ]
     },
     "execution_count": 34,
     "metadata": {},
     "output_type": "execute_result"
    }
   ],
   "execution_count": 34
  },
  {
   "metadata": {
    "ExecuteTime": {
     "end_time": "2024-09-27T18:50:32.935657Z",
     "start_time": "2024-09-27T18:50:32.928407Z"
    }
   },
   "cell_type": "code",
   "source": "df['gün'] = df.gün.map({\"Perşembe\": 1, \"Cuma\": 2, \"Cumartesi\": 3, \"Pazar\": 4})",
   "id": "6bdfd04f1fa46641",
   "outputs": [],
   "execution_count": 35
  },
  {
   "metadata": {
    "ExecuteTime": {
     "end_time": "2024-09-27T18:50:33.280737Z",
     "start_time": "2024-09-27T18:50:33.270403Z"
    }
   },
   "cell_type": "code",
   "source": "df.head()",
   "id": "46e8b51792ee254d",
   "outputs": [
    {
     "data": {
      "text/plain": [
       "   fiyat  bahşiş cinsiyet sigara gün  zaman  kişiler\n",
       "0  16.99    1.01        1      2   4  Akşam        2\n",
       "1  10.34    1.66        2      2   4  Akşam        3\n",
       "2  21.01    3.50        2      2   4  Akşam        3\n",
       "3  23.68    3.31        2      2   4  Akşam        2\n",
       "4  24.59    3.61        1      2   4  Akşam        4"
      ],
      "text/html": [
       "<div>\n",
       "<style scoped>\n",
       "    .dataframe tbody tr th:only-of-type {\n",
       "        vertical-align: middle;\n",
       "    }\n",
       "\n",
       "    .dataframe tbody tr th {\n",
       "        vertical-align: top;\n",
       "    }\n",
       "\n",
       "    .dataframe thead th {\n",
       "        text-align: right;\n",
       "    }\n",
       "</style>\n",
       "<table border=\"1\" class=\"dataframe\">\n",
       "  <thead>\n",
       "    <tr style=\"text-align: right;\">\n",
       "      <th></th>\n",
       "      <th>fiyat</th>\n",
       "      <th>bahşiş</th>\n",
       "      <th>cinsiyet</th>\n",
       "      <th>sigara</th>\n",
       "      <th>gün</th>\n",
       "      <th>zaman</th>\n",
       "      <th>kişiler</th>\n",
       "    </tr>\n",
       "  </thead>\n",
       "  <tbody>\n",
       "    <tr>\n",
       "      <th>0</th>\n",
       "      <td>16.99</td>\n",
       "      <td>1.01</td>\n",
       "      <td>1</td>\n",
       "      <td>2</td>\n",
       "      <td>4</td>\n",
       "      <td>Akşam</td>\n",
       "      <td>2</td>\n",
       "    </tr>\n",
       "    <tr>\n",
       "      <th>1</th>\n",
       "      <td>10.34</td>\n",
       "      <td>1.66</td>\n",
       "      <td>2</td>\n",
       "      <td>2</td>\n",
       "      <td>4</td>\n",
       "      <td>Akşam</td>\n",
       "      <td>3</td>\n",
       "    </tr>\n",
       "    <tr>\n",
       "      <th>2</th>\n",
       "      <td>21.01</td>\n",
       "      <td>3.50</td>\n",
       "      <td>2</td>\n",
       "      <td>2</td>\n",
       "      <td>4</td>\n",
       "      <td>Akşam</td>\n",
       "      <td>3</td>\n",
       "    </tr>\n",
       "    <tr>\n",
       "      <th>3</th>\n",
       "      <td>23.68</td>\n",
       "      <td>3.31</td>\n",
       "      <td>2</td>\n",
       "      <td>2</td>\n",
       "      <td>4</td>\n",
       "      <td>Akşam</td>\n",
       "      <td>2</td>\n",
       "    </tr>\n",
       "    <tr>\n",
       "      <th>4</th>\n",
       "      <td>24.59</td>\n",
       "      <td>3.61</td>\n",
       "      <td>1</td>\n",
       "      <td>2</td>\n",
       "      <td>4</td>\n",
       "      <td>Akşam</td>\n",
       "      <td>4</td>\n",
       "    </tr>\n",
       "  </tbody>\n",
       "</table>\n",
       "</div>"
      ]
     },
     "execution_count": 36,
     "metadata": {},
     "output_type": "execute_result"
    }
   ],
   "execution_count": 36
  },
  {
   "metadata": {
    "ExecuteTime": {
     "end_time": "2024-09-27T18:50:33.589831Z",
     "start_time": "2024-09-27T18:50:33.582809Z"
    }
   },
   "cell_type": "code",
   "source": "df.zaman.unique()",
   "id": "1e3cac4b3529b460",
   "outputs": [
    {
     "data": {
      "text/plain": [
       "['Akşam', 'Oglen']\n",
       "Categories (2, object): ['Oglen', 'Akşam']"
      ]
     },
     "execution_count": 37,
     "metadata": {},
     "output_type": "execute_result"
    }
   ],
   "execution_count": 37
  },
  {
   "metadata": {
    "ExecuteTime": {
     "end_time": "2024-09-27T18:50:34.344260Z",
     "start_time": "2024-09-27T18:50:34.339319Z"
    }
   },
   "cell_type": "code",
   "source": "df[\"zaman\"] = df.zaman.map({\"Oglen\":1,\"Akşam\":2})",
   "id": "f5ef503cb1c15fdc",
   "outputs": [],
   "execution_count": 38
  },
  {
   "metadata": {
    "ExecuteTime": {
     "end_time": "2024-09-27T18:50:34.755591Z",
     "start_time": "2024-09-27T18:50:34.745910Z"
    }
   },
   "cell_type": "code",
   "source": "df.head()",
   "id": "b5f0c5be7feba2b9",
   "outputs": [
    {
     "data": {
      "text/plain": [
       "   fiyat  bahşiş cinsiyet sigara gün zaman  kişiler\n",
       "0  16.99    1.01        1      2   4     2        2\n",
       "1  10.34    1.66        2      2   4     2        3\n",
       "2  21.01    3.50        2      2   4     2        3\n",
       "3  23.68    3.31        2      2   4     2        2\n",
       "4  24.59    3.61        1      2   4     2        4"
      ],
      "text/html": [
       "<div>\n",
       "<style scoped>\n",
       "    .dataframe tbody tr th:only-of-type {\n",
       "        vertical-align: middle;\n",
       "    }\n",
       "\n",
       "    .dataframe tbody tr th {\n",
       "        vertical-align: top;\n",
       "    }\n",
       "\n",
       "    .dataframe thead th {\n",
       "        text-align: right;\n",
       "    }\n",
       "</style>\n",
       "<table border=\"1\" class=\"dataframe\">\n",
       "  <thead>\n",
       "    <tr style=\"text-align: right;\">\n",
       "      <th></th>\n",
       "      <th>fiyat</th>\n",
       "      <th>bahşiş</th>\n",
       "      <th>cinsiyet</th>\n",
       "      <th>sigara</th>\n",
       "      <th>gün</th>\n",
       "      <th>zaman</th>\n",
       "      <th>kişiler</th>\n",
       "    </tr>\n",
       "  </thead>\n",
       "  <tbody>\n",
       "    <tr>\n",
       "      <th>0</th>\n",
       "      <td>16.99</td>\n",
       "      <td>1.01</td>\n",
       "      <td>1</td>\n",
       "      <td>2</td>\n",
       "      <td>4</td>\n",
       "      <td>2</td>\n",
       "      <td>2</td>\n",
       "    </tr>\n",
       "    <tr>\n",
       "      <th>1</th>\n",
       "      <td>10.34</td>\n",
       "      <td>1.66</td>\n",
       "      <td>2</td>\n",
       "      <td>2</td>\n",
       "      <td>4</td>\n",
       "      <td>2</td>\n",
       "      <td>3</td>\n",
       "    </tr>\n",
       "    <tr>\n",
       "      <th>2</th>\n",
       "      <td>21.01</td>\n",
       "      <td>3.50</td>\n",
       "      <td>2</td>\n",
       "      <td>2</td>\n",
       "      <td>4</td>\n",
       "      <td>2</td>\n",
       "      <td>3</td>\n",
       "    </tr>\n",
       "    <tr>\n",
       "      <th>3</th>\n",
       "      <td>23.68</td>\n",
       "      <td>3.31</td>\n",
       "      <td>2</td>\n",
       "      <td>2</td>\n",
       "      <td>4</td>\n",
       "      <td>2</td>\n",
       "      <td>2</td>\n",
       "    </tr>\n",
       "    <tr>\n",
       "      <th>4</th>\n",
       "      <td>24.59</td>\n",
       "      <td>3.61</td>\n",
       "      <td>1</td>\n",
       "      <td>2</td>\n",
       "      <td>4</td>\n",
       "      <td>2</td>\n",
       "      <td>4</td>\n",
       "    </tr>\n",
       "  </tbody>\n",
       "</table>\n",
       "</div>"
      ]
     },
     "execution_count": 39,
     "metadata": {},
     "output_type": "execute_result"
    }
   ],
   "execution_count": 39
  },
  {
   "metadata": {
    "ExecuteTime": {
     "end_time": "2024-09-27T18:50:35.908679Z",
     "start_time": "2024-09-27T18:50:35.891810Z"
    }
   },
   "cell_type": "code",
   "source": "df.to_csv('tips.csv', index=False)",
   "id": "f6cd1d4d3679d249",
   "outputs": [],
   "execution_count": 40
  },
  {
   "metadata": {},
   "cell_type": "code",
   "outputs": [],
   "execution_count": null,
   "source": "",
   "id": "c51a92841887c28f"
  }
 ],
 "metadata": {
  "kernelspec": {
   "name": "python3",
   "language": "python",
   "display_name": "Python 3 (ipykernel)"
  }
 },
 "nbformat": 4,
 "nbformat_minor": 5
}
