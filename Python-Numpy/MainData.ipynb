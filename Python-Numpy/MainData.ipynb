{
 "cells": [
  {
   "metadata": {},
   "cell_type": "code",
   "source": [
    "import numpy as np\n",
    "np.full((4,5),5.2,dtype=str)"
   ],
   "id": "9ac0b20696de465",
   "outputs": [],
   "execution_count": null
  },
  {
   "metadata": {},
   "cell_type": "code",
   "source": "np.arange(0,12)",
   "id": "d89ca1469340ba5",
   "outputs": [],
   "execution_count": null
  },
  {
   "metadata": {},
   "cell_type": "code",
   "source": "np.arange(0,12,2)",
   "id": "91f7e2b9205dd5d8",
   "outputs": [],
   "execution_count": null
  },
  {
   "metadata": {},
   "cell_type": "code",
   "source": "np.linspace(1,2,num = 51) # With num we have specified the number of pieces.",
   "id": "8f90c86d027a7bf9",
   "outputs": [],
   "execution_count": null
  },
  {
   "metadata": {},
   "cell_type": "code",
   "source": "np.linspace(1,2) # means divide into 50 parts including 1 and 2.",
   "id": "3321522166e58840",
   "outputs": [],
   "execution_count": null
  },
  {
   "metadata": {},
   "cell_type": "code",
   "source": "np.random.normal(0,1,(4,5))",
   "id": "cdb3a4525648d929",
   "outputs": [],
   "execution_count": null
  },
  {
   "metadata": {},
   "cell_type": "code",
   "source": "np.random.normal(0,1) ",
   "id": "5941ccf04dfcf4ca",
   "outputs": [],
   "execution_count": null
  },
  {
   "metadata": {},
   "cell_type": "code",
   "source": "np.random.normal(10,100,(2,8)) # the first value is the mean, the second value is the standard deviation and the last value is the shape.",
   "id": "d29e29e94a9f4682",
   "outputs": [],
   "execution_count": null
  },
  {
   "metadata": {},
   "cell_type": "code",
   "source": "np.random.randint(1,10,(3,4)) ",
   "id": "5f2d613e3e220fa4",
   "outputs": [],
   "execution_count": null
  },
  {
   "metadata": {},
   "cell_type": "code",
   "source": "np.random.randint(3,5,(3,5,5))",
   "id": "4c0cafec2e299dc0",
   "outputs": [],
   "execution_count": null
  },
  {
   "metadata": {},
   "cell_type": "code",
   "source": [
    "d = {} # how many times the numbers 1-11 (except 11) are used in 20000 cycles\n",
    "\n",
    "for _ in range(20000) :\n",
    "    val = np.random.randint(1,11)\n",
    "    \n",
    "    if val not in d:\n",
    "        d[val] = 1\n",
    "    else :\n",
    "        d[val] += 1\n",
    "\n",
    "d"
   ],
   "id": "fba42153890842ca",
   "outputs": [],
   "execution_count": null
  },
  {
   "metadata": {},
   "cell_type": "code",
   "source": "np.eye(4,4) # Identity Matrix",
   "id": "824cba0dd9416c3c",
   "outputs": [],
   "execution_count": null
  },
  {
   "metadata": {},
   "cell_type": "code",
   "source": "np.eye(3,4)",
   "id": "983a76ffaaf68f7d",
   "outputs": [],
   "execution_count": null
  },
  {
   "metadata": {},
   "cell_type": "code",
   "source": "",
   "id": "61a61e8da4195515",
   "outputs": [],
   "execution_count": null
  }
 ],
 "metadata": {
  "kernelspec": {
   "display_name": "Python 3",
   "language": "python",
   "name": "python3"
  },
  "language_info": {
   "codemirror_mode": {
    "name": "ipython",
    "version": 2
   },
   "file_extension": ".py",
   "mimetype": "text/x-python",
   "name": "python",
   "nbconvert_exporter": "python",
   "pygments_lexer": "ipython2",
   "version": "2.7.6"
  }
 },
 "nbformat": 4,
 "nbformat_minor": 5
}
