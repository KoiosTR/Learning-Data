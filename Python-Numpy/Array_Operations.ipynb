{
 "cells": [
  {
   "cell_type": "code",
   "id": "initial_id",
   "metadata": {
    "collapsed": true,
    "ExecuteTime": {
     "end_time": "2024-08-04T09:57:54.655488Z",
     "start_time": "2024-08-04T09:57:54.641956Z"
    }
   },
   "source": "import numpy as np",
   "outputs": [],
   "execution_count": 2
  },
  {
   "metadata": {},
   "cell_type": "markdown",
   "source": "# Array Operations",
   "id": "da726ced2ce88716"
  },
  {
   "metadata": {
    "ExecuteTime": {
     "end_time": "2024-08-04T09:52:32.457718Z",
     "start_time": "2024-08-04T09:52:32.439192Z"
    }
   },
   "cell_type": "code",
   "source": [
    "x = np.array([1,2,3]) # two arrays must have the same number of elements.\n",
    "y = np.array([3,5,7])\n",
    "a = [1,2,3]\n",
    "\n",
    "x * y"
   ],
   "id": "dd08ddb74a791bef",
   "outputs": [
    {
     "data": {
      "text/plain": [
       "array([ 3, 10, 21])"
      ]
     },
     "execution_count": 8,
     "metadata": {},
     "output_type": "execute_result"
    }
   ],
   "execution_count": 8
  },
  {
   "metadata": {
    "ExecuteTime": {
     "end_time": "2024-08-04T09:50:44.973256Z",
     "start_time": "2024-08-04T09:50:44.959105Z"
    }
   },
   "cell_type": "code",
   "source": "x + y",
   "id": "5744ab6e13bd27f3",
   "outputs": [
    {
     "data": {
      "text/plain": [
       "array([ 4,  7, 10])"
      ]
     },
     "execution_count": 4,
     "metadata": {},
     "output_type": "execute_result"
    }
   ],
   "execution_count": 4
  },
  {
   "metadata": {
    "ExecuteTime": {
     "end_time": "2024-08-04T09:52:33.737839Z",
     "start_time": "2024-08-04T09:52:33.726320Z"
    }
   },
   "cell_type": "code",
   "source": "3 * a",
   "id": "532bc36cb2bdd978",
   "outputs": [
    {
     "data": {
      "text/plain": [
       "[1, 2, 3, 1, 2, 3, 1, 2, 3]"
      ]
     },
     "execution_count": 9,
     "metadata": {},
     "output_type": "execute_result"
    }
   ],
   "execution_count": 9
  },
  {
   "metadata": {},
   "cell_type": "markdown",
   "source": "# Array Attribute",
   "id": "6e46c6c613b8f6c5"
  },
  {
   "metadata": {
    "ExecuteTime": {
     "end_time": "2024-08-04T09:58:46.569984Z",
     "start_time": "2024-08-04T09:58:46.550749Z"
    }
   },
   "cell_type": "code",
   "source": [
    "x = np.zeros((2,3))\n",
    "\n",
    "x"
   ],
   "id": "a7f465fd7977c208",
   "outputs": [
    {
     "data": {
      "text/plain": [
       "array([[0., 0., 0.],\n",
       "       [0., 0., 0.]])"
      ]
     },
     "execution_count": 4,
     "metadata": {},
     "output_type": "execute_result"
    }
   ],
   "execution_count": 4
  },
  {
   "metadata": {
    "ExecuteTime": {
     "end_time": "2024-08-04T09:58:47.732206Z",
     "start_time": "2024-08-04T09:58:47.712358Z"
    }
   },
   "cell_type": "code",
   "source": [
    "y = np.zeros((2,5,4))\n",
    "\n",
    "y"
   ],
   "id": "14863a1a72942596",
   "outputs": [
    {
     "data": {
      "text/plain": [
       "array([[[0., 0., 0., 0.],\n",
       "        [0., 0., 0., 0.],\n",
       "        [0., 0., 0., 0.],\n",
       "        [0., 0., 0., 0.],\n",
       "        [0., 0., 0., 0.]],\n",
       "\n",
       "       [[0., 0., 0., 0.],\n",
       "        [0., 0., 0., 0.],\n",
       "        [0., 0., 0., 0.],\n",
       "        [0., 0., 0., 0.],\n",
       "        [0., 0., 0., 0.]]])"
      ]
     },
     "execution_count": 5,
     "metadata": {},
     "output_type": "execute_result"
    }
   ],
   "execution_count": 5
  },
  {
   "metadata": {
    "ExecuteTime": {
     "end_time": "2024-08-04T09:58:48.803382Z",
     "start_time": "2024-08-04T09:58:48.795853Z"
    }
   },
   "cell_type": "code",
   "source": "x.shape",
   "id": "cedf869479965db7",
   "outputs": [
    {
     "data": {
      "text/plain": [
       "(2, 3)"
      ]
     },
     "execution_count": 6,
     "metadata": {},
     "output_type": "execute_result"
    }
   ],
   "execution_count": 6
  },
  {
   "metadata": {
    "ExecuteTime": {
     "end_time": "2024-08-04T09:58:49.276437Z",
     "start_time": "2024-08-04T09:58:49.263286Z"
    }
   },
   "cell_type": "code",
   "source": "y.shape",
   "id": "3d54e0d4b374bf29",
   "outputs": [
    {
     "data": {
      "text/plain": [
       "(2, 5, 4)"
      ]
     },
     "execution_count": 7,
     "metadata": {},
     "output_type": "execute_result"
    }
   ],
   "execution_count": 7
  },
  {
   "metadata": {
    "ExecuteTime": {
     "end_time": "2024-08-04T09:58:49.817959Z",
     "start_time": "2024-08-04T09:58:49.810433Z"
    }
   },
   "cell_type": "code",
   "source": "x.ndim",
   "id": "207df140b9bba3a4",
   "outputs": [
    {
     "data": {
      "text/plain": [
       "2"
      ]
     },
     "execution_count": 8,
     "metadata": {},
     "output_type": "execute_result"
    }
   ],
   "execution_count": 8
  },
  {
   "metadata": {
    "ExecuteTime": {
     "end_time": "2024-08-04T09:58:54.045170Z",
     "start_time": "2024-08-04T09:58:54.026320Z"
    }
   },
   "cell_type": "code",
   "source": "y.ndim",
   "id": "eae56121bab82d74",
   "outputs": [
    {
     "data": {
      "text/plain": [
       "3"
      ]
     },
     "execution_count": 9,
     "metadata": {},
     "output_type": "execute_result"
    }
   ],
   "execution_count": 9
  },
  {
   "metadata": {
    "ExecuteTime": {
     "end_time": "2024-08-04T09:59:40.809990Z",
     "start_time": "2024-08-04T09:59:40.788774Z"
    }
   },
   "cell_type": "code",
   "source": "x.size",
   "id": "770af1c92d167a50",
   "outputs": [
    {
     "data": {
      "text/plain": [
       "6"
      ]
     },
     "execution_count": 10,
     "metadata": {},
     "output_type": "execute_result"
    }
   ],
   "execution_count": 10
  },
  {
   "metadata": {
    "ExecuteTime": {
     "end_time": "2024-08-04T09:59:43.774332Z",
     "start_time": "2024-08-04T09:59:43.757304Z"
    }
   },
   "cell_type": "code",
   "source": "y.size",
   "id": "9a44b91a86f9284b",
   "outputs": [
    {
     "data": {
      "text/plain": [
       "40"
      ]
     },
     "execution_count": 11,
     "metadata": {},
     "output_type": "execute_result"
    }
   ],
   "execution_count": 11
  },
  {
   "metadata": {
    "ExecuteTime": {
     "end_time": "2024-08-04T10:00:24.948333Z",
     "start_time": "2024-08-04T10:00:24.942304Z"
    }
   },
   "cell_type": "code",
   "source": "x.dtype ",
   "id": "51ba5dc1107b2d5",
   "outputs": [
    {
     "data": {
      "text/plain": [
       "dtype('float64')"
      ]
     },
     "execution_count": 12,
     "metadata": {},
     "output_type": "execute_result"
    }
   ],
   "execution_count": 12
  },
  {
   "metadata": {
    "ExecuteTime": {
     "end_time": "2024-08-04T10:14:52.354623Z",
     "start_time": "2024-08-04T10:14:52.335253Z"
    }
   },
   "cell_type": "code",
   "source": [
    "a = np.arange(1,11)\n",
    "a"
   ],
   "id": "804d082e499ece7f",
   "outputs": [
    {
     "data": {
      "text/plain": [
       "array([ 1,  2,  3,  4,  5,  6,  7,  8,  9, 10])"
      ]
     },
     "execution_count": 13,
     "metadata": {},
     "output_type": "execute_result"
    }
   ],
   "execution_count": 13
  },
  {
   "metadata": {
    "ExecuteTime": {
     "end_time": "2024-08-04T10:14:55.292345Z",
     "start_time": "2024-08-04T10:14:55.274414Z"
    }
   },
   "cell_type": "code",
   "source": "a.ndim",
   "id": "b04963282026c1a7",
   "outputs": [
    {
     "data": {
      "text/plain": [
       "1"
      ]
     },
     "execution_count": 14,
     "metadata": {},
     "output_type": "execute_result"
    }
   ],
   "execution_count": 14
  },
  {
   "metadata": {
    "ExecuteTime": {
     "end_time": "2024-08-04T10:14:58.599905Z",
     "start_time": "2024-08-04T10:14:58.585873Z"
    }
   },
   "cell_type": "code",
   "source": "a.size",
   "id": "8efa14660681d562",
   "outputs": [
    {
     "data": {
      "text/plain": [
       "10"
      ]
     },
     "execution_count": 15,
     "metadata": {},
     "output_type": "execute_result"
    }
   ],
   "execution_count": 15
  },
  {
   "metadata": {
    "ExecuteTime": {
     "end_time": "2024-08-04T10:16:43.267875Z",
     "start_time": "2024-08-04T10:16:43.255565Z"
    }
   },
   "cell_type": "code",
   "source": "a.reshape(2,5)",
   "id": "3cb81377ffa6f13d",
   "outputs": [
    {
     "data": {
      "text/plain": [
       "array([[ 1,  2,  3,  4,  5],\n",
       "       [ 6,  7,  8,  9, 10]])"
      ]
     },
     "execution_count": 23,
     "metadata": {},
     "output_type": "execute_result"
    }
   ],
   "execution_count": 23
  },
  {
   "metadata": {
    "ExecuteTime": {
     "end_time": "2024-08-04T10:15:25.596361Z",
     "start_time": "2024-08-04T10:15:25.580029Z"
    }
   },
   "cell_type": "code",
   "source": "a.reshape(5,2)",
   "id": "2912fb62d7f3f5f4",
   "outputs": [
    {
     "data": {
      "text/plain": [
       "array([[ 1,  2],\n",
       "       [ 3,  4],\n",
       "       [ 5,  6],\n",
       "       [ 7,  8],\n",
       "       [ 9, 10]])"
      ]
     },
     "execution_count": 18,
     "metadata": {},
     "output_type": "execute_result"
    }
   ],
   "execution_count": 18
  },
  {
   "metadata": {
    "ExecuteTime": {
     "end_time": "2024-08-04T10:59:29.162604Z",
     "start_time": "2024-08-04T10:59:29.148497Z"
    }
   },
   "cell_type": "code",
   "source": "a.reshape(2,5).ndim",
   "id": "158f812d265c0fb4",
   "outputs": [
    {
     "data": {
      "text/plain": [
       "2"
      ]
     },
     "execution_count": 24,
     "metadata": {},
     "output_type": "execute_result"
    }
   ],
   "execution_count": 24
  },
  {
   "metadata": {
    "ExecuteTime": {
     "end_time": "2024-08-04T11:00:05.435369Z",
     "start_time": "2024-08-04T11:00:05.416809Z"
    }
   },
   "cell_type": "code",
   "source": "a.reshape(-1,2)",
   "id": "2a06fe3f231423bc",
   "outputs": [
    {
     "data": {
      "text/plain": [
       "array([[ 1,  2],\n",
       "       [ 3,  4],\n",
       "       [ 5,  6],\n",
       "       [ 7,  8],\n",
       "       [ 9, 10]])"
      ]
     },
     "execution_count": 25,
     "metadata": {},
     "output_type": "execute_result"
    }
   ],
   "execution_count": 25
  },
  {
   "metadata": {
    "ExecuteTime": {
     "end_time": "2024-08-04T11:00:49.202769Z",
     "start_time": "2024-08-04T11:00:49.198723Z"
    }
   },
   "cell_type": "code",
   "source": "a = np.arange(1,11)",
   "id": "1fffc638be513c5a",
   "outputs": [],
   "execution_count": 28
  },
  {
   "metadata": {
    "ExecuteTime": {
     "end_time": "2024-08-04T11:00:50.549475Z",
     "start_time": "2024-08-04T11:00:50.532935Z"
    }
   },
   "cell_type": "code",
   "source": "a[np.newaxis, :]",
   "id": "69d275347fcba239",
   "outputs": [
    {
     "data": {
      "text/plain": [
       "array([[ 1,  2,  3,  4,  5,  6,  7,  8,  9, 10]])"
      ]
     },
     "execution_count": 29,
     "metadata": {},
     "output_type": "execute_result"
    }
   ],
   "execution_count": 29
  },
  {
   "metadata": {
    "ExecuteTime": {
     "end_time": "2024-08-04T11:01:19.670138Z",
     "start_time": "2024-08-04T11:01:19.652661Z"
    }
   },
   "cell_type": "code",
   "source": "a[:, np.newaxis]",
   "id": "302a0b538f856c7d",
   "outputs": [
    {
     "data": {
      "text/plain": [
       "array([[ 1],\n",
       "       [ 2],\n",
       "       [ 3],\n",
       "       [ 4],\n",
       "       [ 5],\n",
       "       [ 6],\n",
       "       [ 7],\n",
       "       [ 8],\n",
       "       [ 9],\n",
       "       [10]])"
      ]
     },
     "execution_count": 30,
     "metadata": {},
     "output_type": "execute_result"
    }
   ],
   "execution_count": 30
  },
  {
   "metadata": {
    "ExecuteTime": {
     "end_time": "2024-08-04T11:02:46.366979Z",
     "start_time": "2024-08-04T11:02:46.345958Z"
    }
   },
   "cell_type": "code",
   "source": [
    "x=a[np.newaxis,:]\n",
    "x"
   ],
   "id": "7d4f55a797991954",
   "outputs": [
    {
     "data": {
      "text/plain": [
       "array([[ 1,  2,  3,  4,  5,  6,  7,  8,  9, 10]])"
      ]
     },
     "execution_count": 31,
     "metadata": {},
     "output_type": "execute_result"
    }
   ],
   "execution_count": 31
  },
  {
   "metadata": {},
   "cell_type": "markdown",
   "source": "# Concatenation",
   "id": "f36416125cd2d836"
  },
  {
   "metadata": {
    "ExecuteTime": {
     "end_time": "2024-08-04T11:06:56.761626Z",
     "start_time": "2024-08-04T11:06:56.751095Z"
    }
   },
   "cell_type": "code",
   "source": [
    "a = np.array([1,2,3,4])\n",
    "b = np.array([5,6,7,8])\n"
   ],
   "id": "1aa064a82f34a2c6",
   "outputs": [],
   "execution_count": 32
  },
  {
   "metadata": {
    "ExecuteTime": {
     "end_time": "2024-08-04T11:07:08.715758Z",
     "start_time": "2024-08-04T11:07:08.703700Z"
    }
   },
   "cell_type": "code",
   "source": "np.concatenate([a,b])",
   "id": "4af46a28b1a45f1e",
   "outputs": [
    {
     "data": {
      "text/plain": [
       "array([1, 2, 3, 4, 5, 6, 7, 8])"
      ]
     },
     "execution_count": 33,
     "metadata": {},
     "output_type": "execute_result"
    }
   ],
   "execution_count": 33
  },
  {
   "metadata": {
    "ExecuteTime": {
     "end_time": "2024-08-04T11:07:40.570855Z",
     "start_time": "2024-08-04T11:07:40.553923Z"
    }
   },
   "cell_type": "code",
   "source": "l = [10,11]",
   "id": "44377ce881777f06",
   "outputs": [],
   "execution_count": 34
  },
  {
   "metadata": {
    "ExecuteTime": {
     "end_time": "2024-08-04T11:08:01.956874Z",
     "start_time": "2024-08-04T11:08:01.938848Z"
    }
   },
   "cell_type": "code",
   "source": "np.concatenate([a,b,l])",
   "id": "c5b234aa81b5bba2",
   "outputs": [
    {
     "data": {
      "text/plain": [
       "array([ 1,  2,  3,  4,  5,  6,  7,  8, 10, 11])"
      ]
     },
     "execution_count": 36,
     "metadata": {},
     "output_type": "execute_result"
    }
   ],
   "execution_count": 36
  },
  {
   "metadata": {
    "ExecuteTime": {
     "end_time": "2024-08-04T11:08:38.461315Z",
     "start_time": "2024-08-04T11:08:38.448313Z"
    }
   },
   "cell_type": "code",
   "source": [
    "l = [10,11,\"12\"]\n",
    "np.concatenate([a,b,l])"
   ],
   "id": "c4a03c7e5e8e5943",
   "outputs": [
    {
     "data": {
      "text/plain": [
       "array(['1', '2', '3', '4', '5', '6', '7', '8', '10', '11', '12'],\n",
       "      dtype='<U11')"
      ]
     },
     "execution_count": 38,
     "metadata": {},
     "output_type": "execute_result"
    }
   ],
   "execution_count": 38
  },
  {
   "metadata": {},
   "cell_type": "markdown",
   "source": "# Size Mismatch",
   "id": "9c9889ab5e627a58"
  },
  {
   "metadata": {
    "ExecuteTime": {
     "end_time": "2024-08-04T11:10:06.064484Z",
     "start_time": "2024-08-04T11:10:06.051388Z"
    }
   },
   "cell_type": "code",
   "source": [
    "a = np.array([1,2,3,4])\n",
    "x = np.array([[1,2,3],[4,5,6]])"
   ],
   "id": "cf2d8c141b875d60",
   "outputs": [],
   "execution_count": 39
  },
  {
   "metadata": {
    "ExecuteTime": {
     "end_time": "2024-08-04T11:10:08.134431Z",
     "start_time": "2024-08-04T11:10:08.120219Z"
    }
   },
   "cell_type": "code",
   "source": "x",
   "id": "7155b2a95072852d",
   "outputs": [
    {
     "data": {
      "text/plain": [
       "array([[1, 2, 3],\n",
       "       [4, 5, 6]])"
      ]
     },
     "execution_count": 40,
     "metadata": {},
     "output_type": "execute_result"
    }
   ],
   "execution_count": 40
  },
  {
   "metadata": {
    "ExecuteTime": {
     "end_time": "2024-08-04T11:10:18.353921Z",
     "start_time": "2024-08-04T11:10:18.343410Z"
    }
   },
   "cell_type": "code",
   "source": "x.size",
   "id": "e43964509d21a5a6",
   "outputs": [
    {
     "data": {
      "text/plain": [
       "6"
      ]
     },
     "execution_count": 41,
     "metadata": {},
     "output_type": "execute_result"
    }
   ],
   "execution_count": 41
  },
  {
   "metadata": {
    "ExecuteTime": {
     "end_time": "2024-08-04T11:10:23.428664Z",
     "start_time": "2024-08-04T11:10:23.411200Z"
    }
   },
   "cell_type": "code",
   "source": "x.shape",
   "id": "5cb3baf60b3a2819",
   "outputs": [
    {
     "data": {
      "text/plain": [
       "(2, 3)"
      ]
     },
     "execution_count": 42,
     "metadata": {},
     "output_type": "execute_result"
    }
   ],
   "execution_count": 42
  },
  {
   "metadata": {
    "ExecuteTime": {
     "end_time": "2024-08-04T11:10:26.118156Z",
     "start_time": "2024-08-04T11:10:26.103622Z"
    }
   },
   "cell_type": "code",
   "source": "a.shape",
   "id": "f5daf3a05f598f9e",
   "outputs": [
    {
     "data": {
      "text/plain": [
       "(4,)"
      ]
     },
     "execution_count": 43,
     "metadata": {},
     "output_type": "execute_result"
    }
   ],
   "execution_count": 43
  },
  {
   "metadata": {
    "ExecuteTime": {
     "end_time": "2024-08-04T11:11:03.058409Z",
     "start_time": "2024-08-04T11:11:03.032580Z"
    }
   },
   "cell_type": "code",
   "source": "np.concatenate([x,a])",
   "id": "14425939834d785a",
   "outputs": [
    {
     "ename": "ValueError",
     "evalue": "all the input arrays must have same number of dimensions, but the array at index 0 has 2 dimension(s) and the array at index 1 has 1 dimension(s)",
     "output_type": "error",
     "traceback": [
      "\u001B[1;31m---------------------------------------------------------------------------\u001B[0m",
      "\u001B[1;31mValueError\u001B[0m                                Traceback (most recent call last)",
      "Cell \u001B[1;32mIn[44], line 1\u001B[0m\n\u001B[1;32m----> 1\u001B[0m \u001B[43mnp\u001B[49m\u001B[38;5;241;43m.\u001B[39;49m\u001B[43mconcatenate\u001B[49m\u001B[43m(\u001B[49m\u001B[43m[\u001B[49m\u001B[43mx\u001B[49m\u001B[43m,\u001B[49m\u001B[43ma\u001B[49m\u001B[43m]\u001B[49m\u001B[43m)\u001B[49m\n",
      "File \u001B[1;32m<__array_function__ internals>:200\u001B[0m, in \u001B[0;36mconcatenate\u001B[1;34m(*args, **kwargs)\u001B[0m\n",
      "\u001B[1;31mValueError\u001B[0m: all the input arrays must have same number of dimensions, but the array at index 0 has 2 dimension(s) and the array at index 1 has 1 dimension(s)"
     ]
    }
   ],
   "execution_count": 44
  },
  {
   "metadata": {
    "ExecuteTime": {
     "end_time": "2024-08-04T11:11:27.697298Z",
     "start_time": "2024-08-04T11:11:27.680300Z"
    }
   },
   "cell_type": "code",
   "source": "np.concatenate([x,x])",
   "id": "14e7833616f0dab1",
   "outputs": [
    {
     "data": {
      "text/plain": [
       "array([[1, 2, 3],\n",
       "       [4, 5, 6],\n",
       "       [1, 2, 3],\n",
       "       [4, 5, 6]])"
      ]
     },
     "execution_count": 46,
     "metadata": {},
     "output_type": "execute_result"
    }
   ],
   "execution_count": 46
  },
  {
   "metadata": {
    "ExecuteTime": {
     "end_time": "2024-08-04T11:11:43.456400Z",
     "start_time": "2024-08-04T11:11:43.445853Z"
    }
   },
   "cell_type": "code",
   "source": "np.concatenate([x,x],axis=1) # if axis = 0, it would have merged in the y coordinate (default) but when axis = 1, it merged in the x coordinate.",
   "id": "d41971937fcaf4ff",
   "outputs": [
    {
     "data": {
      "text/plain": [
       "array([[1, 2, 3, 1, 2, 3],\n",
       "       [4, 5, 6, 4, 5, 6]])"
      ]
     },
     "execution_count": 47,
     "metadata": {},
     "output_type": "execute_result"
    }
   ],
   "execution_count": 47
  },
  {
   "metadata": {},
   "cell_type": "markdown",
   "source": "# Stack",
   "id": "87f5f4f89c1afd19"
  },
  {
   "metadata": {
    "ExecuteTime": {
     "end_time": "2024-08-04T11:24:06.693782Z",
     "start_time": "2024-08-04T11:24:06.677969Z"
    }
   },
   "cell_type": "code",
   "source": [
    "a = np.array([1,2,3,4])\n",
    "b = np.array([5,6,7,8])"
   ],
   "id": "c7a1fc4f805c2ebf",
   "outputs": [],
   "execution_count": 48
  },
  {
   "metadata": {
    "ExecuteTime": {
     "end_time": "2024-08-04T11:24:07.677485Z",
     "start_time": "2024-08-04T11:24:07.656542Z"
    }
   },
   "cell_type": "code",
   "source": "a",
   "id": "b08eff04ef936c2d",
   "outputs": [
    {
     "data": {
      "text/plain": [
       "array([1, 2, 3, 4])"
      ]
     },
     "execution_count": 49,
     "metadata": {},
     "output_type": "execute_result"
    }
   ],
   "execution_count": 49
  },
  {
   "metadata": {
    "ExecuteTime": {
     "end_time": "2024-08-04T11:24:08.768813Z",
     "start_time": "2024-08-04T11:24:08.744938Z"
    }
   },
   "cell_type": "code",
   "source": "b",
   "id": "ce9945696ff860d9",
   "outputs": [
    {
     "data": {
      "text/plain": [
       "array([5, 6, 7, 8])"
      ]
     },
     "execution_count": 50,
     "metadata": {},
     "output_type": "execute_result"
    }
   ],
   "execution_count": 50
  },
  {
   "metadata": {
    "ExecuteTime": {
     "end_time": "2024-08-04T11:24:13.081762Z",
     "start_time": "2024-08-04T11:24:13.063733Z"
    }
   },
   "cell_type": "code",
   "source": "a.shape",
   "id": "def2079bf24d10da",
   "outputs": [
    {
     "data": {
      "text/plain": [
       "(4,)"
      ]
     },
     "execution_count": 51,
     "metadata": {},
     "output_type": "execute_result"
    }
   ],
   "execution_count": 51
  },
  {
   "metadata": {
    "ExecuteTime": {
     "end_time": "2024-08-04T11:24:15.421325Z",
     "start_time": "2024-08-04T11:24:15.405234Z"
    }
   },
   "cell_type": "code",
   "source": "b.shape",
   "id": "9f52eddce74de436",
   "outputs": [
    {
     "data": {
      "text/plain": [
       "(4,)"
      ]
     },
     "execution_count": 52,
     "metadata": {},
     "output_type": "execute_result"
    }
   ],
   "execution_count": 52
  },
  {
   "metadata": {
    "ExecuteTime": {
     "end_time": "2024-08-04T11:24:22.986861Z",
     "start_time": "2024-08-04T11:24:22.970616Z"
    }
   },
   "cell_type": "code",
   "source": "np.stack([a,b]) # Create a new dimension and combine it",
   "id": "2a044e0cb18136d",
   "outputs": [
    {
     "data": {
      "text/plain": [
       "array([[1, 2, 3, 4],\n",
       "       [5, 6, 7, 8]])"
      ]
     },
     "execution_count": 53,
     "metadata": {},
     "output_type": "execute_result"
    }
   ],
   "execution_count": 53
  },
  {
   "metadata": {
    "ExecuteTime": {
     "end_time": "2024-08-04T11:24:33.712931Z",
     "start_time": "2024-08-04T11:24:33.697625Z"
    }
   },
   "cell_type": "code",
   "source": "np.stack([a,b],axis=1) ",
   "id": "4437fb76058bb169",
   "outputs": [
    {
     "data": {
      "text/plain": [
       "array([[1, 5],\n",
       "       [2, 6],\n",
       "       [3, 7],\n",
       "       [4, 8]])"
      ]
     },
     "execution_count": 54,
     "metadata": {},
     "output_type": "execute_result"
    }
   ],
   "execution_count": 54
  },
  {
   "metadata": {},
   "cell_type": "markdown",
   "source": "# Splitting",
   "id": "f52ef4e9d9b8e05f"
  },
  {
   "metadata": {
    "ExecuteTime": {
     "end_time": "2024-08-04T11:29:49.651157Z",
     "start_time": "2024-08-04T11:29:49.643636Z"
    }
   },
   "cell_type": "code",
   "source": "l = [0,10,20,30,40,50,60,70]",
   "id": "7e08027675cf6f8",
   "outputs": [],
   "execution_count": 66
  },
  {
   "metadata": {
    "ExecuteTime": {
     "end_time": "2024-08-04T11:29:50.551928Z",
     "start_time": "2024-08-04T11:29:50.536748Z"
    }
   },
   "cell_type": "code",
   "source": "l",
   "id": "f29869614715c3db",
   "outputs": [
    {
     "data": {
      "text/plain": [
       "[0, 10, 20, 30, 40, 50, 60, 70]"
      ]
     },
     "execution_count": 67,
     "metadata": {},
     "output_type": "execute_result"
    }
   ],
   "execution_count": 67
  },
  {
   "metadata": {
    "ExecuteTime": {
     "end_time": "2024-08-04T11:29:51.109841Z",
     "start_time": "2024-08-04T11:29:51.099642Z"
    }
   },
   "cell_type": "code",
   "source": [
    "# [0,1], [2,3,4,5], [6,7] \n",
    "np.split(l,[2,6])"
   ],
   "id": "2591ed68a88bcb6a",
   "outputs": [
    {
     "data": {
      "text/plain": [
       "[array([ 0, 10]), array([20, 30, 40, 50]), array([60, 70])]"
      ]
     },
     "execution_count": 68,
     "metadata": {},
     "output_type": "execute_result"
    }
   ],
   "execution_count": 68
  },
  {
   "metadata": {
    "ExecuteTime": {
     "end_time": "2024-08-04T11:29:51.516735Z",
     "start_time": "2024-08-04T11:29:51.510170Z"
    }
   },
   "cell_type": "code",
   "source": "np.split(l,[3,5])",
   "id": "9a6e3c49e03abe37",
   "outputs": [
    {
     "data": {
      "text/plain": [
       "[array([ 0, 10, 20]), array([30, 40]), array([50, 60, 70])]"
      ]
     },
     "execution_count": 69,
     "metadata": {},
     "output_type": "execute_result"
    }
   ],
   "execution_count": 69
  },
  {
   "metadata": {
    "ExecuteTime": {
     "end_time": "2024-08-04T11:31:05.149897Z",
     "start_time": "2024-08-04T11:31:05.139670Z"
    }
   },
   "cell_type": "code",
   "source": "a = np.array([0,10,20,30,40,50,60,70])",
   "id": "d38d058088236c6",
   "outputs": [],
   "execution_count": 78
  },
  {
   "metadata": {
    "ExecuteTime": {
     "end_time": "2024-08-04T11:31:05.660838Z",
     "start_time": "2024-08-04T11:31:05.644203Z"
    }
   },
   "cell_type": "code",
   "source": "a = np.split(a,[1,7])",
   "id": "1c86906ff0ecf335",
   "outputs": [],
   "execution_count": 79
  },
  {
   "metadata": {
    "ExecuteTime": {
     "end_time": "2024-08-04T11:31:50.655103Z",
     "start_time": "2024-08-04T11:31:50.643586Z"
    }
   },
   "cell_type": "code",
   "source": [
    "a,b = (1,10)\n",
    "print(a)\n",
    "print(b)"
   ],
   "id": "8abf7d7b52529ae0",
   "outputs": [
    {
     "name": "stdout",
     "output_type": "stream",
     "text": [
      "1\n",
      "10\n"
     ]
    }
   ],
   "execution_count": 84
  },
  {
   "metadata": {
    "ExecuteTime": {
     "end_time": "2024-08-04T11:32:08.472280Z",
     "start_time": "2024-08-04T11:32:08.462761Z"
    }
   },
   "cell_type": "code",
   "source": "x,y,z = np.split(l,[2,6])",
   "id": "365c8e886dfe23ee",
   "outputs": [],
   "execution_count": 85
  },
  {
   "metadata": {
    "ExecuteTime": {
     "end_time": "2024-08-04T11:32:21.010226Z",
     "start_time": "2024-08-04T11:32:20.989550Z"
    }
   },
   "cell_type": "code",
   "source": [
    "print(x)\n",
    "print(y)\n",
    "print(z)"
   ],
   "id": "959c46f367069902",
   "outputs": [
    {
     "name": "stdout",
     "output_type": "stream",
     "text": [
      "[ 0 10]\n",
      "[20 30 40 50]\n",
      "[60 70]\n"
     ]
    }
   ],
   "execution_count": 87
  },
  {
   "metadata": {},
   "cell_type": "markdown",
   "source": "# VSplit",
   "id": "660287691d822b4a"
  },
  {
   "metadata": {
    "ExecuteTime": {
     "end_time": "2024-08-04T11:33:28.566626Z",
     "start_time": "2024-08-04T11:33:28.548593Z"
    }
   },
   "cell_type": "code",
   "source": "a = np.arange(20).reshape(2,10)",
   "id": "b7b24c1bbafe77d",
   "outputs": [],
   "execution_count": 88
  },
  {
   "metadata": {
    "ExecuteTime": {
     "end_time": "2024-08-04T11:33:30.692541Z",
     "start_time": "2024-08-04T11:33:30.677792Z"
    }
   },
   "cell_type": "code",
   "source": "a",
   "id": "55bd892b672d30b4",
   "outputs": [
    {
     "data": {
      "text/plain": [
       "array([[ 0,  1,  2,  3,  4,  5,  6,  7,  8,  9],\n",
       "       [10, 11, 12, 13, 14, 15, 16, 17, 18, 19]])"
      ]
     },
     "execution_count": 89,
     "metadata": {},
     "output_type": "execute_result"
    }
   ],
   "execution_count": 89
  },
  {
   "metadata": {
    "ExecuteTime": {
     "end_time": "2024-08-04T11:33:45.367100Z",
     "start_time": "2024-08-04T11:33:45.357502Z"
    }
   },
   "cell_type": "code",
   "source": "np.vsplit(a,[1])",
   "id": "546d9f44a7863a1e",
   "outputs": [
    {
     "data": {
      "text/plain": [
       "[array([[0, 1, 2, 3, 4, 5, 6, 7, 8, 9]]),\n",
       " array([[10, 11, 12, 13, 14, 15, 16, 17, 18, 19]])]"
      ]
     },
     "execution_count": 90,
     "metadata": {},
     "output_type": "execute_result"
    }
   ],
   "execution_count": 90
  },
  {
   "metadata": {
    "ExecuteTime": {
     "end_time": "2024-08-04T11:34:20.501584Z",
     "start_time": "2024-08-04T11:34:20.483992Z"
    }
   },
   "cell_type": "code",
   "source": "np.vsplit(a,[1])[0]",
   "id": "f43dccf837efdb82",
   "outputs": [
    {
     "data": {
      "text/plain": [
       "array([[0, 1, 2, 3, 4, 5, 6, 7, 8, 9]])"
      ]
     },
     "execution_count": 91,
     "metadata": {},
     "output_type": "execute_result"
    }
   ],
   "execution_count": 91
  },
  {
   "metadata": {},
   "cell_type": "markdown",
   "source": "# HSplit",
   "id": "49c25198aa9f5bc9"
  },
  {
   "metadata": {
    "ExecuteTime": {
     "end_time": "2024-08-04T11:36:05.723882Z",
     "start_time": "2024-08-04T11:36:05.717863Z"
    }
   },
   "cell_type": "code",
   "source": "a = np.arange(20).reshape(2,10)",
   "id": "d51b9d47058709bb",
   "outputs": [],
   "execution_count": 92
  },
  {
   "metadata": {
    "ExecuteTime": {
     "end_time": "2024-08-04T11:36:08.239775Z",
     "start_time": "2024-08-04T11:36:08.218089Z"
    }
   },
   "cell_type": "code",
   "source": "a",
   "id": "6a0062e752b10ad",
   "outputs": [
    {
     "data": {
      "text/plain": [
       "array([[ 0,  1,  2,  3,  4,  5,  6,  7,  8,  9],\n",
       "       [10, 11, 12, 13, 14, 15, 16, 17, 18, 19]])"
      ]
     },
     "execution_count": 93,
     "metadata": {},
     "output_type": "execute_result"
    }
   ],
   "execution_count": 93
  },
  {
   "metadata": {
    "ExecuteTime": {
     "end_time": "2024-08-04T11:38:21.920260Z",
     "start_time": "2024-08-04T11:38:21.901083Z"
    }
   },
   "cell_type": "code",
   "source": "np.hsplit(a,[2])",
   "id": "c535b1d5629a8fd1",
   "outputs": [
    {
     "data": {
      "text/plain": [
       "[array([[ 0,  1],\n",
       "        [10, 11]]),\n",
       " array([[ 2,  3,  4,  5,  6,  7,  8,  9],\n",
       "        [12, 13, 14, 15, 16, 17, 18, 19]])]"
      ]
     },
     "execution_count": 96,
     "metadata": {},
     "output_type": "execute_result"
    }
   ],
   "execution_count": 96
  },
  {
   "metadata": {
    "ExecuteTime": {
     "end_time": "2024-08-04T11:39:09.313173Z",
     "start_time": "2024-08-04T11:39:09.305804Z"
    }
   },
   "cell_type": "code",
   "source": "np.hsplit(a,[2])[0]",
   "id": "1e67ef1400f66297",
   "outputs": [
    {
     "data": {
      "text/plain": [
       "array([[ 0,  1],\n",
       "       [10, 11]])"
      ]
     },
     "execution_count": 97,
     "metadata": {},
     "output_type": "execute_result"
    }
   ],
   "execution_count": 97
  },
  {
   "metadata": {
    "ExecuteTime": {
     "end_time": "2024-08-04T11:39:21.218203Z",
     "start_time": "2024-08-04T11:39:21.207957Z"
    }
   },
   "cell_type": "code",
   "source": "np.hsplit(a,[2])[1]",
   "id": "4d75d43433282a59",
   "outputs": [
    {
     "data": {
      "text/plain": [
       "array([[ 2,  3,  4,  5,  6,  7,  8,  9],\n",
       "       [12, 13, 14, 15, 16, 17, 18, 19]])"
      ]
     },
     "execution_count": 98,
     "metadata": {},
     "output_type": "execute_result"
    }
   ],
   "execution_count": 98
  },
  {
   "metadata": {
    "ExecuteTime": {
     "end_time": "2024-08-04T11:39:34.227976Z",
     "start_time": "2024-08-04T11:39:34.211958Z"
    }
   },
   "cell_type": "code",
   "source": "np.hsplit(a,[2])[0].shape",
   "id": "c982ac57c13ca1ce",
   "outputs": [
    {
     "data": {
      "text/plain": [
       "(2, 2)"
      ]
     },
     "execution_count": 99,
     "metadata": {},
     "output_type": "execute_result"
    }
   ],
   "execution_count": 99
  },
  {
   "metadata": {
    "ExecuteTime": {
     "end_time": "2024-08-04T11:39:42.103803Z",
     "start_time": "2024-08-04T11:39:42.086784Z"
    }
   },
   "cell_type": "code",
   "source": "np.hsplit(a,[2])[1].shape",
   "id": "474cc4ec5ce78a68",
   "outputs": [
    {
     "data": {
      "text/plain": [
       "(2, 8)"
      ]
     },
     "execution_count": 100,
     "metadata": {},
     "output_type": "execute_result"
    }
   ],
   "execution_count": 100
  },
  {
   "metadata": {
    "ExecuteTime": {
     "end_time": "2024-08-04T11:39:54.819898Z",
     "start_time": "2024-08-04T11:39:54.806014Z"
    }
   },
   "cell_type": "code",
   "source": "x,y = np.hsplit(a,[2])",
   "id": "18b1725399026707",
   "outputs": [],
   "execution_count": 101
  },
  {
   "metadata": {
    "ExecuteTime": {
     "end_time": "2024-08-04T11:40:01.558809Z",
     "start_time": "2024-08-04T11:40:01.544939Z"
    }
   },
   "cell_type": "code",
   "source": [
    "print(x)\n",
    "print(y)"
   ],
   "id": "a3a55437fac25887",
   "outputs": [
    {
     "name": "stdout",
     "output_type": "stream",
     "text": [
      "[[ 0  1]\n",
      " [10 11]]\n",
      "[[ 2  3  4  5  6  7  8  9]\n",
      " [12 13 14 15 16 17 18 19]]\n"
     ]
    }
   ],
   "execution_count": 102
  },
  {
   "metadata": {
    "ExecuteTime": {
     "end_time": "2024-08-04T11:41:15.730766Z",
     "start_time": "2024-08-04T11:41:15.717017Z"
    }
   },
   "cell_type": "code",
   "source": "a",
   "id": "a2bc61d25ca360bd",
   "outputs": [
    {
     "data": {
      "text/plain": [
       "array([[ 0,  1,  2,  3,  4,  5,  6,  7,  8,  9],\n",
       "       [10, 11, 12, 13, 14, 15, 16, 17, 18, 19]])"
      ]
     },
     "execution_count": 103,
     "metadata": {},
     "output_type": "execute_result"
    }
   ],
   "execution_count": 103
  },
  {
   "metadata": {
    "ExecuteTime": {
     "end_time": "2024-08-04T11:41:18.331418Z",
     "start_time": "2024-08-04T11:41:18.320967Z"
    }
   },
   "cell_type": "code",
   "source": "x,y,z = np.hsplit(a,[2,4])",
   "id": "8ba91efefd393cb7",
   "outputs": [],
   "execution_count": 104
  },
  {
   "metadata": {
    "ExecuteTime": {
     "end_time": "2024-08-04T11:41:24.495493Z",
     "start_time": "2024-08-04T11:41:24.484775Z"
    }
   },
   "cell_type": "code",
   "source": "print(x)",
   "id": "d559f68969106a91",
   "outputs": [
    {
     "name": "stdout",
     "output_type": "stream",
     "text": [
      "[[ 0  1]\n",
      " [10 11]]\n"
     ]
    }
   ],
   "execution_count": 105
  },
  {
   "metadata": {
    "ExecuteTime": {
     "end_time": "2024-08-04T11:41:28.021118Z",
     "start_time": "2024-08-04T11:41:28.013544Z"
    }
   },
   "cell_type": "code",
   "source": "print(y)",
   "id": "749d1e65bc97b6f5",
   "outputs": [
    {
     "name": "stdout",
     "output_type": "stream",
     "text": [
      "[[ 2  3]\n",
      " [12 13]]\n"
     ]
    }
   ],
   "execution_count": 106
  },
  {
   "metadata": {
    "ExecuteTime": {
     "end_time": "2024-08-04T11:41:30.408621Z",
     "start_time": "2024-08-04T11:41:30.393593Z"
    }
   },
   "cell_type": "code",
   "source": "print(z)",
   "id": "6321bb87b715801",
   "outputs": [
    {
     "name": "stdout",
     "output_type": "stream",
     "text": [
      "[[ 4  5  6  7  8  9]\n",
      " [14 15 16 17 18 19]]\n"
     ]
    }
   ],
   "execution_count": 107
  },
  {
   "metadata": {
    "ExecuteTime": {
     "end_time": "2024-08-04T11:42:00.523140Z",
     "start_time": "2024-08-04T11:42:00.509389Z"
    }
   },
   "cell_type": "code",
   "source": "a = np.arange(20).reshape(5,4)",
   "id": "f0e7d66462ae1b33",
   "outputs": [],
   "execution_count": 108
  },
  {
   "metadata": {
    "ExecuteTime": {
     "end_time": "2024-08-04T11:42:02.343626Z",
     "start_time": "2024-08-04T11:42:02.334978Z"
    }
   },
   "cell_type": "code",
   "source": "a",
   "id": "a17214e9637c2efb",
   "outputs": [
    {
     "data": {
      "text/plain": [
       "array([[ 0,  1,  2,  3],\n",
       "       [ 4,  5,  6,  7],\n",
       "       [ 8,  9, 10, 11],\n",
       "       [12, 13, 14, 15],\n",
       "       [16, 17, 18, 19]])"
      ]
     },
     "execution_count": 109,
     "metadata": {},
     "output_type": "execute_result"
    }
   ],
   "execution_count": 109
  },
  {
   "metadata": {
    "ExecuteTime": {
     "end_time": "2024-08-04T11:42:20.228652Z",
     "start_time": "2024-08-04T11:42:20.213792Z"
    }
   },
   "cell_type": "code",
   "source": "np.vsplit(a,[2,3])",
   "id": "a0a89a35f3c90be9",
   "outputs": [
    {
     "data": {
      "text/plain": [
       "[array([[0, 1, 2, 3],\n",
       "        [4, 5, 6, 7]]),\n",
       " array([[ 8,  9, 10, 11]]),\n",
       " array([[12, 13, 14, 15],\n",
       "        [16, 17, 18, 19]])]"
      ]
     },
     "execution_count": 110,
     "metadata": {},
     "output_type": "execute_result"
    }
   ],
   "execution_count": 110
  },
  {
   "metadata": {
    "ExecuteTime": {
     "end_time": "2024-08-04T11:42:47.606020Z",
     "start_time": "2024-08-04T11:42:47.592921Z"
    }
   },
   "cell_type": "code",
   "source": "np.vsplit(a,[2,3])[2]",
   "id": "56b002ede5122056",
   "outputs": [
    {
     "data": {
      "text/plain": [
       "array([[12, 13, 14, 15],\n",
       "       [16, 17, 18, 19]])"
      ]
     },
     "execution_count": 111,
     "metadata": {},
     "output_type": "execute_result"
    }
   ],
   "execution_count": 111
  },
  {
   "metadata": {},
   "cell_type": "markdown",
   "source": "# Sorting",
   "id": "cab48abd6dbd7784"
  },
  {
   "metadata": {
    "ExecuteTime": {
     "end_time": "2024-08-04T11:44:35.810332Z",
     "start_time": "2024-08-04T11:44:35.793307Z"
    }
   },
   "cell_type": "code",
   "source": "a = np.array([20,32,5,30,10])",
   "id": "a01530878d2a5f5f",
   "outputs": [],
   "execution_count": 112
  },
  {
   "metadata": {
    "ExecuteTime": {
     "end_time": "2024-08-04T11:44:37.586829Z",
     "start_time": "2024-08-04T11:44:37.580201Z"
    }
   },
   "cell_type": "code",
   "source": "a",
   "id": "a88ddc4d2fe1afaf",
   "outputs": [
    {
     "data": {
      "text/plain": [
       "array([20, 32,  5, 30, 10])"
      ]
     },
     "execution_count": 113,
     "metadata": {},
     "output_type": "execute_result"
    }
   ],
   "execution_count": 113
  },
  {
   "metadata": {
    "ExecuteTime": {
     "end_time": "2024-08-04T11:44:41.941249Z",
     "start_time": "2024-08-04T11:44:41.918839Z"
    }
   },
   "cell_type": "code",
   "source": "np.sort(a)",
   "id": "5bd8e1462b9f0da6",
   "outputs": [
    {
     "data": {
      "text/plain": [
       "array([ 5, 10, 20, 30, 32])"
      ]
     },
     "execution_count": 114,
     "metadata": {},
     "output_type": "execute_result"
    }
   ],
   "execution_count": 114
  },
  {
   "metadata": {
    "ExecuteTime": {
     "end_time": "2024-08-04T11:44:46.411180Z",
     "start_time": "2024-08-04T11:44:46.389409Z"
    }
   },
   "cell_type": "code",
   "source": "a",
   "id": "ecd5de83e913ea7b",
   "outputs": [
    {
     "data": {
      "text/plain": [
       "array([20, 32,  5, 30, 10])"
      ]
     },
     "execution_count": 115,
     "metadata": {},
     "output_type": "execute_result"
    }
   ],
   "execution_count": 115
  },
  {
   "metadata": {
    "ExecuteTime": {
     "end_time": "2024-08-04T11:44:57.730142Z",
     "start_time": "2024-08-04T11:44:57.715576Z"
    }
   },
   "cell_type": "code",
   "source": "a.sort()",
   "id": "2110d143001330a",
   "outputs": [],
   "execution_count": 116
  },
  {
   "metadata": {
    "ExecuteTime": {
     "end_time": "2024-08-04T11:45:00.279512Z",
     "start_time": "2024-08-04T11:45:00.257353Z"
    }
   },
   "cell_type": "code",
   "source": "a",
   "id": "eb4da83ed34c266a",
   "outputs": [
    {
     "data": {
      "text/plain": [
       "array([ 5, 10, 20, 30, 32])"
      ]
     },
     "execution_count": 117,
     "metadata": {},
     "output_type": "execute_result"
    }
   ],
   "execution_count": 117
  },
  {
   "metadata": {
    "ExecuteTime": {
     "end_time": "2024-08-04T11:47:03.986332Z",
     "start_time": "2024-08-04T11:47:03.972131Z"
    }
   },
   "cell_type": "code",
   "source": [
    "a = np.array([5 ,4 ,6, 7,2])\n",
    "a"
   ],
   "id": "1392e6ea16d8a80",
   "outputs": [
    {
     "data": {
      "text/plain": [
       "array([5, 4, 6, 7, 2])"
      ]
     },
     "execution_count": 127,
     "metadata": {},
     "output_type": "execute_result"
    }
   ],
   "execution_count": 127
  },
  {
   "metadata": {
    "ExecuteTime": {
     "end_time": "2024-08-04T11:45:48.804214Z",
     "start_time": "2024-08-04T11:45:48.795110Z"
    }
   },
   "cell_type": "code",
   "source": [
    "idxs = np.argsort(a)\n",
    "a.sort()"
   ],
   "id": "29956d4d563dcb9",
   "outputs": [],
   "execution_count": 122
  },
  {
   "metadata": {
    "ExecuteTime": {
     "end_time": "2024-08-04T11:46:36.149063Z",
     "start_time": "2024-08-04T11:46:36.136901Z"
    }
   },
   "cell_type": "code",
   "source": [
    "print(idxs)\n",
    "print(a)"
   ],
   "id": "77c014a49ec227f3",
   "outputs": [
    {
     "name": "stdout",
     "output_type": "stream",
     "text": [
      "[4 1 0 2 3]\n",
      "[2 4 5 6 7]\n"
     ]
    }
   ],
   "execution_count": 126
  },
  {
   "metadata": {},
   "cell_type": "markdown",
   "source": "# Multidimensional Array",
   "id": "1012fc2eca033b59"
  },
  {
   "metadata": {
    "ExecuteTime": {
     "end_time": "2024-08-04T11:55:10.332081Z",
     "start_time": "2024-08-04T11:55:10.325945Z"
    }
   },
   "cell_type": "code",
   "source": "a = np.arange(1,21).reshape(4,5)",
   "id": "a166ab2dac683f4b",
   "outputs": [],
   "execution_count": 128
  },
  {
   "metadata": {
    "ExecuteTime": {
     "end_time": "2024-08-04T11:55:11.849291Z",
     "start_time": "2024-08-04T11:55:11.831741Z"
    }
   },
   "cell_type": "code",
   "source": "a",
   "id": "49d473779d5ec503",
   "outputs": [
    {
     "data": {
      "text/plain": [
       "array([[ 1,  2,  3,  4,  5],\n",
       "       [ 6,  7,  8,  9, 10],\n",
       "       [11, 12, 13, 14, 15],\n",
       "       [16, 17, 18, 19, 20]])"
      ]
     },
     "execution_count": 129,
     "metadata": {},
     "output_type": "execute_result"
    }
   ],
   "execution_count": 129
  },
  {
   "metadata": {
    "ExecuteTime": {
     "end_time": "2024-08-04T11:55:18.550612Z",
     "start_time": "2024-08-04T11:55:18.544096Z"
    }
   },
   "cell_type": "code",
   "source": "a[0]",
   "id": "45d67db7a54a083",
   "outputs": [
    {
     "data": {
      "text/plain": [
       "array([1, 2, 3, 4, 5])"
      ]
     },
     "execution_count": 130,
     "metadata": {},
     "output_type": "execute_result"
    }
   ],
   "execution_count": 130
  },
  {
   "metadata": {
    "ExecuteTime": {
     "end_time": "2024-08-04T11:55:30.706880Z",
     "start_time": "2024-08-04T11:55:30.697888Z"
    }
   },
   "cell_type": "code",
   "source": "a[0][1]",
   "id": "6477bee6c218e04e",
   "outputs": [
    {
     "data": {
      "text/plain": [
       "2"
      ]
     },
     "execution_count": 131,
     "metadata": {},
     "output_type": "execute_result"
    }
   ],
   "execution_count": 131
  },
  {
   "metadata": {
    "ExecuteTime": {
     "end_time": "2024-08-04T11:55:48.900444Z",
     "start_time": "2024-08-04T11:55:48.893959Z"
    }
   },
   "cell_type": "code",
   "source": "a[0,1]",
   "id": "f11862c3f7c178fb",
   "outputs": [
    {
     "data": {
      "text/plain": [
       "2"
      ]
     },
     "execution_count": 132,
     "metadata": {},
     "output_type": "execute_result"
    }
   ],
   "execution_count": 132
  },
  {
   "metadata": {
    "ExecuteTime": {
     "end_time": "2024-08-04T11:56:10.816233Z",
     "start_time": "2024-08-04T11:56:10.803215Z"
    }
   },
   "cell_type": "code",
   "source": "a[0].ndim",
   "id": "59a17a9fda86882d",
   "outputs": [
    {
     "data": {
      "text/plain": [
       "1"
      ]
     },
     "execution_count": 133,
     "metadata": {},
     "output_type": "execute_result"
    }
   ],
   "execution_count": 133
  },
  {
   "metadata": {
    "ExecuteTime": {
     "end_time": "2024-08-04T11:56:24.101206Z",
     "start_time": "2024-08-04T11:56:24.088552Z"
    }
   },
   "cell_type": "code",
   "source": "a[1,1] = 10",
   "id": "47c516c1b8186f06",
   "outputs": [],
   "execution_count": 134
  },
  {
   "metadata": {
    "ExecuteTime": {
     "end_time": "2024-08-04T11:56:25.053014Z",
     "start_time": "2024-08-04T11:56:25.045197Z"
    }
   },
   "cell_type": "code",
   "source": "a",
   "id": "c399a1410654e85b",
   "outputs": [
    {
     "data": {
      "text/plain": [
       "array([[ 1,  2,  3,  4,  5],\n",
       "       [ 6, 10,  8,  9, 10],\n",
       "       [11, 12, 13, 14, 15],\n",
       "       [16, 17, 18, 19, 20]])"
      ]
     },
     "execution_count": 135,
     "metadata": {},
     "output_type": "execute_result"
    }
   ],
   "execution_count": 135
  },
  {
   "metadata": {
    "ExecuteTime": {
     "end_time": "2024-08-04T11:56:36.731246Z",
     "start_time": "2024-08-04T11:56:36.722369Z"
    }
   },
   "cell_type": "code",
   "source": "a[1,1] = 10.2",
   "id": "44008dae2a466590",
   "outputs": [],
   "execution_count": 136
  },
  {
   "metadata": {
    "ExecuteTime": {
     "end_time": "2024-08-04T11:56:38.793376Z",
     "start_time": "2024-08-04T11:56:38.787375Z"
    }
   },
   "cell_type": "code",
   "source": "a",
   "id": "fbb64d9f63ad0847",
   "outputs": [
    {
     "data": {
      "text/plain": [
       "array([[ 1,  2,  3,  4,  5],\n",
       "       [ 6, 10,  8,  9, 10],\n",
       "       [11, 12, 13, 14, 15],\n",
       "       [16, 17, 18, 19, 20]])"
      ]
     },
     "execution_count": 137,
     "metadata": {},
     "output_type": "execute_result"
    }
   ],
   "execution_count": 137
  },
  {
   "metadata": {},
   "cell_type": "markdown",
   "source": "# Slice Indexing",
   "id": "2602652f4eb2755e"
  },
  {
   "metadata": {
    "ExecuteTime": {
     "end_time": "2024-08-04T11:57:28.146927Z",
     "start_time": "2024-08-04T11:57:28.133295Z"
    }
   },
   "cell_type": "code",
   "source": "a = np.arange(1,21).reshape(4,5)",
   "id": "b77339a3c70f08b6",
   "outputs": [],
   "execution_count": 138
  },
  {
   "metadata": {
    "ExecuteTime": {
     "end_time": "2024-08-04T11:57:34.097173Z",
     "start_time": "2024-08-04T11:57:34.083147Z"
    }
   },
   "cell_type": "code",
   "source": "a",
   "id": "ea7fa27e6d689f06",
   "outputs": [
    {
     "data": {
      "text/plain": [
       "array([[ 1,  2,  3,  4,  5],\n",
       "       [ 6,  7,  8,  9, 10],\n",
       "       [11, 12, 13, 14, 15],\n",
       "       [16, 17, 18, 19, 20]])"
      ]
     },
     "execution_count": 139,
     "metadata": {},
     "output_type": "execute_result"
    }
   ],
   "execution_count": 139
  },
  {
   "metadata": {
    "ExecuteTime": {
     "end_time": "2024-08-04T11:57:40.394730Z",
     "start_time": "2024-08-04T11:57:40.378731Z"
    }
   },
   "cell_type": "code",
   "source": "a[0:3]",
   "id": "8178734ef994cc4b",
   "outputs": [
    {
     "data": {
      "text/plain": [
       "array([[ 1,  2,  3,  4,  5],\n",
       "       [ 6,  7,  8,  9, 10],\n",
       "       [11, 12, 13, 14, 15]])"
      ]
     },
     "execution_count": 140,
     "metadata": {},
     "output_type": "execute_result"
    }
   ],
   "execution_count": 140
  },
  {
   "metadata": {
    "ExecuteTime": {
     "end_time": "2024-08-04T11:57:50.516066Z",
     "start_time": "2024-08-04T11:57:50.508063Z"
    }
   },
   "cell_type": "code",
   "source": "a[:2]",
   "id": "d1c45d9434c13a31",
   "outputs": [
    {
     "data": {
      "text/plain": [
       "array([[ 1,  2,  3,  4,  5],\n",
       "       [ 6,  7,  8,  9, 10]])"
      ]
     },
     "execution_count": 141,
     "metadata": {},
     "output_type": "execute_result"
    }
   ],
   "execution_count": 141
  },
  {
   "metadata": {
    "ExecuteTime": {
     "end_time": "2024-08-04T11:58:06.857202Z",
     "start_time": "2024-08-04T11:58:06.845601Z"
    }
   },
   "cell_type": "code",
   "source": "a[2:]",
   "id": "6a77711fc7f9c280",
   "outputs": [
    {
     "data": {
      "text/plain": [
       "array([[11, 12, 13, 14, 15],\n",
       "       [16, 17, 18, 19, 20]])"
      ]
     },
     "execution_count": 143,
     "metadata": {},
     "output_type": "execute_result"
    }
   ],
   "execution_count": 143
  },
  {
   "metadata": {
    "ExecuteTime": {
     "end_time": "2024-08-04T11:58:37.832731Z",
     "start_time": "2024-08-04T11:58:37.823134Z"
    }
   },
   "cell_type": "code",
   "source": "a",
   "id": "8715edd698a8f5ee",
   "outputs": [
    {
     "data": {
      "text/plain": [
       "array([[ 1,  2,  3,  4,  5],\n",
       "       [ 6,  7,  8,  9, 10],\n",
       "       [11, 12, 13, 14, 15],\n",
       "       [16, 17, 18, 19, 20]])"
      ]
     },
     "execution_count": 144,
     "metadata": {},
     "output_type": "execute_result"
    }
   ],
   "execution_count": 144
  },
  {
   "metadata": {
    "ExecuteTime": {
     "end_time": "2024-08-04T11:58:41.761769Z",
     "start_time": "2024-08-04T11:58:41.752225Z"
    }
   },
   "cell_type": "code",
   "source": "a[::2]",
   "id": "3f2034efbffee0af",
   "outputs": [
    {
     "data": {
      "text/plain": [
       "array([[ 1,  2,  3,  4,  5],\n",
       "       [11, 12, 13, 14, 15]])"
      ]
     },
     "execution_count": 145,
     "metadata": {},
     "output_type": "execute_result"
    }
   ],
   "execution_count": 145
  },
  {
   "metadata": {
    "ExecuteTime": {
     "end_time": "2024-08-04T12:00:38.160143Z",
     "start_time": "2024-08-04T12:00:38.145019Z"
    }
   },
   "cell_type": "code",
   "source": "a = np.arange(1,101).reshape(10,10)",
   "id": "b3b57c5a01310498",
   "outputs": [],
   "execution_count": 158
  },
  {
   "metadata": {
    "ExecuteTime": {
     "end_time": "2024-08-04T12:00:39.424023Z",
     "start_time": "2024-08-04T12:00:39.410509Z"
    }
   },
   "cell_type": "code",
   "source": "a",
   "id": "8bcf0ee034279648",
   "outputs": [
    {
     "data": {
      "text/plain": [
       "array([[  1,   2,   3,   4,   5,   6,   7,   8,   9,  10],\n",
       "       [ 11,  12,  13,  14,  15,  16,  17,  18,  19,  20],\n",
       "       [ 21,  22,  23,  24,  25,  26,  27,  28,  29,  30],\n",
       "       [ 31,  32,  33,  34,  35,  36,  37,  38,  39,  40],\n",
       "       [ 41,  42,  43,  44,  45,  46,  47,  48,  49,  50],\n",
       "       [ 51,  52,  53,  54,  55,  56,  57,  58,  59,  60],\n",
       "       [ 61,  62,  63,  64,  65,  66,  67,  68,  69,  70],\n",
       "       [ 71,  72,  73,  74,  75,  76,  77,  78,  79,  80],\n",
       "       [ 81,  82,  83,  84,  85,  86,  87,  88,  89,  90],\n",
       "       [ 91,  92,  93,  94,  95,  96,  97,  98,  99, 100]])"
      ]
     },
     "execution_count": 159,
     "metadata": {},
     "output_type": "execute_result"
    }
   ],
   "execution_count": 159
  },
  {
   "metadata": {
    "ExecuteTime": {
     "end_time": "2024-08-04T12:00:42.691956Z",
     "start_time": "2024-08-04T12:00:42.681677Z"
    }
   },
   "cell_type": "code",
   "source": "a[1::2]",
   "id": "58ae6a1853f8f005",
   "outputs": [
    {
     "data": {
      "text/plain": [
       "array([[ 11,  12,  13,  14,  15,  16,  17,  18,  19,  20],\n",
       "       [ 31,  32,  33,  34,  35,  36,  37,  38,  39,  40],\n",
       "       [ 51,  52,  53,  54,  55,  56,  57,  58,  59,  60],\n",
       "       [ 71,  72,  73,  74,  75,  76,  77,  78,  79,  80],\n",
       "       [ 91,  92,  93,  94,  95,  96,  97,  98,  99, 100]])"
      ]
     },
     "execution_count": 160,
     "metadata": {},
     "output_type": "execute_result"
    }
   ],
   "execution_count": 160
  },
  {
   "metadata": {
    "ExecuteTime": {
     "end_time": "2024-08-04T12:01:00.927930Z",
     "start_time": "2024-08-04T12:01:00.908865Z"
    }
   },
   "cell_type": "code",
   "source": "a[:,3]",
   "id": "47a5794a3ff0cefb",
   "outputs": [
    {
     "data": {
      "text/plain": [
       "array([ 4, 14, 24, 34, 44, 54, 64, 74, 84, 94])"
      ]
     },
     "execution_count": 161,
     "metadata": {},
     "output_type": "execute_result"
    }
   ],
   "execution_count": 161
  },
  {
   "metadata": {
    "ExecuteTime": {
     "end_time": "2024-08-04T12:01:44.548222Z",
     "start_time": "2024-08-04T12:01:44.542153Z"
    }
   },
   "cell_type": "code",
   "source": "a[::2,3]    ",
   "id": "44971924647dec6d",
   "outputs": [
    {
     "data": {
      "text/plain": [
       "array([ 4, 24, 44, 64, 84])"
      ]
     },
     "execution_count": 162,
     "metadata": {},
     "output_type": "execute_result"
    }
   ],
   "execution_count": 162
  },
  {
   "metadata": {
    "ExecuteTime": {
     "end_time": "2024-08-04T12:02:46.444394Z",
     "start_time": "2024-08-04T12:02:46.425277Z"
    }
   },
   "cell_type": "code",
   "source": "a[0,2:4]",
   "id": "f7550d0fbb16bf99",
   "outputs": [
    {
     "data": {
      "text/plain": [
       "array([3, 4])"
      ]
     },
     "execution_count": 163,
     "metadata": {},
     "output_type": "execute_result"
    }
   ],
   "execution_count": 163
  },
  {
   "metadata": {
    "ExecuteTime": {
     "end_time": "2024-08-04T12:03:49.407322Z",
     "start_time": "2024-08-04T12:03:49.393532Z"
    }
   },
   "cell_type": "code",
   "source": "a[0:2,0:3]",
   "id": "304a5bf02ad61c13",
   "outputs": [
    {
     "data": {
      "text/plain": [
       "array([[ 1,  2,  3],\n",
       "       [11, 12, 13]])"
      ]
     },
     "execution_count": 164,
     "metadata": {},
     "output_type": "execute_result"
    }
   ],
   "execution_count": 164
  },
  {
   "metadata": {
    "ExecuteTime": {
     "end_time": "2024-08-04T12:04:11.773479Z",
     "start_time": "2024-08-04T12:04:11.764968Z"
    }
   },
   "cell_type": "code",
   "source": "a",
   "id": "b29b8cbf5f50e553",
   "outputs": [
    {
     "data": {
      "text/plain": [
       "array([[  1,   2,   3,   4,   5,   6,   7,   8,   9,  10],\n",
       "       [ 11,  12,  13,  14,  15,  16,  17,  18,  19,  20],\n",
       "       [ 21,  22,  23,  24,  25,  26,  27,  28,  29,  30],\n",
       "       [ 31,  32,  33,  34,  35,  36,  37,  38,  39,  40],\n",
       "       [ 41,  42,  43,  44,  45,  46,  47,  48,  49,  50],\n",
       "       [ 51,  52,  53,  54,  55,  56,  57,  58,  59,  60],\n",
       "       [ 61,  62,  63,  64,  65,  66,  67,  68,  69,  70],\n",
       "       [ 71,  72,  73,  74,  75,  76,  77,  78,  79,  80],\n",
       "       [ 81,  82,  83,  84,  85,  86,  87,  88,  89,  90],\n",
       "       [ 91,  92,  93,  94,  95,  96,  97,  98,  99, 100]])"
      ]
     },
     "execution_count": 165,
     "metadata": {},
     "output_type": "execute_result"
    }
   ],
   "execution_count": 165
  },
  {
   "metadata": {
    "ExecuteTime": {
     "end_time": "2024-08-04T12:04:18.249573Z",
     "start_time": "2024-08-04T12:04:18.238864Z"
    }
   },
   "cell_type": "code",
   "source": "a[::,:4]",
   "id": "4fd27723fc250c02",
   "outputs": [
    {
     "data": {
      "text/plain": [
       "array([[ 1,  2,  3,  4],\n",
       "       [11, 12, 13, 14],\n",
       "       [21, 22, 23, 24],\n",
       "       [31, 32, 33, 34],\n",
       "       [41, 42, 43, 44],\n",
       "       [51, 52, 53, 54],\n",
       "       [61, 62, 63, 64],\n",
       "       [71, 72, 73, 74],\n",
       "       [81, 82, 83, 84],\n",
       "       [91, 92, 93, 94]])"
      ]
     },
     "execution_count": 166,
     "metadata": {},
     "output_type": "execute_result"
    }
   ],
   "execution_count": 166
  },
  {
   "metadata": {
    "ExecuteTime": {
     "end_time": "2024-08-04T12:04:53.247582Z",
     "start_time": "2024-08-04T12:04:53.234409Z"
    }
   },
   "cell_type": "code",
   "source": "a[:,:4]",
   "id": "16385bf2a319bd99",
   "outputs": [
    {
     "data": {
      "text/plain": [
       "array([[ 1,  2,  3,  4],\n",
       "       [11, 12, 13, 14],\n",
       "       [21, 22, 23, 24],\n",
       "       [31, 32, 33, 34],\n",
       "       [41, 42, 43, 44],\n",
       "       [51, 52, 53, 54],\n",
       "       [61, 62, 63, 64],\n",
       "       [71, 72, 73, 74],\n",
       "       [81, 82, 83, 84],\n",
       "       [91, 92, 93, 94]])"
      ]
     },
     "execution_count": 167,
     "metadata": {},
     "output_type": "execute_result"
    }
   ],
   "execution_count": 167
  },
  {
   "metadata": {
    "ExecuteTime": {
     "end_time": "2024-08-04T12:05:38.949016Z",
     "start_time": "2024-08-04T12:05:38.933217Z"
    }
   },
   "cell_type": "code",
   "source": "a = np.arange(1,13).reshape(3,4)",
   "id": "da3a4aaca7531028",
   "outputs": [],
   "execution_count": 168
  },
  {
   "metadata": {
    "ExecuteTime": {
     "end_time": "2024-08-04T12:05:41.663797Z",
     "start_time": "2024-08-04T12:05:41.653464Z"
    }
   },
   "cell_type": "code",
   "source": "a",
   "id": "967a617435e0c7a9",
   "outputs": [
    {
     "data": {
      "text/plain": [
       "array([[ 1,  2,  3,  4],\n",
       "       [ 5,  6,  7,  8],\n",
       "       [ 9, 10, 11, 12]])"
      ]
     },
     "execution_count": 169,
     "metadata": {},
     "output_type": "execute_result"
    }
   ],
   "execution_count": 169
  },
  {
   "metadata": {
    "ExecuteTime": {
     "end_time": "2024-08-04T12:06:02.974275Z",
     "start_time": "2024-08-04T12:06:02.969267Z"
    }
   },
   "cell_type": "code",
   "source": "a[::2]",
   "id": "e4a0f07fa6deefb7",
   "outputs": [
    {
     "data": {
      "text/plain": [
       "array([[ 1,  2,  3,  4],\n",
       "       [ 9, 10, 11, 12]])"
      ]
     },
     "execution_count": 170,
     "metadata": {},
     "output_type": "execute_result"
    }
   ],
   "execution_count": 170
  },
  {
   "metadata": {},
   "cell_type": "markdown",
   "source": "# Fancy Indexing",
   "id": "b048f2201c37dc45"
  },
  {
   "metadata": {
    "ExecuteTime": {
     "end_time": "2024-08-04T13:02:56.475472Z",
     "start_time": "2024-08-04T13:02:56.471471Z"
    }
   },
   "cell_type": "code",
   "source": "x = np.arange(1,15)",
   "id": "19c617c72d3dae25",
   "outputs": [],
   "execution_count": 171
  },
  {
   "metadata": {
    "ExecuteTime": {
     "end_time": "2024-08-04T13:03:00.100826Z",
     "start_time": "2024-08-04T13:03:00.095253Z"
    }
   },
   "cell_type": "code",
   "source": "x",
   "id": "bc35599c9b925e05",
   "outputs": [
    {
     "data": {
      "text/plain": [
       "array([ 1,  2,  3,  4,  5,  6,  7,  8,  9, 10, 11, 12, 13, 14])"
      ]
     },
     "execution_count": 172,
     "metadata": {},
     "output_type": "execute_result"
    }
   ],
   "execution_count": 172
  },
  {
   "metadata": {
    "ExecuteTime": {
     "end_time": "2024-08-04T13:04:53.881603Z",
     "start_time": "2024-08-04T13:04:53.863531Z"
    }
   },
   "cell_type": "code",
   "source": "idxs = [4,5,7,1]",
   "id": "854b4a02e021780e",
   "outputs": [],
   "execution_count": 177
  },
  {
   "metadata": {
    "ExecuteTime": {
     "end_time": "2024-08-04T13:04:54.606843Z",
     "start_time": "2024-08-04T13:04:54.592314Z"
    }
   },
   "cell_type": "code",
   "source": "x[idxs]",
   "id": "10021ba6a94280ac",
   "outputs": [
    {
     "data": {
      "text/plain": [
       "array([5, 6, 8, 2])"
      ]
     },
     "execution_count": 178,
     "metadata": {},
     "output_type": "execute_result"
    }
   ],
   "execution_count": 178
  },
  {
   "metadata": {
    "ExecuteTime": {
     "end_time": "2024-08-04T13:09:45.730219Z",
     "start_time": "2024-08-04T13:09:45.720690Z"
    }
   },
   "cell_type": "code",
   "source": "a = np.arange(12).reshape(3,4)",
   "id": "fd1dd853bfdc945c",
   "outputs": [],
   "execution_count": 185
  },
  {
   "metadata": {
    "ExecuteTime": {
     "end_time": "2024-08-04T13:09:46.790793Z",
     "start_time": "2024-08-04T13:09:46.780261Z"
    }
   },
   "cell_type": "code",
   "source": "a",
   "id": "cce38172b121a8af",
   "outputs": [
    {
     "data": {
      "text/plain": [
       "array([[ 0,  1,  2,  3],\n",
       "       [ 4,  5,  6,  7],\n",
       "       [ 8,  9, 10, 11]])"
      ]
     },
     "execution_count": 186,
     "metadata": {},
     "output_type": "execute_result"
    }
   ],
   "execution_count": 186
  },
  {
   "metadata": {
    "ExecuteTime": {
     "end_time": "2024-08-04T13:09:48.276081Z",
     "start_time": "2024-08-04T13:09:48.263120Z"
    }
   },
   "cell_type": "code",
   "source": "a[0:2,1]",
   "id": "16524c685ef16559",
   "outputs": [
    {
     "data": {
      "text/plain": [
       "array([1, 5])"
      ]
     },
     "execution_count": 187,
     "metadata": {},
     "output_type": "execute_result"
    }
   ],
   "execution_count": 187
  },
  {
   "metadata": {
    "ExecuteTime": {
     "end_time": "2024-08-04T13:09:48.832561Z",
     "start_time": "2024-08-04T13:09:48.818015Z"
    }
   },
   "cell_type": "code",
   "source": "a[0:2,1].shape",
   "id": "52a2e75d055fbce9",
   "outputs": [
    {
     "data": {
      "text/plain": [
       "(2,)"
      ]
     },
     "execution_count": 188,
     "metadata": {},
     "output_type": "execute_result"
    }
   ],
   "execution_count": 188
  },
  {
   "metadata": {
    "ExecuteTime": {
     "end_time": "2024-08-04T13:09:49.387216Z",
     "start_time": "2024-08-04T13:09:49.380705Z"
    }
   },
   "cell_type": "code",
   "source": "a[0:2,1:3]",
   "id": "cd18e6a9ed8d4ec3",
   "outputs": [
    {
     "data": {
      "text/plain": [
       "array([[1, 2],\n",
       "       [5, 6]])"
      ]
     },
     "execution_count": 189,
     "metadata": {},
     "output_type": "execute_result"
    }
   ],
   "execution_count": 189
  },
  {
   "metadata": {
    "ExecuteTime": {
     "end_time": "2024-08-04T13:10:04.822125Z",
     "start_time": "2024-08-04T13:10:04.815102Z"
    }
   },
   "cell_type": "code",
   "source": "a[0:2,1:3].shape",
   "id": "ec7b5e1644478c13",
   "outputs": [
    {
     "data": {
      "text/plain": [
       "(2, 2)"
      ]
     },
     "execution_count": 190,
     "metadata": {},
     "output_type": "execute_result"
    }
   ],
   "execution_count": 190
  },
  {
   "metadata": {
    "ExecuteTime": {
     "end_time": "2024-08-04T13:10:38.084789Z",
     "start_time": "2024-08-04T13:10:38.077789Z"
    }
   },
   "cell_type": "code",
   "source": "a[0,[1,3]]",
   "id": "bc8931dc169c3fbc",
   "outputs": [
    {
     "data": {
      "text/plain": [
       "array([1, 3])"
      ]
     },
     "execution_count": 191,
     "metadata": {},
     "output_type": "execute_result"
    }
   ],
   "execution_count": 191
  },
  {
   "metadata": {
    "ExecuteTime": {
     "end_time": "2024-08-04T13:11:03.599031Z",
     "start_time": "2024-08-04T13:11:03.592225Z"
    }
   },
   "cell_type": "code",
   "source": "a[0,[1,3]].ndim",
   "id": "2e5b034e8bbf3497",
   "outputs": [
    {
     "data": {
      "text/plain": [
       "1"
      ]
     },
     "execution_count": 192,
     "metadata": {},
     "output_type": "execute_result"
    }
   ],
   "execution_count": 192
  },
  {
   "metadata": {
    "ExecuteTime": {
     "end_time": "2024-08-04T13:13:32.959059Z",
     "start_time": "2024-08-04T13:13:32.954059Z"
    }
   },
   "cell_type": "code",
   "source": "a = np.arange(20).reshape(4,5)",
   "id": "4ad05e79c30b1ba3",
   "outputs": [],
   "execution_count": 193
  },
  {
   "metadata": {
    "ExecuteTime": {
     "end_time": "2024-08-04T13:13:34.812253Z",
     "start_time": "2024-08-04T13:13:34.803131Z"
    }
   },
   "cell_type": "code",
   "source": "a",
   "id": "83b21e72ab9110d7",
   "outputs": [
    {
     "data": {
      "text/plain": [
       "array([[ 0,  1,  2,  3,  4],\n",
       "       [ 5,  6,  7,  8,  9],\n",
       "       [10, 11, 12, 13, 14],\n",
       "       [15, 16, 17, 18, 19]])"
      ]
     },
     "execution_count": 194,
     "metadata": {},
     "output_type": "execute_result"
    }
   ],
   "execution_count": 194
  },
  {
   "metadata": {
    "ExecuteTime": {
     "end_time": "2024-08-04T13:13:54.887582Z",
     "start_time": "2024-08-04T13:13:54.871282Z"
    }
   },
   "cell_type": "code",
   "source": [
    "idx1 = [1,3,2]\n",
    "idx2 = [3,0,2]"
   ],
   "id": "919c7b752a0c37c6",
   "outputs": [],
   "execution_count": 195
  },
  {
   "metadata": {
    "ExecuteTime": {
     "end_time": "2024-08-04T13:14:01.462451Z",
     "start_time": "2024-08-04T13:14:01.450870Z"
    }
   },
   "cell_type": "code",
   "source": "a[idx1,idx2]",
   "id": "5d16ffdd1d4d9801",
   "outputs": [
    {
     "data": {
      "text/plain": [
       "array([ 8, 15, 12])"
      ]
     },
     "execution_count": 196,
     "metadata": {},
     "output_type": "execute_result"
    }
   ],
   "execution_count": 196
  },
  {
   "metadata": {
    "ExecuteTime": {
     "end_time": "2024-08-04T13:14:07.543615Z",
     "start_time": "2024-08-04T13:14:07.526578Z"
    }
   },
   "cell_type": "code",
   "source": "a[idx1][idx2]",
   "id": "f8908f7a836ceb6a",
   "outputs": [
    {
     "ename": "IndexError",
     "evalue": "index 3 is out of bounds for axis 0 with size 3",
     "output_type": "error",
     "traceback": [
      "\u001B[1;31m---------------------------------------------------------------------------\u001B[0m",
      "\u001B[1;31mIndexError\u001B[0m                                Traceback (most recent call last)",
      "Cell \u001B[1;32mIn[197], line 1\u001B[0m\n\u001B[1;32m----> 1\u001B[0m \u001B[43ma\u001B[49m\u001B[43m[\u001B[49m\u001B[43midx1\u001B[49m\u001B[43m]\u001B[49m\u001B[43m[\u001B[49m\u001B[43midx2\u001B[49m\u001B[43m]\u001B[49m\n",
      "\u001B[1;31mIndexError\u001B[0m: index 3 is out of bounds for axis 0 with size 3"
     ]
    }
   ],
   "execution_count": 197
  },
  {
   "metadata": {
    "ExecuteTime": {
     "end_time": "2024-08-04T13:20:36.753835Z",
     "start_time": "2024-08-04T13:20:36.745493Z"
    }
   },
   "cell_type": "code",
   "source": "x",
   "id": "65c9d0361e76f77b",
   "outputs": [
    {
     "data": {
      "text/plain": [
       "array([ 1,  2,  3,  4,  5,  6,  7,  8,  9, 10, 11, 12, 13, 14])"
      ]
     },
     "execution_count": 198,
     "metadata": {},
     "output_type": "execute_result"
    }
   ],
   "execution_count": 198
  },
  {
   "metadata": {
    "ExecuteTime": {
     "end_time": "2024-08-04T13:20:51.145980Z",
     "start_time": "2024-08-04T13:20:51.136855Z"
    }
   },
   "cell_type": "code",
   "source": "x[[1,2,3]] = 20",
   "id": "53d2ec68c3900144",
   "outputs": [],
   "execution_count": 199
  },
  {
   "metadata": {
    "ExecuteTime": {
     "end_time": "2024-08-04T13:20:53.099741Z",
     "start_time": "2024-08-04T13:20:53.087720Z"
    }
   },
   "cell_type": "code",
   "source": "x",
   "id": "3dddef44c6507375",
   "outputs": [
    {
     "data": {
      "text/plain": [
       "array([ 1, 20, 20, 20,  5,  6,  7,  8,  9, 10, 11, 12, 13, 14])"
      ]
     },
     "execution_count": 200,
     "metadata": {},
     "output_type": "execute_result"
    }
   ],
   "execution_count": 200
  },
  {
   "metadata": {
    "ExecuteTime": {
     "end_time": "2024-08-04T13:21:28.422277Z",
     "start_time": "2024-08-04T13:21:28.410737Z"
    }
   },
   "cell_type": "code",
   "source": "x = np.arange(9)",
   "id": "670d795e8eecad0",
   "outputs": [],
   "execution_count": 202
  },
  {
   "metadata": {
    "ExecuteTime": {
     "end_time": "2024-08-04T13:21:29.663034Z",
     "start_time": "2024-08-04T13:21:29.657499Z"
    }
   },
   "cell_type": "code",
   "source": "x",
   "id": "6b4b73e556919c14",
   "outputs": [
    {
     "data": {
      "text/plain": [
       "array([0, 1, 2, 3, 4, 5, 6, 7, 8])"
      ]
     },
     "execution_count": 203,
     "metadata": {},
     "output_type": "execute_result"
    }
   ],
   "execution_count": 203
  },
  {
   "metadata": {
    "ExecuteTime": {
     "end_time": "2024-08-04T13:21:49.029979Z",
     "start_time": "2024-08-04T13:21:49.020470Z"
    }
   },
   "cell_type": "code",
   "source": "x[[1,2,5]] = [100,200,300]",
   "id": "8e4b2f5e1dc5e8a9",
   "outputs": [],
   "execution_count": 204
  },
  {
   "metadata": {
    "ExecuteTime": {
     "end_time": "2024-08-04T13:21:50.776787Z",
     "start_time": "2024-08-04T13:21:50.758062Z"
    }
   },
   "cell_type": "code",
   "source": "x",
   "id": "c76325316bb5269c",
   "outputs": [
    {
     "data": {
      "text/plain": [
       "array([  0, 100, 200,   3,   4, 300,   6,   7,   8])"
      ]
     },
     "execution_count": 205,
     "metadata": {},
     "output_type": "execute_result"
    }
   ],
   "execution_count": 205
  },
  {
   "metadata": {},
   "cell_type": "markdown",
   "source": "# Subarray",
   "id": "40395ca46f819afe"
  },
  {
   "metadata": {
    "ExecuteTime": {
     "end_time": "2024-08-04T13:31:52.886444Z",
     "start_time": "2024-08-04T13:31:52.878375Z"
    }
   },
   "cell_type": "code",
   "source": "a = np.arange(1,21).reshape(4,5)",
   "id": "c77e1bf82e4bfdba",
   "outputs": [],
   "execution_count": 210
  },
  {
   "metadata": {
    "ExecuteTime": {
     "end_time": "2024-08-04T13:31:54.537378Z",
     "start_time": "2024-08-04T13:31:54.517013Z"
    }
   },
   "cell_type": "code",
   "source": "a",
   "id": "87e47e6a4b46e9e2",
   "outputs": [
    {
     "data": {
      "text/plain": [
       "array([[ 1,  2,  3,  4,  5],\n",
       "       [ 6,  7,  8,  9, 10],\n",
       "       [11, 12, 13, 14, 15],\n",
       "       [16, 17, 18, 19, 20]])"
      ]
     },
     "execution_count": 211,
     "metadata": {},
     "output_type": "execute_result"
    }
   ],
   "execution_count": 211
  },
  {
   "metadata": {
    "ExecuteTime": {
     "end_time": "2024-08-04T13:32:09.988637Z",
     "start_time": "2024-08-04T13:32:09.983126Z"
    }
   },
   "cell_type": "code",
   "source": "b = a[:2,:3]",
   "id": "608389c65d63dcbc",
   "outputs": [],
   "execution_count": 212
  },
  {
   "metadata": {
    "ExecuteTime": {
     "end_time": "2024-08-04T13:32:10.640490Z",
     "start_time": "2024-08-04T13:32:10.627459Z"
    }
   },
   "cell_type": "code",
   "source": "b",
   "id": "971714bd8aa104a3",
   "outputs": [
    {
     "data": {
      "text/plain": [
       "array([[1, 2, 3],\n",
       "       [6, 7, 8]])"
      ]
     },
     "execution_count": 213,
     "metadata": {},
     "output_type": "execute_result"
    }
   ],
   "execution_count": 213
  },
  {
   "metadata": {
    "ExecuteTime": {
     "end_time": "2024-08-04T13:32:19.144710Z",
     "start_time": "2024-08-04T13:32:19.132136Z"
    }
   },
   "cell_type": "code",
   "source": "b.ndim",
   "id": "47f7c2421b0a58f5",
   "outputs": [
    {
     "data": {
      "text/plain": [
       "2"
      ]
     },
     "execution_count": 214,
     "metadata": {},
     "output_type": "execute_result"
    }
   ],
   "execution_count": 214
  },
  {
   "metadata": {
    "ExecuteTime": {
     "end_time": "2024-08-04T13:32:36.379527Z",
     "start_time": "2024-08-04T13:32:36.367963Z"
    }
   },
   "cell_type": "code",
   "source": "b[0,0] = 100",
   "id": "5da840ff77d2b235",
   "outputs": [],
   "execution_count": 215
  },
  {
   "metadata": {
    "ExecuteTime": {
     "end_time": "2024-08-04T13:32:38.273999Z",
     "start_time": "2024-08-04T13:32:38.260412Z"
    }
   },
   "cell_type": "code",
   "source": "b",
   "id": "51595316f5172909",
   "outputs": [
    {
     "data": {
      "text/plain": [
       "array([[100,   2,   3],\n",
       "       [  6,   7,   8]])"
      ]
     },
     "execution_count": 216,
     "metadata": {},
     "output_type": "execute_result"
    }
   ],
   "execution_count": 216
  },
  {
   "metadata": {
    "ExecuteTime": {
     "end_time": "2024-08-04T13:32:40.646562Z",
     "start_time": "2024-08-04T13:32:40.636311Z"
    }
   },
   "cell_type": "code",
   "source": "a",
   "id": "202d14282e8be1d0",
   "outputs": [
    {
     "data": {
      "text/plain": [
       "array([[100,   2,   3,   4,   5],\n",
       "       [  6,   7,   8,   9,  10],\n",
       "       [ 11,  12,  13,  14,  15],\n",
       "       [ 16,  17,  18,  19,  20]])"
      ]
     },
     "execution_count": 217,
     "metadata": {},
     "output_type": "execute_result"
    }
   ],
   "execution_count": 217
  },
  {
   "metadata": {},
   "cell_type": "markdown",
   "source": "# Conditional Indexing ",
   "id": "9a603da67e82a66"
  },
  {
   "metadata": {
    "ExecuteTime": {
     "end_time": "2024-08-04T13:35:26.650799Z",
     "start_time": "2024-08-04T13:35:26.637979Z"
    }
   },
   "cell_type": "code",
   "source": "a = np.arange(1,10)",
   "id": "5fd0954359b2bc96",
   "outputs": [],
   "execution_count": 218
  },
  {
   "metadata": {
    "ExecuteTime": {
     "end_time": "2024-08-04T13:35:28.197167Z",
     "start_time": "2024-08-04T13:35:28.190190Z"
    }
   },
   "cell_type": "code",
   "source": "a",
   "id": "76c2045ca414ee13",
   "outputs": [
    {
     "data": {
      "text/plain": [
       "array([1, 2, 3, 4, 5, 6, 7, 8, 9])"
      ]
     },
     "execution_count": 219,
     "metadata": {},
     "output_type": "execute_result"
    }
   ],
   "execution_count": 219
  },
  {
   "metadata": {
    "ExecuteTime": {
     "end_time": "2024-08-04T13:35:30.691186Z",
     "start_time": "2024-08-04T13:35:30.671163Z"
    }
   },
   "cell_type": "code",
   "source": "a < 5",
   "id": "b8eb3c5fc72721dd",
   "outputs": [
    {
     "data": {
      "text/plain": [
       "array([ True,  True,  True,  True, False, False, False, False, False])"
      ]
     },
     "execution_count": 220,
     "metadata": {},
     "output_type": "execute_result"
    }
   ],
   "execution_count": 220
  },
  {
   "metadata": {
    "ExecuteTime": {
     "end_time": "2024-08-04T13:35:40.754188Z",
     "start_time": "2024-08-04T13:35:40.740500Z"
    }
   },
   "cell_type": "code",
   "source": "a[a<5]",
   "id": "93c38f1dceaf30a2",
   "outputs": [
    {
     "data": {
      "text/plain": [
       "array([1, 2, 3, 4])"
      ]
     },
     "execution_count": 221,
     "metadata": {},
     "output_type": "execute_result"
    }
   ],
   "execution_count": 221
  },
  {
   "metadata": {
    "ExecuteTime": {
     "end_time": "2024-08-04T13:36:53.530266Z",
     "start_time": "2024-08-04T13:36:53.512118Z"
    }
   },
   "cell_type": "code",
   "source": "a",
   "id": "ed0a8a54d07ff0ee",
   "outputs": [
    {
     "data": {
      "text/plain": [
       "array([1, 2, 3, 4, 5, 6, 7, 8, 9])"
      ]
     },
     "execution_count": 222,
     "metadata": {},
     "output_type": "execute_result"
    }
   ],
   "execution_count": 222
  },
  {
   "metadata": {
    "ExecuteTime": {
     "end_time": "2024-08-04T13:36:59.850978Z",
     "start_time": "2024-08-04T13:36:59.839947Z"
    }
   },
   "cell_type": "code",
   "source": "filt = a < 3",
   "id": "ab8eb197ab39d045",
   "outputs": [],
   "execution_count": 223
  },
  {
   "metadata": {
    "ExecuteTime": {
     "end_time": "2024-08-04T13:37:03.814662Z",
     "start_time": "2024-08-04T13:37:03.794628Z"
    }
   },
   "cell_type": "code",
   "source": "a[filt]",
   "id": "9b1874cd07a7829c",
   "outputs": [
    {
     "data": {
      "text/plain": [
       "array([1, 2])"
      ]
     },
     "execution_count": 224,
     "metadata": {},
     "output_type": "execute_result"
    }
   ],
   "execution_count": 224
  },
  {
   "metadata": {
    "ExecuteTime": {
     "end_time": "2024-08-04T13:37:07.210695Z",
     "start_time": "2024-08-04T13:37:07.197612Z"
    }
   },
   "cell_type": "code",
   "source": "a",
   "id": "be237d34aaa51ec5",
   "outputs": [
    {
     "data": {
      "text/plain": [
       "array([1, 2, 3, 4, 5, 6, 7, 8, 9])"
      ]
     },
     "execution_count": 225,
     "metadata": {},
     "output_type": "execute_result"
    }
   ],
   "execution_count": 225
  },
  {
   "metadata": {
    "ExecuteTime": {
     "end_time": "2024-08-04T13:37:22.705157Z",
     "start_time": "2024-08-04T13:37:22.690647Z"
    }
   },
   "cell_type": "code",
   "source": "filt",
   "id": "6900e2d6d8f7661d",
   "outputs": [
    {
     "data": {
      "text/plain": [
       "array([ True,  True, False, False, False, False, False, False, False])"
      ]
     },
     "execution_count": 226,
     "metadata": {},
     "output_type": "execute_result"
    }
   ],
   "execution_count": 226
  },
  {
   "metadata": {
    "ExecuteTime": {
     "end_time": "2024-08-04T13:38:34.369656Z",
     "start_time": "2024-08-04T13:38:34.355897Z"
    }
   },
   "cell_type": "code",
   "source": "b = np.array([2,3,4,32,5,6,61,7,11])",
   "id": "c7d592678bb007d4",
   "outputs": [],
   "execution_count": 233
  },
  {
   "metadata": {
    "ExecuteTime": {
     "end_time": "2024-08-04T13:38:34.953353Z",
     "start_time": "2024-08-04T13:38:34.939640Z"
    }
   },
   "cell_type": "code",
   "source": "b",
   "id": "e086a995de2d4681",
   "outputs": [
    {
     "data": {
      "text/plain": [
       "array([ 2,  3,  4, 32,  5,  6, 61,  7, 11])"
      ]
     },
     "execution_count": 234,
     "metadata": {},
     "output_type": "execute_result"
    }
   ],
   "execution_count": 234
  },
  {
   "metadata": {
    "ExecuteTime": {
     "end_time": "2024-08-04T13:38:35.172333Z",
     "start_time": "2024-08-04T13:38:35.152449Z"
    }
   },
   "cell_type": "code",
   "source": "a == b",
   "id": "1208dead561f0b67",
   "outputs": [
    {
     "data": {
      "text/plain": [
       "array([False, False, False, False,  True,  True, False, False, False])"
      ]
     },
     "execution_count": 235,
     "metadata": {},
     "output_type": "execute_result"
    }
   ],
   "execution_count": 235
  },
  {
   "metadata": {
    "ExecuteTime": {
     "end_time": "2024-08-04T13:38:41.934368Z",
     "start_time": "2024-08-04T13:38:41.925821Z"
    }
   },
   "cell_type": "code",
   "source": "a[a==b]",
   "id": "ff13226848d957ee",
   "outputs": [
    {
     "data": {
      "text/plain": [
       "array([5, 6])"
      ]
     },
     "execution_count": 236,
     "metadata": {},
     "output_type": "execute_result"
    }
   ],
   "execution_count": 236
  },
  {
   "metadata": {
    "ExecuteTime": {
     "end_time": "2024-08-04T13:39:02.643971Z",
     "start_time": "2024-08-04T13:39:02.630625Z"
    }
   },
   "cell_type": "code",
   "source": "b[a==b]",
   "id": "5d298768919a04d",
   "outputs": [
    {
     "data": {
      "text/plain": [
       "array([5, 6])"
      ]
     },
     "execution_count": 237,
     "metadata": {},
     "output_type": "execute_result"
    }
   ],
   "execution_count": 237
  },
  {
   "metadata": {
    "ExecuteTime": {
     "end_time": "2024-08-04T13:39:16.279769Z",
     "start_time": "2024-08-04T13:39:16.274277Z"
    }
   },
   "cell_type": "code",
   "source": "a == [1]",
   "id": "77987a80664dc595",
   "outputs": [
    {
     "data": {
      "text/plain": [
       "array([ True, False, False, False, False, False, False, False, False])"
      ]
     },
     "execution_count": 238,
     "metadata": {},
     "output_type": "execute_result"
    }
   ],
   "execution_count": 238
  },
  {
   "metadata": {
    "ExecuteTime": {
     "end_time": "2024-08-04T13:39:24.850281Z",
     "start_time": "2024-08-04T13:39:24.835442Z"
    }
   },
   "cell_type": "code",
   "source": "a == 1",
   "id": "a1a41599aead1b3e",
   "outputs": [
    {
     "data": {
      "text/plain": [
       "array([ True, False, False, False, False, False, False, False, False])"
      ]
     },
     "execution_count": 239,
     "metadata": {},
     "output_type": "execute_result"
    }
   ],
   "execution_count": 239
  },
  {
   "metadata": {
    "ExecuteTime": {
     "end_time": "2024-08-04T13:39:53.099314Z",
     "start_time": "2024-08-04T13:39:53.085290Z"
    }
   },
   "cell_type": "code",
   "source": "(a < 3) or (a > 5)",
   "id": "bafeba028b4bbeac",
   "outputs": [
    {
     "ename": "ValueError",
     "evalue": "The truth value of an array with more than one element is ambiguous. Use a.any() or a.all()",
     "output_type": "error",
     "traceback": [
      "\u001B[1;31m---------------------------------------------------------------------------\u001B[0m",
      "\u001B[1;31mValueError\u001B[0m                                Traceback (most recent call last)",
      "Cell \u001B[1;32mIn[240], line 1\u001B[0m\n\u001B[1;32m----> 1\u001B[0m (a \u001B[38;5;241m<\u001B[39m \u001B[38;5;241m3\u001B[39m) \u001B[38;5;129;01mor\u001B[39;00m (a \u001B[38;5;241m>\u001B[39m \u001B[38;5;241m5\u001B[39m)\n",
      "\u001B[1;31mValueError\u001B[0m: The truth value of an array with more than one element is ambiguous. Use a.any() or a.all()"
     ]
    }
   ],
   "execution_count": 240
  },
  {
   "metadata": {
    "ExecuteTime": {
     "end_time": "2024-08-04T13:40:13.047943Z",
     "start_time": "2024-08-04T13:40:13.039914Z"
    }
   },
   "cell_type": "code",
   "source": "(a < 3) | (a > 5)",
   "id": "6a36d6d618b8b837",
   "outputs": [
    {
     "data": {
      "text/plain": [
       "array([ True,  True, False, False, False,  True,  True,  True,  True])"
      ]
     },
     "execution_count": 241,
     "metadata": {},
     "output_type": "execute_result"
    }
   ],
   "execution_count": 241
  },
  {
   "metadata": {
    "ExecuteTime": {
     "end_time": "2024-08-04T13:41:23.549393Z",
     "start_time": "2024-08-04T13:41:23.535855Z"
    }
   },
   "cell_type": "code",
   "source": "a[(a < 3) | (a > 5)]",
   "id": "71284ceae3f871c",
   "outputs": [
    {
     "data": {
      "text/plain": [
       "array([1, 2, 6, 7, 8, 9])"
      ]
     },
     "execution_count": 244,
     "metadata": {},
     "output_type": "execute_result"
    }
   ],
   "execution_count": 244
  },
  {
   "metadata": {
    "ExecuteTime": {
     "end_time": "2024-08-04T13:41:53.484748Z",
     "start_time": "2024-08-04T13:41:53.479737Z"
    }
   },
   "cell_type": "code",
   "source": "filt = (a < 3) | (a > 5)",
   "id": "47db9f1c69f65901",
   "outputs": [],
   "execution_count": 245
  },
  {
   "metadata": {
    "ExecuteTime": {
     "end_time": "2024-08-04T13:41:56.262391Z",
     "start_time": "2024-08-04T13:41:56.250797Z"
    }
   },
   "cell_type": "code",
   "source": "filt",
   "id": "a7dede6242d3dab3",
   "outputs": [
    {
     "data": {
      "text/plain": [
       "array([ True,  True, False, False, False,  True,  True,  True,  True])"
      ]
     },
     "execution_count": 246,
     "metadata": {},
     "output_type": "execute_result"
    }
   ],
   "execution_count": 246
  },
  {
   "metadata": {
    "ExecuteTime": {
     "end_time": "2024-08-04T13:41:59.823367Z",
     "start_time": "2024-08-04T13:41:59.807865Z"
    }
   },
   "cell_type": "code",
   "source": "a[filt]",
   "id": "a3d864af3ff0c931",
   "outputs": [
    {
     "data": {
      "text/plain": [
       "array([1, 2, 6, 7, 8, 9])"
      ]
     },
     "execution_count": 247,
     "metadata": {},
     "output_type": "execute_result"
    }
   ],
   "execution_count": 247
  },
  {
   "metadata": {
    "ExecuteTime": {
     "end_time": "2024-08-04T13:42:22.794999Z",
     "start_time": "2024-08-04T13:42:22.777969Z"
    }
   },
   "cell_type": "code",
   "source": "a[(a > 3) & (a <= 5)]",
   "id": "1e154702670e54b8",
   "outputs": [
    {
     "data": {
      "text/plain": [
       "array([4, 5])"
      ]
     },
     "execution_count": 249,
     "metadata": {},
     "output_type": "execute_result"
    }
   ],
   "execution_count": 249
  },
  {
   "metadata": {
    "ExecuteTime": {
     "end_time": "2024-08-04T13:43:50.951755Z",
     "start_time": "2024-08-04T13:43:50.938522Z"
    }
   },
   "cell_type": "code",
   "source": "a[~((a > 3) & (a <= 5))] # ",
   "id": "a5130225e69e0432",
   "outputs": [
    {
     "data": {
      "text/plain": [
       "array([1, 2, 3, 6, 7, 8, 9])"
      ]
     },
     "execution_count": 252,
     "metadata": {},
     "output_type": "execute_result"
    }
   ],
   "execution_count": 252
  },
  {
   "metadata": {},
   "cell_type": "markdown",
   "source": "# Multidimensional Array Conditional Indexing",
   "id": "3a192a5edfa770fd"
  },
  {
   "metadata": {
    "ExecuteTime": {
     "end_time": "2024-08-04T13:48:49.010520Z",
     "start_time": "2024-08-04T13:48:49.000092Z"
    }
   },
   "cell_type": "code",
   "source": "a = np.arange(1,21).reshape(4,5)",
   "id": "1ea3cd93e0195049",
   "outputs": [],
   "execution_count": 253
  },
  {
   "metadata": {
    "ExecuteTime": {
     "end_time": "2024-08-04T13:48:51.127686Z",
     "start_time": "2024-08-04T13:48:51.119175Z"
    }
   },
   "cell_type": "code",
   "source": "a",
   "id": "68f73b1cd6a92234",
   "outputs": [
    {
     "data": {
      "text/plain": [
       "array([[ 1,  2,  3,  4,  5],\n",
       "       [ 6,  7,  8,  9, 10],\n",
       "       [11, 12, 13, 14, 15],\n",
       "       [16, 17, 18, 19, 20]])"
      ]
     },
     "execution_count": 254,
     "metadata": {},
     "output_type": "execute_result"
    }
   ],
   "execution_count": 254
  },
  {
   "metadata": {
    "ExecuteTime": {
     "end_time": "2024-08-04T13:48:53.808555Z",
     "start_time": "2024-08-04T13:48:53.797043Z"
    }
   },
   "cell_type": "code",
   "source": "type(a)",
   "id": "90bef3290b4168c",
   "outputs": [
    {
     "data": {
      "text/plain": [
       "numpy.ndarray"
      ]
     },
     "execution_count": 255,
     "metadata": {},
     "output_type": "execute_result"
    }
   ],
   "execution_count": 255
  },
  {
   "metadata": {
    "ExecuteTime": {
     "end_time": "2024-08-04T13:49:03.586864Z",
     "start_time": "2024-08-04T13:49:03.576323Z"
    }
   },
   "cell_type": "code",
   "source": "type(a<7)",
   "id": "69e952a965ee2930",
   "outputs": [
    {
     "data": {
      "text/plain": [
       "numpy.ndarray"
      ]
     },
     "execution_count": 256,
     "metadata": {},
     "output_type": "execute_result"
    }
   ],
   "execution_count": 256
  },
  {
   "metadata": {
    "ExecuteTime": {
     "end_time": "2024-08-04T13:49:08.617295Z",
     "start_time": "2024-08-04T13:49:08.598195Z"
    }
   },
   "cell_type": "code",
   "source": "a>7",
   "id": "275db1588e464964",
   "outputs": [
    {
     "data": {
      "text/plain": [
       "array([[False, False, False, False, False],\n",
       "       [False, False,  True,  True,  True],\n",
       "       [ True,  True,  True,  True,  True],\n",
       "       [ True,  True,  True,  True,  True]])"
      ]
     },
     "execution_count": 257,
     "metadata": {},
     "output_type": "execute_result"
    }
   ],
   "execution_count": 257
  },
  {
   "metadata": {
    "ExecuteTime": {
     "end_time": "2024-08-04T13:49:12.169396Z",
     "start_time": "2024-08-04T13:49:12.157806Z"
    }
   },
   "cell_type": "code",
   "source": "a<7",
   "id": "d65e6b99e6cae894",
   "outputs": [
    {
     "data": {
      "text/plain": [
       "array([[ True,  True,  True,  True,  True],\n",
       "       [ True, False, False, False, False],\n",
       "       [False, False, False, False, False],\n",
       "       [False, False, False, False, False]])"
      ]
     },
     "execution_count": 258,
     "metadata": {},
     "output_type": "execute_result"
    }
   ],
   "execution_count": 258
  },
  {
   "metadata": {
    "ExecuteTime": {
     "end_time": "2024-08-04T13:49:32.206608Z",
     "start_time": "2024-08-04T13:49:32.194042Z"
    }
   },
   "cell_type": "code",
   "source": "a[a<7]",
   "id": "ab44c414b8f236c7",
   "outputs": [
    {
     "data": {
      "text/plain": [
       "array([1, 2, 3, 4, 5, 6])"
      ]
     },
     "execution_count": 259,
     "metadata": {},
     "output_type": "execute_result"
    }
   ],
   "execution_count": 259
  },
  {
   "metadata": {
    "ExecuteTime": {
     "end_time": "2024-08-04T13:49:38.806245Z",
     "start_time": "2024-08-04T13:49:38.799698Z"
    }
   },
   "cell_type": "code",
   "source": "a[a<7].shape",
   "id": "2405450c1b3e943d",
   "outputs": [
    {
     "data": {
      "text/plain": [
       "(6,)"
      ]
     },
     "execution_count": 260,
     "metadata": {},
     "output_type": "execute_result"
    }
   ],
   "execution_count": 260
  },
  {
   "metadata": {
    "ExecuteTime": {
     "end_time": "2024-08-04T13:49:54.120753Z",
     "start_time": "2024-08-04T13:49:54.102509Z"
    }
   },
   "cell_type": "code",
   "source": "a = np.array([1,2,3,None])",
   "id": "f823e502c563af8a",
   "outputs": [],
   "execution_count": 261
  },
  {
   "metadata": {
    "ExecuteTime": {
     "end_time": "2024-08-04T13:49:56.762923Z",
     "start_time": "2024-08-04T13:49:56.746958Z"
    }
   },
   "cell_type": "code",
   "source": "a",
   "id": "854e670798898a28",
   "outputs": [
    {
     "data": {
      "text/plain": [
       "array([1, 2, 3, None], dtype=object)"
      ]
     },
     "execution_count": 262,
     "metadata": {},
     "output_type": "execute_result"
    }
   ],
   "execution_count": 262
  },
  {
   "metadata": {
    "ExecuteTime": {
     "end_time": "2024-08-04T13:50:02.406526Z",
     "start_time": "2024-08-04T13:50:02.386801Z"
    }
   },
   "cell_type": "code",
   "source": "a==None",
   "id": "e01b41a06674e5fb",
   "outputs": [
    {
     "data": {
      "text/plain": [
       "array([False, False, False,  True])"
      ]
     },
     "execution_count": 263,
     "metadata": {},
     "output_type": "execute_result"
    }
   ],
   "execution_count": 263
  },
  {
   "metadata": {
    "ExecuteTime": {
     "end_time": "2024-08-04T13:50:17.038405Z",
     "start_time": "2024-08-04T13:50:17.018095Z"
    }
   },
   "cell_type": "code",
   "source": "a[a==None]",
   "id": "a1b8e3b9636deaa8",
   "outputs": [
    {
     "data": {
      "text/plain": [
       "array([None], dtype=object)"
      ]
     },
     "execution_count": 264,
     "metadata": {},
     "output_type": "execute_result"
    }
   ],
   "execution_count": 264
  },
  {
   "metadata": {
    "ExecuteTime": {
     "end_time": "2024-08-04T13:52:02.179015Z",
     "start_time": "2024-08-04T13:52:02.165816Z"
    }
   },
   "cell_type": "code",
   "source": "a = np.arange(-5,3).reshape(2,4)",
   "id": "7f484a650b9220fb",
   "outputs": [],
   "execution_count": 267
  },
  {
   "metadata": {
    "ExecuteTime": {
     "end_time": "2024-08-04T13:52:16.489476Z",
     "start_time": "2024-08-04T13:52:16.475625Z"
    }
   },
   "cell_type": "code",
   "source": "a[(a<0)|(a==2)]",
   "id": "75ddd54cea4235e3",
   "outputs": [
    {
     "data": {
      "text/plain": [
       "array([-5, -4, -3, -2, -1,  2])"
      ]
     },
     "execution_count": 270,
     "metadata": {},
     "output_type": "execute_result"
    }
   ],
   "execution_count": 270
  },
  {
   "metadata": {},
   "cell_type": "markdown",
   "source": "# Sum",
   "id": "16cb8ffc3c30052e"
  },
  {
   "metadata": {
    "ExecuteTime": {
     "end_time": "2024-08-04T13:53:05.739866Z",
     "start_time": "2024-08-04T13:53:05.726710Z"
    }
   },
   "cell_type": "code",
   "source": "a = np.arange(1,21).reshape(4,5)",
   "id": "f0546b5f2d015a0a",
   "outputs": [],
   "execution_count": 273
  },
  {
   "metadata": {
    "ExecuteTime": {
     "end_time": "2024-08-04T13:53:06.286995Z",
     "start_time": "2024-08-04T13:53:06.271964Z"
    }
   },
   "cell_type": "code",
   "source": "a",
   "id": "8245f824668570f9",
   "outputs": [
    {
     "data": {
      "text/plain": [
       "array([[ 1,  2,  3,  4,  5],\n",
       "       [ 6,  7,  8,  9, 10],\n",
       "       [11, 12, 13, 14, 15],\n",
       "       [16, 17, 18, 19, 20]])"
      ]
     },
     "execution_count": 274,
     "metadata": {},
     "output_type": "execute_result"
    }
   ],
   "execution_count": 274
  },
  {
   "metadata": {
    "ExecuteTime": {
     "end_time": "2024-08-04T13:53:11.590260Z",
     "start_time": "2024-08-04T13:53:11.571176Z"
    }
   },
   "cell_type": "code",
   "source": "np.sum(a)",
   "id": "f834c265e1a13e79",
   "outputs": [
    {
     "data": {
      "text/plain": [
       "210"
      ]
     },
     "execution_count": 275,
     "metadata": {},
     "output_type": "execute_result"
    }
   ],
   "execution_count": 275
  },
  {
   "metadata": {
    "ExecuteTime": {
     "end_time": "2024-08-04T13:53:18.854049Z",
     "start_time": "2024-08-04T13:53:18.846966Z"
    }
   },
   "cell_type": "code",
   "source": "filt = a<5",
   "id": "55d3699e3540f29b",
   "outputs": [],
   "execution_count": 276
  },
  {
   "metadata": {},
   "cell_type": "code",
   "outputs": [
    {
     "data": {
      "text/plain": [
       "4"
      ]
     },
     "execution_count": 277,
     "metadata": {},
     "output_type": "execute_result"
    }
   ],
   "execution_count": 277,
   "source": "np.sum(filt) # it's true count",
   "id": "1fdb0c44ea96a459"
  },
  {
   "metadata": {
    "ExecuteTime": {
     "end_time": "2024-08-04T13:54:02.441438Z",
     "start_time": "2024-08-04T13:54:02.427854Z"
    }
   },
   "cell_type": "code",
   "source": "filt ",
   "id": "ad84bbf4a28ae631",
   "outputs": [
    {
     "data": {
      "text/plain": [
       "array([[ True,  True,  True,  True, False],\n",
       "       [False, False, False, False, False],\n",
       "       [False, False, False, False, False],\n",
       "       [False, False, False, False, False]])"
      ]
     },
     "execution_count": 279,
     "metadata": {},
     "output_type": "execute_result"
    }
   ],
   "execution_count": 279
  },
  {
   "metadata": {
    "ExecuteTime": {
     "end_time": "2024-08-04T13:54:07.981613Z",
     "start_time": "2024-08-04T13:54:07.966102Z"
    }
   },
   "cell_type": "code",
   "source": "np.sum(a[filt])",
   "id": "a6eb79e88697d4d1",
   "outputs": [
    {
     "data": {
      "text/plain": [
       "10"
      ]
     },
     "execution_count": 280,
     "metadata": {},
     "output_type": "execute_result"
    }
   ],
   "execution_count": 280
  },
  {
   "metadata": {
    "ExecuteTime": {
     "end_time": "2024-08-04T13:54:10.652611Z",
     "start_time": "2024-08-04T13:54:10.632457Z"
    }
   },
   "cell_type": "code",
   "source": "a[filt]",
   "id": "f01c8b1a0463e4f6",
   "outputs": [
    {
     "data": {
      "text/plain": [
       "array([1, 2, 3, 4])"
      ]
     },
     "execution_count": 281,
     "metadata": {},
     "output_type": "execute_result"
    }
   ],
   "execution_count": 281
  },
  {
   "metadata": {
    "ExecuteTime": {
     "end_time": "2024-08-04T13:55:01.158910Z",
     "start_time": "2024-08-04T13:55:01.146774Z"
    }
   },
   "cell_type": "code",
   "source": "filt = (a>5) & (a<9)",
   "id": "192eb86583a315aa",
   "outputs": [],
   "execution_count": 282
  },
  {
   "metadata": {
    "ExecuteTime": {
     "end_time": "2024-08-04T13:55:08.539698Z",
     "start_time": "2024-08-04T13:55:08.523671Z"
    }
   },
   "cell_type": "code",
   "source": "np.sum(filt)",
   "id": "fc068c1bdc731299",
   "outputs": [
    {
     "data": {
      "text/plain": [
       "3"
      ]
     },
     "execution_count": 283,
     "metadata": {},
     "output_type": "execute_result"
    }
   ],
   "execution_count": 283
  },
  {
   "metadata": {
    "ExecuteTime": {
     "end_time": "2024-08-04T13:55:09.883634Z",
     "start_time": "2024-08-04T13:55:09.863085Z"
    }
   },
   "cell_type": "code",
   "source": "a",
   "id": "1b4ab47648bf450f",
   "outputs": [
    {
     "data": {
      "text/plain": [
       "array([[ 1,  2,  3,  4,  5],\n",
       "       [ 6,  7,  8,  9, 10],\n",
       "       [11, 12, 13, 14, 15],\n",
       "       [16, 17, 18, 19, 20]])"
      ]
     },
     "execution_count": 284,
     "metadata": {},
     "output_type": "execute_result"
    }
   ],
   "execution_count": 284
  },
  {
   "metadata": {
    "ExecuteTime": {
     "end_time": "2024-08-04T13:55:26.115230Z",
     "start_time": "2024-08-04T13:55:26.104717Z"
    }
   },
   "cell_type": "code",
   "source": "np.sum(a[filt])",
   "id": "725486362959e2ba",
   "outputs": [
    {
     "data": {
      "text/plain": [
       "21"
      ]
     },
     "execution_count": 285,
     "metadata": {},
     "output_type": "execute_result"
    }
   ],
   "execution_count": 285
  },
  {
   "metadata": {
    "ExecuteTime": {
     "end_time": "2024-08-04T13:55:45.270172Z",
     "start_time": "2024-08-04T13:55:45.260492Z"
    }
   },
   "cell_type": "code",
   "source": "np.sum(a[~filt])",
   "id": "5f77a3297954a326",
   "outputs": [
    {
     "data": {
      "text/plain": [
       "189"
      ]
     },
     "execution_count": 286,
     "metadata": {},
     "output_type": "execute_result"
    }
   ],
   "execution_count": 286
  },
  {
   "metadata": {
    "ExecuteTime": {
     "end_time": "2024-08-04T13:56:29.033053Z",
     "start_time": "2024-08-04T13:56:29.025595Z"
    }
   },
   "cell_type": "code",
   "source": "np.sum(a[~(~filt)])",
   "id": "7f39d851d002711b",
   "outputs": [
    {
     "data": {
      "text/plain": [
       "21"
      ]
     },
     "execution_count": 287,
     "metadata": {},
     "output_type": "execute_result"
    }
   ],
   "execution_count": 287
  },
  {
   "metadata": {
    "ExecuteTime": {
     "end_time": "2024-08-04T13:57:02.027545Z",
     "start_time": "2024-08-04T13:57:02.015850Z"
    }
   },
   "cell_type": "code",
   "source": "np.sum(a,axis=0)",
   "id": "fbf7cf983c284b32",
   "outputs": [
    {
     "data": {
      "text/plain": [
       "array([34, 38, 42, 46, 50])"
      ]
     },
     "execution_count": 288,
     "metadata": {},
     "output_type": "execute_result"
    }
   ],
   "execution_count": 288
  },
  {
   "metadata": {
    "ExecuteTime": {
     "end_time": "2024-08-04T13:58:10.101866Z",
     "start_time": "2024-08-04T13:58:10.091340Z"
    }
   },
   "cell_type": "code",
   "source": "np.sum(a,axis=1)",
   "id": "b3feec3de2e8cd09",
   "outputs": [
    {
     "data": {
      "text/plain": [
       "array([15, 40, 65, 90])"
      ]
     },
     "execution_count": 291,
     "metadata": {},
     "output_type": "execute_result"
    }
   ],
   "execution_count": 291
  },
  {
   "metadata": {
    "ExecuteTime": {
     "end_time": "2024-08-04T14:00:46.637793Z",
     "start_time": "2024-08-04T14:00:46.633840Z"
    }
   },
   "cell_type": "code",
   "source": "a = np.arange(1,21).reshape(4,5).sum(axis=0)",
   "id": "1e8c3bce5484fdfa",
   "outputs": [],
   "execution_count": 292
  },
  {
   "metadata": {
    "ExecuteTime": {
     "end_time": "2024-08-04T14:00:51.273983Z",
     "start_time": "2024-08-04T14:00:51.258796Z"
    }
   },
   "cell_type": "code",
   "source": "a",
   "id": "f963def7c1ffe2a6",
   "outputs": [
    {
     "data": {
      "text/plain": [
       "array([34, 38, 42, 46, 50])"
      ]
     },
     "execution_count": 293,
     "metadata": {},
     "output_type": "execute_result"
    }
   ],
   "execution_count": 293
  },
  {
   "metadata": {
    "ExecuteTime": {
     "end_time": "2024-08-04T14:00:56.116438Z",
     "start_time": "2024-08-04T14:00:56.103695Z"
    }
   },
   "cell_type": "code",
   "source": "a.shape",
   "id": "e025290b7fae2ed7",
   "outputs": [
    {
     "data": {
      "text/plain": [
       "(5,)"
      ]
     },
     "execution_count": 294,
     "metadata": {},
     "output_type": "execute_result"
    }
   ],
   "execution_count": 294
  },
  {
   "metadata": {},
   "cell_type": "markdown",
   "source": "# All",
   "id": "d14d365b98c2f8c"
  },
  {
   "metadata": {
    "ExecuteTime": {
     "end_time": "2024-08-04T14:07:19.843476Z",
     "start_time": "2024-08-04T14:07:19.831959Z"
    }
   },
   "cell_type": "code",
   "source": "a = np.arange(20).reshape(4,5)",
   "id": "e3544e4e84a505d0",
   "outputs": [],
   "execution_count": 295
  },
  {
   "metadata": {
    "ExecuteTime": {
     "end_time": "2024-08-04T14:07:21.696836Z",
     "start_time": "2024-08-04T14:07:21.683695Z"
    }
   },
   "cell_type": "code",
   "source": "a",
   "id": "6414a0219a62da86",
   "outputs": [
    {
     "data": {
      "text/plain": [
       "array([[ 0,  1,  2,  3,  4],\n",
       "       [ 5,  6,  7,  8,  9],\n",
       "       [10, 11, 12, 13, 14],\n",
       "       [15, 16, 17, 18, 19]])"
      ]
     },
     "execution_count": 296,
     "metadata": {},
     "output_type": "execute_result"
    }
   ],
   "execution_count": 296
  },
  {
   "metadata": {
    "ExecuteTime": {
     "end_time": "2024-08-04T14:07:25.177023Z",
     "start_time": "2024-08-04T14:07:25.164327Z"
    }
   },
   "cell_type": "code",
   "source": "a>-1",
   "id": "fea0921e18056c77",
   "outputs": [
    {
     "data": {
      "text/plain": [
       "array([[ True,  True,  True,  True,  True],\n",
       "       [ True,  True,  True,  True,  True],\n",
       "       [ True,  True,  True,  True,  True],\n",
       "       [ True,  True,  True,  True,  True]])"
      ]
     },
     "execution_count": 297,
     "metadata": {},
     "output_type": "execute_result"
    }
   ],
   "execution_count": 297
  },
  {
   "metadata": {
    "ExecuteTime": {
     "end_time": "2024-08-04T14:07:34.692001Z",
     "start_time": "2024-08-04T14:07:34.672871Z"
    }
   },
   "cell_type": "code",
   "source": "np.all(a>-1)",
   "id": "ad553c7d8a5c259f",
   "outputs": [
    {
     "data": {
      "text/plain": [
       "True"
      ]
     },
     "execution_count": 298,
     "metadata": {},
     "output_type": "execute_result"
    }
   ],
   "execution_count": 298
  },
  {
   "metadata": {
    "ExecuteTime": {
     "end_time": "2024-08-04T14:08:40.573373Z",
     "start_time": "2024-08-04T14:08:40.556437Z"
    }
   },
   "cell_type": "code",
   "source": "np.all(a>5)",
   "id": "ef37f807773e7659",
   "outputs": [
    {
     "data": {
      "text/plain": [
       "False"
      ]
     },
     "execution_count": 302,
     "metadata": {},
     "output_type": "execute_result"
    }
   ],
   "execution_count": 302
  },
  {
   "metadata": {
    "ExecuteTime": {
     "end_time": "2024-08-04T14:07:44.527886Z",
     "start_time": "2024-08-04T14:07:44.522367Z"
    }
   },
   "cell_type": "code",
   "source": "filt = a>-1",
   "id": "aca5d8a2ff0e9693",
   "outputs": [],
   "execution_count": 299
  },
  {
   "metadata": {
    "ExecuteTime": {
     "end_time": "2024-08-04T14:07:48.504123Z",
     "start_time": "2024-08-04T14:07:48.497608Z"
    }
   },
   "cell_type": "code",
   "source": "np.all(filt)",
   "id": "e29b25b61693c294",
   "outputs": [
    {
     "data": {
      "text/plain": [
       "True"
      ]
     },
     "execution_count": 300,
     "metadata": {},
     "output_type": "execute_result"
    }
   ],
   "execution_count": 300
  },
  {
   "metadata": {
    "ExecuteTime": {
     "end_time": "2024-08-04T14:09:11.163905Z",
     "start_time": "2024-08-04T14:09:11.153125Z"
    }
   },
   "cell_type": "code",
   "source": "a",
   "id": "f42e5dd2dc191018",
   "outputs": [
    {
     "data": {
      "text/plain": [
       "array([[ 0,  1,  2,  3,  4],\n",
       "       [ 5,  6,  7,  8,  9],\n",
       "       [10, 11, 12, 13, 14],\n",
       "       [15, 16, 17, 18, 19]])"
      ]
     },
     "execution_count": 304,
     "metadata": {},
     "output_type": "execute_result"
    }
   ],
   "execution_count": 304
  },
  {
   "metadata": {
    "ExecuteTime": {
     "end_time": "2024-08-04T14:09:13.864095Z",
     "start_time": "2024-08-04T14:09:13.856570Z"
    }
   },
   "cell_type": "code",
   "source": "np.all(a>5,axis=1) # think layer by layer and evaluate them on x with an all method. Layer 1, layer 2 respectively",
   "id": "823c9819e0b94e23",
   "outputs": [
    {
     "data": {
      "text/plain": [
       "array([False, False,  True,  True])"
      ]
     },
     "execution_count": 305,
     "metadata": {},
     "output_type": "execute_result"
    }
   ],
   "execution_count": 305
  },
  {
   "metadata": {
    "ExecuteTime": {
     "end_time": "2024-08-04T14:11:05.098639Z",
     "start_time": "2024-08-04T14:11:05.084822Z"
    }
   },
   "cell_type": "code",
   "source": "np.all(a>5,axis=0)",
   "id": "3f53bec55b01b86c",
   "outputs": [
    {
     "data": {
      "text/plain": [
       "array([False, False, False, False, False])"
      ]
     },
     "execution_count": 306,
     "metadata": {},
     "output_type": "execute_result"
    }
   ],
   "execution_count": 306
  },
  {
   "metadata": {},
   "cell_type": "markdown",
   "source": "# Any",
   "id": "3fbe43e06aa9fb58"
  },
  {
   "metadata": {
    "ExecuteTime": {
     "end_time": "2024-08-04T14:12:21.209031Z",
     "start_time": "2024-08-04T14:12:21.203030Z"
    }
   },
   "cell_type": "code",
   "source": "a = np.arange(20).reshape(4,5)",
   "id": "64447efe006b84aa",
   "outputs": [],
   "execution_count": 307
  },
  {
   "metadata": {
    "ExecuteTime": {
     "end_time": "2024-08-04T14:12:23.123371Z",
     "start_time": "2024-08-04T14:12:23.107096Z"
    }
   },
   "cell_type": "code",
   "source": "a",
   "id": "257dc607b719d6a",
   "outputs": [
    {
     "data": {
      "text/plain": [
       "array([[ 0,  1,  2,  3,  4],\n",
       "       [ 5,  6,  7,  8,  9],\n",
       "       [10, 11, 12, 13, 14],\n",
       "       [15, 16, 17, 18, 19]])"
      ]
     },
     "execution_count": 308,
     "metadata": {},
     "output_type": "execute_result"
    }
   ],
   "execution_count": 308
  },
  {
   "metadata": {
    "ExecuteTime": {
     "end_time": "2024-08-04T14:12:27.664885Z",
     "start_time": "2024-08-04T14:12:27.650599Z"
    }
   },
   "cell_type": "code",
   "source": "a>17",
   "id": "6731ae7e4857842c",
   "outputs": [
    {
     "data": {
      "text/plain": [
       "array([[False, False, False, False, False],\n",
       "       [False, False, False, False, False],\n",
       "       [False, False, False, False, False],\n",
       "       [False, False, False,  True,  True]])"
      ]
     },
     "execution_count": 309,
     "metadata": {},
     "output_type": "execute_result"
    }
   ],
   "execution_count": 309
  },
  {
   "metadata": {
    "ExecuteTime": {
     "end_time": "2024-08-04T14:12:35.679595Z",
     "start_time": "2024-08-04T14:12:35.659765Z"
    }
   },
   "cell_type": "code",
   "source": "np.any(a>17)",
   "id": "b3243c3295baa6bb",
   "outputs": [
    {
     "data": {
      "text/plain": [
       "True"
      ]
     },
     "execution_count": 310,
     "metadata": {},
     "output_type": "execute_result"
    }
   ],
   "execution_count": 310
  },
  {
   "metadata": {
    "ExecuteTime": {
     "end_time": "2024-08-04T14:12:49.062590Z",
     "start_time": "2024-08-04T14:12:49.051018Z"
    }
   },
   "cell_type": "code",
   "source": "np.any(a>17,axis=0)",
   "id": "e42be6fd755beeaf",
   "outputs": [
    {
     "data": {
      "text/plain": [
       "array([False, False, False,  True,  True])"
      ]
     },
     "execution_count": 311,
     "metadata": {},
     "output_type": "execute_result"
    }
   ],
   "execution_count": 311
  },
  {
   "metadata": {
    "ExecuteTime": {
     "end_time": "2024-08-04T14:13:00.781377Z",
     "start_time": "2024-08-04T14:13:00.762359Z"
    }
   },
   "cell_type": "code",
   "source": "np.any(a>17,axis=1)",
   "id": "3374796c665d8d3f",
   "outputs": [
    {
     "data": {
      "text/plain": [
       "array([False, False, False,  True])"
      ]
     },
     "execution_count": 312,
     "metadata": {},
     "output_type": "execute_result"
    }
   ],
   "execution_count": 312
  },
  {
   "metadata": {},
   "cell_type": "code",
   "outputs": [],
   "execution_count": null,
   "source": "",
   "id": "fec60cb19fc1b89d"
  }
 ],
 "metadata": {
  "kernelspec": {
   "display_name": "Python 3",
   "language": "python",
   "name": "python3"
  },
  "language_info": {
   "codemirror_mode": {
    "name": "ipython",
    "version": 2
   },
   "file_extension": ".py",
   "mimetype": "text/x-python",
   "name": "python",
   "nbconvert_exporter": "python",
   "pygments_lexer": "ipython2",
   "version": "2.7.6"
  }
 },
 "nbformat": 4,
 "nbformat_minor": 5
}
