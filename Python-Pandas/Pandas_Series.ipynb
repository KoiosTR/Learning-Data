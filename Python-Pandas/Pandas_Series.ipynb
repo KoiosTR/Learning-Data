{
 "cells": [
  {
   "cell_type": "code",
   "id": "initial_id",
   "metadata": {
    "collapsed": true,
    "ExecuteTime": {
     "end_time": "2024-08-04T14:56:31.584393Z",
     "start_time": "2024-08-04T14:56:31.170277Z"
    }
   },
   "source": [
    "import numpy as np\n",
    "import pandas as pd"
   ],
   "outputs": [],
   "execution_count": 1
  },
  {
   "metadata": {
    "ExecuteTime": {
     "end_time": "2024-08-04T15:00:51.824192Z",
     "start_time": "2024-08-04T15:00:51.811198Z"
    }
   },
   "cell_type": "code",
   "source": [
    "g7_pop = pd.Series([35.467,63.951,80.940,60.665,127.061,45.600,53.435])\n",
    "g7_pop.name = 'G7 Population in millions'\n",
    "g7_pop"
   ],
   "id": "12b8b35859bd26a3",
   "outputs": [
    {
     "data": {
      "text/plain": [
       "0     35.467\n",
       "1     63.951\n",
       "2     80.940\n",
       "3     60.665\n",
       "4    127.061\n",
       "5     45.600\n",
       "6     53.435\n",
       "Name: G7 Population in millions, dtype: float64"
      ]
     },
     "execution_count": 14,
     "metadata": {},
     "output_type": "execute_result"
    }
   ],
   "execution_count": 14
  },
  {
   "metadata": {
    "ExecuteTime": {
     "end_time": "2024-08-04T15:00:52.211411Z",
     "start_time": "2024-08-04T15:00:52.193258Z"
    }
   },
   "cell_type": "code",
   "source": "g7_pop.dtype",
   "id": "9dc3afba8decffe2",
   "outputs": [
    {
     "data": {
      "text/plain": [
       "dtype('float64')"
      ]
     },
     "execution_count": 15,
     "metadata": {},
     "output_type": "execute_result"
    }
   ],
   "execution_count": 15
  },
  {
   "metadata": {
    "ExecuteTime": {
     "end_time": "2024-08-04T15:00:52.366266Z",
     "start_time": "2024-08-04T15:00:52.357005Z"
    }
   },
   "cell_type": "code",
   "source": "g7_pop.values",
   "id": "425f3ca7a020fda5",
   "outputs": [
    {
     "data": {
      "text/plain": [
       "array([ 35.467,  63.951,  80.94 ,  60.665, 127.061,  45.6  ,  53.435])"
      ]
     },
     "execution_count": 16,
     "metadata": {},
     "output_type": "execute_result"
    }
   ],
   "execution_count": 16
  },
  {
   "metadata": {
    "ExecuteTime": {
     "end_time": "2024-08-04T15:00:52.506008Z",
     "start_time": "2024-08-04T15:00:52.494789Z"
    }
   },
   "cell_type": "code",
   "source": "type(g7_pop.values)",
   "id": "2f8d8e20067f79b9",
   "outputs": [
    {
     "data": {
      "text/plain": [
       "numpy.ndarray"
      ]
     },
     "execution_count": 17,
     "metadata": {},
     "output_type": "execute_result"
    }
   ],
   "execution_count": 17
  },
  {
   "metadata": {
    "ExecuteTime": {
     "end_time": "2024-08-04T15:00:52.646199Z",
     "start_time": "2024-08-04T15:00:52.635578Z"
    }
   },
   "cell_type": "code",
   "source": "g7_pop[0]",
   "id": "fe5e866aa853ae13",
   "outputs": [
    {
     "data": {
      "text/plain": [
       "35.467"
      ]
     },
     "execution_count": 18,
     "metadata": {},
     "output_type": "execute_result"
    }
   ],
   "execution_count": 18
  },
  {
   "metadata": {
    "ExecuteTime": {
     "end_time": "2024-08-04T15:00:52.800046Z",
     "start_time": "2024-08-04T15:00:52.782909Z"
    }
   },
   "cell_type": "code",
   "source": "g7_pop[1]",
   "id": "a05302f4aef5c6a2",
   "outputs": [
    {
     "data": {
      "text/plain": [
       "63.951"
      ]
     },
     "execution_count": 19,
     "metadata": {},
     "output_type": "execute_result"
    }
   ],
   "execution_count": 19
  },
  {
   "metadata": {
    "ExecuteTime": {
     "end_time": "2024-08-04T15:00:52.945961Z",
     "start_time": "2024-08-04T15:00:52.932213Z"
    }
   },
   "cell_type": "code",
   "source": "g7_pop.index",
   "id": "266e435829af3741",
   "outputs": [
    {
     "data": {
      "text/plain": [
       "RangeIndex(start=0, stop=7, step=1)"
      ]
     },
     "execution_count": 20,
     "metadata": {},
     "output_type": "execute_result"
    }
   ],
   "execution_count": 20
  },
  {
   "metadata": {
    "ExecuteTime": {
     "end_time": "2024-08-04T15:00:53.116259Z",
     "start_time": "2024-08-04T15:00:53.101829Z"
    }
   },
   "cell_type": "code",
   "source": "l = [\"a\",\"b\",\"c\"]",
   "id": "dacb601cc5bff423",
   "outputs": [],
   "execution_count": 21
  },
  {
   "metadata": {
    "ExecuteTime": {
     "end_time": "2024-08-04T15:01:10.255058Z",
     "start_time": "2024-08-04T15:01:10.238060Z"
    }
   },
   "cell_type": "code",
   "source": [
    "g7_pop.index = [\n",
    "    \"Canada\",\n",
    "    \"France\",\n",
    "    \"Germany\",\n",
    "    \"Italy\",\n",
    "    \"Japan\",\n",
    "    \"United Kingdom\",\n",
    "    \"United States\",\n",
    "]"
   ],
   "id": "5fa31d05820fcbed",
   "outputs": [],
   "execution_count": 25
  },
  {
   "metadata": {
    "ExecuteTime": {
     "end_time": "2024-08-04T15:01:10.899160Z",
     "start_time": "2024-08-04T15:01:10.884014Z"
    }
   },
   "cell_type": "code",
   "source": "g7_pop",
   "id": "91845846b737339",
   "outputs": [
    {
     "data": {
      "text/plain": [
       "Canada             35.467\n",
       "France             63.951\n",
       "Germany            80.940\n",
       "Italy              60.665\n",
       "Japan             127.061\n",
       "United Kingdom     45.600\n",
       "United States      53.435\n",
       "Name: G7 Population in millions, dtype: float64"
      ]
     },
     "execution_count": 26,
     "metadata": {},
     "output_type": "execute_result"
    }
   ],
   "execution_count": 26
  },
  {
   "metadata": {
    "ExecuteTime": {
     "end_time": "2024-08-04T15:05:15.278601Z",
     "start_time": "2024-08-04T15:05:15.259454Z"
    }
   },
   "cell_type": "code",
   "source": [
    "pd.Series( {\n",
    "    \"Canada\" : 35.467,\n",
    "    \"France\" : 63.951,\n",
    "    \"Germany\" : 80.94,\n",
    "    \"Italy\" : 60.665,\n",
    "    \"Japan\" : 127.061,\n",
    "    \"United Kingdom\" : 64.511,\n",
    "    \"United States\" : 318.523\n",
    "}, name=\"G7 Population in millions\")"
   ],
   "id": "57efdac0c344b699",
   "outputs": [
    {
     "data": {
      "text/plain": [
       "Canada             35.467\n",
       "France             63.951\n",
       "Germany            80.940\n",
       "Italy              60.665\n",
       "Japan             127.061\n",
       "United Kingdom     64.511\n",
       "United States     318.523\n",
       "Name: G7 Population in millions, dtype: float64"
      ]
     },
     "execution_count": 27,
     "metadata": {},
     "output_type": "execute_result"
    }
   ],
   "execution_count": 27
  },
  {
   "metadata": {},
   "cell_type": "markdown",
   "source": "# Indexing",
   "id": "5e5996e821ba9726"
  },
  {
   "metadata": {
    "ExecuteTime": {
     "end_time": "2024-08-04T17:35:51.355928Z",
     "start_time": "2024-08-04T17:35:51.338177Z"
    }
   },
   "cell_type": "code",
   "source": "g7_pop",
   "id": "520a1bc0c712e449",
   "outputs": [
    {
     "data": {
      "text/plain": [
       "Canada             35.467\n",
       "France             63.951\n",
       "Germany            80.940\n",
       "Italy              60.665\n",
       "Japan             127.061\n",
       "United Kingdom     45.600\n",
       "United States      53.435\n",
       "Name: G7 Population in millions, dtype: float64"
      ]
     },
     "execution_count": 28,
     "metadata": {},
     "output_type": "execute_result"
    }
   ],
   "execution_count": 28
  },
  {
   "metadata": {
    "ExecuteTime": {
     "end_time": "2024-08-04T17:36:00.313326Z",
     "start_time": "2024-08-04T17:36:00.305717Z"
    }
   },
   "cell_type": "code",
   "source": "g7_pop[\"Canada\"]",
   "id": "1c467e8da784a273",
   "outputs": [
    {
     "data": {
      "text/plain": [
       "35.467"
      ]
     },
     "execution_count": 29,
     "metadata": {},
     "output_type": "execute_result"
    }
   ],
   "execution_count": 29
  },
  {
   "metadata": {
    "ExecuteTime": {
     "end_time": "2024-08-04T17:36:37.354612Z",
     "start_time": "2024-08-04T17:36:37.340349Z"
    }
   },
   "cell_type": "code",
   "source": "g7_pop.iloc[0]",
   "id": "93c7ac6d394f117e",
   "outputs": [
    {
     "data": {
      "text/plain": [
       "35.467"
      ]
     },
     "execution_count": 30,
     "metadata": {},
     "output_type": "execute_result"
    }
   ],
   "execution_count": 30
  },
  {
   "metadata": {
    "ExecuteTime": {
     "end_time": "2024-08-04T17:37:28.865772Z",
     "start_time": "2024-08-04T17:37:28.850617Z"
    }
   },
   "cell_type": "code",
   "source": "g7_pop.iloc[-1]",
   "id": "45c07cb293e76729",
   "outputs": [
    {
     "data": {
      "text/plain": [
       "53.435"
      ]
     },
     "execution_count": 31,
     "metadata": {},
     "output_type": "execute_result"
    }
   ],
   "execution_count": 31
  },
  {
   "metadata": {
    "ExecuteTime": {
     "end_time": "2024-08-04T17:38:03.435368Z",
     "start_time": "2024-08-04T17:38:03.421421Z"
    }
   },
   "cell_type": "code",
   "source": "g7_pop[[\"Italy\",\"France\"]]",
   "id": "fcd81e28131be98d",
   "outputs": [
    {
     "data": {
      "text/plain": [
       "Italy     60.665\n",
       "France    63.951\n",
       "Name: G7 Population in millions, dtype: float64"
      ]
     },
     "execution_count": 32,
     "metadata": {},
     "output_type": "execute_result"
    }
   ],
   "execution_count": 32
  },
  {
   "metadata": {
    "ExecuteTime": {
     "end_time": "2024-08-04T17:38:20.376411Z",
     "start_time": "2024-08-04T17:38:20.361340Z"
    }
   },
   "cell_type": "code",
   "source": "g7_pop[[0,1]]",
   "id": "6dc49d90f3004541",
   "outputs": [
    {
     "data": {
      "text/plain": [
       "Canada    35.467\n",
       "France    63.951\n",
       "Name: G7 Population in millions, dtype: float64"
      ]
     },
     "execution_count": 33,
     "metadata": {},
     "output_type": "execute_result"
    }
   ],
   "execution_count": 33
  },
  {
   "metadata": {
    "ExecuteTime": {
     "end_time": "2024-08-04T17:38:37.869964Z",
     "start_time": "2024-08-04T17:38:37.855682Z"
    }
   },
   "cell_type": "code",
   "source": "g7_pop[\"Canada\" : \"Italy\"]",
   "id": "99143681440a9e5e",
   "outputs": [
    {
     "data": {
      "text/plain": [
       "Canada     35.467\n",
       "France     63.951\n",
       "Germany    80.940\n",
       "Italy      60.665\n",
       "Name: G7 Population in millions, dtype: float64"
      ]
     },
     "execution_count": 34,
     "metadata": {},
     "output_type": "execute_result"
    }
   ],
   "execution_count": 34
  },
  {
   "metadata": {},
   "cell_type": "markdown",
   "source": "# Conditional Selection",
   "id": "25f813fd5ea279e1"
  },
  {
   "metadata": {
    "ExecuteTime": {
     "end_time": "2024-08-04T17:39:14.525729Z",
     "start_time": "2024-08-04T17:39:14.517729Z"
    }
   },
   "cell_type": "code",
   "source": "g7_pop",
   "id": "1bae712fdfa2277d",
   "outputs": [
    {
     "data": {
      "text/plain": [
       "Canada             35.467\n",
       "France             63.951\n",
       "Germany            80.940\n",
       "Italy              60.665\n",
       "Japan             127.061\n",
       "United Kingdom     45.600\n",
       "United States      53.435\n",
       "Name: G7 Population in millions, dtype: float64"
      ]
     },
     "execution_count": 35,
     "metadata": {},
     "output_type": "execute_result"
    }
   ],
   "execution_count": 35
  },
  {
   "metadata": {
    "ExecuteTime": {
     "end_time": "2024-08-04T17:39:19.257410Z",
     "start_time": "2024-08-04T17:39:19.234434Z"
    }
   },
   "cell_type": "code",
   "source": "g7_pop > 70 # It's mean 70K ( 70.000 )",
   "id": "4c03663ebbd342d0",
   "outputs": [
    {
     "data": {
      "text/plain": [
       "Canada            False\n",
       "France            False\n",
       "Germany            True\n",
       "Italy             False\n",
       "Japan              True\n",
       "United Kingdom    False\n",
       "United States     False\n",
       "Name: G7 Population in millions, dtype: bool"
      ]
     },
     "execution_count": 36,
     "metadata": {},
     "output_type": "execute_result"
    }
   ],
   "execution_count": 36
  },
  {
   "metadata": {
    "ExecuteTime": {
     "end_time": "2024-08-04T17:40:33.459701Z",
     "start_time": "2024-08-04T17:40:33.443136Z"
    }
   },
   "cell_type": "code",
   "source": "g7_pop[g7_pop > 70]",
   "id": "b7ed605b1a0a5461",
   "outputs": [
    {
     "data": {
      "text/plain": [
       "Germany     80.940\n",
       "Japan      127.061\n",
       "Name: G7 Population in millions, dtype: float64"
      ]
     },
     "execution_count": 37,
     "metadata": {},
     "output_type": "execute_result"
    }
   ],
   "execution_count": 37
  },
  {
   "metadata": {
    "ExecuteTime": {
     "end_time": "2024-08-04T17:40:47.491600Z",
     "start_time": "2024-08-04T17:40:47.472193Z"
    }
   },
   "cell_type": "code",
   "source": "g7_pop.mean()",
   "id": "fe910c09f0de1e1",
   "outputs": [
    {
     "data": {
      "text/plain": [
       "66.73128571428572"
      ]
     },
     "execution_count": 38,
     "metadata": {},
     "output_type": "execute_result"
    }
   ],
   "execution_count": 38
  },
  {
   "metadata": {
    "ExecuteTime": {
     "end_time": "2024-08-04T17:41:22.488318Z",
     "start_time": "2024-08-04T17:41:22.466558Z"
    }
   },
   "cell_type": "code",
   "source": "g7_pop * 1_000_000",
   "id": "922343bf2c4f397d",
   "outputs": [
    {
     "data": {
      "text/plain": [
       "Canada             35467000.0\n",
       "France             63951000.0\n",
       "Germany            80940000.0\n",
       "Italy              60665000.0\n",
       "Japan             127061000.0\n",
       "United Kingdom     45600000.0\n",
       "United States      53435000.0\n",
       "Name: G7 Population in millions, dtype: float64"
      ]
     },
     "execution_count": 39,
     "metadata": {},
     "output_type": "execute_result"
    }
   ],
   "execution_count": 39
  },
  {
   "metadata": {
    "ExecuteTime": {
     "end_time": "2024-08-04T17:41:54.640266Z",
     "start_time": "2024-08-04T17:41:54.625940Z"
    }
   },
   "cell_type": "code",
   "source": "g7_pop.mean()",
   "id": "5f7dc93cd549cf5e",
   "outputs": [
    {
     "data": {
      "text/plain": [
       "66.73128571428572"
      ]
     },
     "execution_count": 41,
     "metadata": {},
     "output_type": "execute_result"
    }
   ],
   "execution_count": 41
  },
  {
   "metadata": {
    "ExecuteTime": {
     "end_time": "2024-08-04T17:42:46.969652Z",
     "start_time": "2024-08-04T17:42:46.955704Z"
    }
   },
   "cell_type": "code",
   "source": "g7_pop[g7_pop > g7_pop.mean()]",
   "id": "b4319934db3f40fc",
   "outputs": [
    {
     "data": {
      "text/plain": [
       "Germany     80.940\n",
       "Japan      127.061\n",
       "Name: G7 Population in millions, dtype: float64"
      ]
     },
     "execution_count": 42,
     "metadata": {},
     "output_type": "execute_result"
    }
   ],
   "execution_count": 42
  },
  {
   "metadata": {
    "ExecuteTime": {
     "end_time": "2024-08-04T17:42:57.149564Z",
     "start_time": "2024-08-04T17:42:57.127975Z"
    }
   },
   "cell_type": "code",
   "source": "g7_pop.std()",
   "id": "a037340c36cba15f",
   "outputs": [
    {
     "data": {
      "text/plain": [
       "30.240342285950213"
      ]
     },
     "execution_count": 43,
     "metadata": {},
     "output_type": "execute_result"
    }
   ],
   "execution_count": 43
  },
  {
   "metadata": {
    "ExecuteTime": {
     "end_time": "2024-08-04T17:52:42.485658Z",
     "start_time": "2024-08-04T17:52:42.477130Z"
    }
   },
   "cell_type": "code",
   "source": "np.log(g7_pop)",
   "id": "dfe8bfd8fbf30a80",
   "outputs": [
    {
     "data": {
      "text/plain": [
       "Canada            3.568603\n",
       "France            4.158117\n",
       "Germany           4.393708\n",
       "Italy             4.105367\n",
       "Japan             4.844667\n",
       "United Kingdom    3.819908\n",
       "United States     3.978466\n",
       "Name: G7 Population in millions, dtype: float64"
      ]
     },
     "execution_count": 44,
     "metadata": {},
     "output_type": "execute_result"
    }
   ],
   "execution_count": 44
  },
  {
   "metadata": {
    "ExecuteTime": {
     "end_time": "2024-08-04T18:06:59.850050Z",
     "start_time": "2024-08-04T18:06:59.837580Z"
    }
   },
   "cell_type": "code",
   "source": "    g7_pop[\"Italy\"].mean()",
   "id": "9a480c65db756f6",
   "outputs": [
    {
     "data": {
      "text/plain": [
       "60.665"
      ]
     },
     "execution_count": 45,
     "metadata": {},
     "output_type": "execute_result"
    }
   ],
   "execution_count": 45
  },
  {
   "metadata": {},
   "cell_type": "code",
   "outputs": [],
   "execution_count": null,
   "source": "",
   "id": "615c91460319e4a3"
  }
 ],
 "metadata": {
  "kernelspec": {
   "display_name": "Python 3",
   "language": "python",
   "name": "python3"
  },
  "language_info": {
   "codemirror_mode": {
    "name": "ipython",
    "version": 2
   },
   "file_extension": ".py",
   "mimetype": "text/x-python",
   "name": "python",
   "nbconvert_exporter": "python",
   "pygments_lexer": "ipython2",
   "version": "2.7.6"
  }
 },
 "nbformat": 4,
 "nbformat_minor": 5
}
