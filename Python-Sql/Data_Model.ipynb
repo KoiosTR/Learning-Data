{
 "cells": [
  {
   "cell_type": "code",
   "execution_count": 1,
   "metadata": {},
   "outputs": [
    {
     "name": "stdout",
     "output_type": "stream",
     "text": [
      "Collecting psycopg2\n",
      "  Downloading psycopg2-2.9.9-cp38-cp38-win_amd64.whl.metadata (4.5 kB)\n",
      "Downloading psycopg2-2.9.9-cp38-cp38-win_amd64.whl (1.2 MB)\n",
      "   ---------------------------------------- 0.0/1.2 MB ? eta -:--:--\n",
      "   ---------------------------------------- 0.0/1.2 MB ? eta -:--:--\n",
      "   - -------------------------------------- 0.0/1.2 MB 435.7 kB/s eta 0:00:03\n",
      "   - -------------------------------------- 0.0/1.2 MB 435.7 kB/s eta 0:00:03\n",
      "   - -------------------------------------- 0.0/1.2 MB 245.8 kB/s eta 0:00:05\n",
      "   - -------------------------------------- 0.0/1.2 MB 245.8 kB/s eta 0:00:05\n",
      "   -- ------------------------------------- 0.1/1.2 MB 252.2 kB/s eta 0:00:05\n",
      "   -- ------------------------------------- 0.1/1.2 MB 231.0 kB/s eta 0:00:05\n",
      "   --- ------------------------------------ 0.1/1.2 MB 261.7 kB/s eta 0:00:05\n",
      "   --- ------------------------------------ 0.1/1.2 MB 284.4 kB/s eta 0:00:04\n",
      "   ---- ----------------------------------- 0.1/1.2 MB 266.9 kB/s eta 0:00:04\n",
      "   ---- ----------------------------------- 0.1/1.2 MB 274.5 kB/s eta 0:00:04\n",
      "   ---- ----------------------------------- 0.1/1.2 MB 274.5 kB/s eta 0:00:04\n",
      "   ------ --------------------------------- 0.2/1.2 MB 291.0 kB/s eta 0:00:04\n",
      "   ------ --------------------------------- 0.2/1.2 MB 302.2 kB/s eta 0:00:04\n",
      "   ------- -------------------------------- 0.2/1.2 MB 296.1 kB/s eta 0:00:04\n",
      "   ------- -------------------------------- 0.2/1.2 MB 296.1 kB/s eta 0:00:04\n",
      "   ------- -------------------------------- 0.2/1.2 MB 296.1 kB/s eta 0:00:04\n",
      "   -------- ------------------------------- 0.3/1.2 MB 308.4 kB/s eta 0:00:03\n",
      "   -------- ------------------------------- 0.3/1.2 MB 308.4 kB/s eta 0:00:03\n",
      "   --------- ------------------------------ 0.3/1.2 MB 309.6 kB/s eta 0:00:03\n",
      "   --------- ------------------------------ 0.3/1.2 MB 294.8 kB/s eta 0:00:03\n",
      "   ---------- ----------------------------- 0.3/1.2 MB 297.0 kB/s eta 0:00:03\n",
      "   ---------- ----------------------------- 0.3/1.2 MB 297.0 kB/s eta 0:00:03\n",
      "   ---------- ----------------------------- 0.3/1.2 MB 293.4 kB/s eta 0:00:03\n",
      "   ----------- ---------------------------- 0.3/1.2 MB 295.2 kB/s eta 0:00:03\n",
      "   ------------ --------------------------- 0.4/1.2 MB 300.9 kB/s eta 0:00:03\n",
      "   ------------ --------------------------- 0.4/1.2 MB 294.0 kB/s eta 0:00:03\n",
      "   ------------ --------------------------- 0.4/1.2 MB 294.0 kB/s eta 0:00:03\n",
      "   ------------- -------------------------- 0.4/1.2 MB 295.5 kB/s eta 0:00:03\n",
      "   ------------- -------------------------- 0.4/1.2 MB 289.5 kB/s eta 0:00:03\n",
      "   -------------- ------------------------- 0.4/1.2 MB 294.5 kB/s eta 0:00:03\n",
      "   --------------- ------------------------ 0.4/1.2 MB 296.0 kB/s eta 0:00:03\n",
      "   --------------- ------------------------ 0.4/1.2 MB 296.0 kB/s eta 0:00:03\n",
      "   ---------------- ----------------------- 0.5/1.2 MB 297.9 kB/s eta 0:00:03\n",
      "   ---------------- ----------------------- 0.5/1.2 MB 292.6 kB/s eta 0:00:03\n",
      "   ----------------- ---------------------- 0.5/1.2 MB 296.6 kB/s eta 0:00:03\n",
      "   ------------------ --------------------- 0.5/1.2 MB 303.3 kB/s eta 0:00:03\n",
      "   ------------------ --------------------- 0.5/1.2 MB 303.3 kB/s eta 0:00:03\n",
      "   ------------------- -------------------- 0.6/1.2 MB 304.6 kB/s eta 0:00:02\n",
      "   ------------------- -------------------- 0.6/1.2 MB 302.5 kB/s eta 0:00:02\n",
      "   -------------------- ------------------- 0.6/1.2 MB 305.8 kB/s eta 0:00:02\n",
      "   -------------------- ------------------- 0.6/1.2 MB 309.0 kB/s eta 0:00:02\n",
      "   --------------------- ------------------ 0.6/1.2 MB 306.8 kB/s eta 0:00:02\n",
      "   --------------------- ------------------ 0.6/1.2 MB 312.3 kB/s eta 0:00:02\n",
      "   ----------------------- ---------------- 0.7/1.2 MB 315.4 kB/s eta 0:00:02\n",
      "   ----------------------- ---------------- 0.7/1.2 MB 318.0 kB/s eta 0:00:02\n",
      "   ------------------------ --------------- 0.7/1.2 MB 318.1 kB/s eta 0:00:02\n",
      "   ------------------------ --------------- 0.7/1.2 MB 320.7 kB/s eta 0:00:02\n",
      "   ------------------------ --------------- 0.7/1.2 MB 320.7 kB/s eta 0:00:02\n",
      "   ------------------------ --------------- 0.7/1.2 MB 320.7 kB/s eta 0:00:02\n",
      "   -------------------------- ------------- 0.8/1.2 MB 323.3 kB/s eta 0:00:02\n",
      "   -------------------------- ------------- 0.8/1.2 MB 323.4 kB/s eta 0:00:02\n",
      "   --------------------------- ------------ 0.8/1.2 MB 323.4 kB/s eta 0:00:02\n",
      "   --------------------------- ------------ 0.8/1.2 MB 321.4 kB/s eta 0:00:02\n",
      "   ---------------------------- ----------- 0.8/1.2 MB 323.5 kB/s eta 0:00:02\n",
      "   ----------------------------- ---------- 0.8/1.2 MB 323.7 kB/s eta 0:00:01\n",
      "   ----------------------------- ---------- 0.9/1.2 MB 321.8 kB/s eta 0:00:01\n",
      "   ------------------------------ --------- 0.9/1.2 MB 323.9 kB/s eta 0:00:01\n",
      "   ------------------------------- -------- 0.9/1.2 MB 325.8 kB/s eta 0:00:01\n",
      "   -------------------------------- ------- 0.9/1.2 MB 327.6 kB/s eta 0:00:01\n",
      "   -------------------------------- ------- 0.9/1.2 MB 327.6 kB/s eta 0:00:01\n",
      "   --------------------------------- ------ 1.0/1.2 MB 325.9 kB/s eta 0:00:01\n",
      "   --------------------------------- ------ 1.0/1.2 MB 325.9 kB/s eta 0:00:01\n",
      "   ---------------------------------- ----- 1.0/1.2 MB 327.7 kB/s eta 0:00:01\n",
      "   ----------------------------------- ---- 1.0/1.2 MB 327.6 kB/s eta 0:00:01\n",
      "   ----------------------------------- ---- 1.0/1.2 MB 327.7 kB/s eta 0:00:01\n",
      "   ------------------------------------ --- 1.1/1.2 MB 327.6 kB/s eta 0:00:01\n",
      "   ------------------------------------- -- 1.1/1.2 MB 329.2 kB/s eta 0:00:01\n",
      "   ------------------------------------- -- 1.1/1.2 MB 334.0 kB/s eta 0:00:01\n",
      "   -------------------------------------- - 1.1/1.2 MB 335.4 kB/s eta 0:00:01\n",
      "   ---------------------------------------  1.1/1.2 MB 333.7 kB/s eta 0:00:01\n",
      "   ---------------------------------------- 1.2/1.2 MB 336.2 kB/s eta 0:00:00\n",
      "Installing collected packages: psycopg2\n",
      "Successfully installed psycopg2-2.9.9\n"
     ]
    }
   ],
   "source": [
    "!pip install psycopg2"
   ]
  },
  {
   "cell_type": "code",
   "execution_count": 2,
   "metadata": {},
   "outputs": [],
   "source": [
    "import psycopg2"
   ]
  },
  {
   "cell_type": "code",
   "execution_count": 3,
   "metadata": {},
   "outputs": [],
   "source": [
    "try: \n",
    "    conn = psycopg2.connect(\"host=127.0.0.1 dbname=postgres user=postgres password=1234\")\n",
    "except psycopg2.Error as e :\n",
    "    print(\"Error: Could not make connection to the Postgres Database\")\n",
    "    print(e)"
   ]
  },
  {
   "cell_type": "code",
   "execution_count": 4,
   "metadata": {},
   "outputs": [],
   "source": [
    "try: \n",
    "    cur = conn.cursor()\n",
    "except psycopg2.Error as e :\n",
    "    print(\"Error: Could not get curser to the Database\")\n",
    "    print(e)"
   ]
  },
  {
   "cell_type": "code",
   "execution_count": 5,
   "metadata": {},
   "outputs": [],
   "source": [
    "conn.set_session(autocommit=True)"
   ]
  },
  {
   "cell_type": "code",
   "execution_count": 6,
   "metadata": {},
   "outputs": [
    {
     "name": "stdout",
     "output_type": "stream",
     "text": [
      "database \"myfirstdb\" already exists\n",
      "\n"
     ]
    }
   ],
   "source": [
    "try:\n",
    "    cur.execute(\"create database myfirstdb\")\n",
    "except psycopg2.Error as e:\n",
    "    print(e)"
   ]
  },
  {
   "cell_type": "code",
   "execution_count": 7,
   "metadata": {},
   "outputs": [],
   "source": [
    "try:\n",
    "    conn.close()\n",
    "except psycopg2.Error as e:\n",
    "    print(e)\n",
    "\n",
    "try:\n",
    "    conn = psycopg2.connect(\"host=127.0.0.1 dbname=myfirstdb user=postgres password=1234\")\n",
    "except psycopg2.Error as e:\n",
    "    print(\"Error: Could not make connection to the Postgres Database\")\n",
    "    print(e)\n",
    "\n",
    "try: \n",
    "    cur = conn.cursor()\n",
    "except psycopg2.Error as e:\n",
    "    print(\"Error: Could not get curser to the Database\")\n",
    "    print(e)\n",
    "\n",
    "conn.set_session(autocommit=True)"
   ]
  },
  {
   "cell_type": "code",
   "execution_count": 8,
   "metadata": {},
   "outputs": [],
   "source": [
    "try: \n",
    "    cur.execute(\"CREATE TABLE IF NOT EXISTS students (student_id int,name varchar,\\\n",
    "                age int,gender varchar,subject varchar,marks int);\")\n",
    "except psycopg2.Error as e:\n",
    "    print(\"Error: Issue creating table\")\n",
    "    print(e)"
   ]
  },
  {
   "cell_type": "code",
   "execution_count": 9,
   "metadata": {},
   "outputs": [],
   "source": [
    "try:\n",
    "    cur.execute(\"INSERT INTO students (student_id, name, age, gender, subject, marks) \\\n",
    "                VALUES (%s, %s, %s, %s, %s, %s)\", \\\n",
    "                (1, \"Arda\", 19, \"Male\", \"Python\", 85))\n",
    "except psycopg2.Error as e:\n",
    "    print(\"Error: Inserting Rows\")\n",
    "    print(e)\n",
    "\n",
    "try:\n",
    "    cur.execute(\"INSERT INTO students (student_id, name, age, gender, subject, marks) \\\n",
    "                VALUES(%s,%s,%s,%s,%s,%s)\", \\\n",
    "                (2, \"John\", 20, \"Male\", \"Python\", 86))\n",
    "except psycopg2.Error as e:\n",
    "    print(\"Error: Inserting Rows\")\n",
    "    print(e)"
   ]
  },
  {
   "cell_type": "code",
   "execution_count": 10,
   "metadata": {},
   "outputs": [
    {
     "name": "stdout",
     "output_type": "stream",
     "text": [
      "(1, 'Arda', 19, 'Male', 'Python', 85)\n",
      "(2, 'John', 20, 'Male', 'Python', 86)\n",
      "(1, 'Arda', 19, 'Male', 'Python', 85)\n",
      "(2, 'John', 20, 'Male', 'Python', 86)\n"
     ]
    }
   ],
   "source": [
    "try:\n",
    "    cur.execute(\"SELECT * FROM students;\")\n",
    "except psycopg2.Error as e:\n",
    "    print(\"Error: select *\")\n",
    "    print(e)\n",
    "\n",
    "row = cur.fetchone()\n",
    "while row:\n",
    "    print(row)\n",
    "    row = cur.fetchone()"
   ]
  },
  {
   "cell_type": "code",
   "execution_count": 11,
   "metadata": {},
   "outputs": [],
   "source": [
    "cur.close()\n",
    "conn.close()"
   ]
  },
  {
   "cell_type": "code",
   "execution_count": null,
   "metadata": {},
   "outputs": [],
   "source": []
  }
 ],
 "metadata": {
  "kernelspec": {
   "display_name": "Learning-Data-Science",
   "language": "python",
   "name": "python3"
  },
  "language_info": {
   "codemirror_mode": {
    "name": "ipython",
    "version": 3
   },
   "file_extension": ".py",
   "mimetype": "text/x-python",
   "name": "python",
   "nbconvert_exporter": "python",
   "pygments_lexer": "ipython3",
   "version": "3.8.19"
  }
 },
 "nbformat": 4,
 "nbformat_minor": 2
}
